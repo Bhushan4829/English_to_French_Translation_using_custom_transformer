{
  "nbformat": 4,
  "nbformat_minor": 0,
  "metadata": {
    "colab": {
      "provenance": [],
      "machine_shape": "hm",
      "gpuType": "A100"
    },
    "kernelspec": {
      "name": "python3",
      "display_name": "Python 3"
    },
    "language_info": {
      "name": "python"
    },
    "accelerator": "GPU",
    "widgets": {
      "application/vnd.jupyter.widget-state+json": {
        "8fda90f9246e491d819763798e5b1f3b": {
          "model_module": "@jupyter-widgets/controls",
          "model_name": "HBoxModel",
          "model_module_version": "1.5.0",
          "state": {
            "_dom_classes": [],
            "_model_module": "@jupyter-widgets/controls",
            "_model_module_version": "1.5.0",
            "_model_name": "HBoxModel",
            "_view_count": null,
            "_view_module": "@jupyter-widgets/controls",
            "_view_module_version": "1.5.0",
            "_view_name": "HBoxView",
            "box_style": "",
            "children": [
              "IPY_MODEL_963f63f27e0840468651571ff61fa32c",
              "IPY_MODEL_f3bc53db8eb4427ba163ada236962877",
              "IPY_MODEL_7c9c39a5d5ca489fa67e67b296378786"
            ],
            "layout": "IPY_MODEL_1265ad9536ca40819750d1e0ca6a7b88"
          }
        },
        "963f63f27e0840468651571ff61fa32c": {
          "model_module": "@jupyter-widgets/controls",
          "model_name": "HTMLModel",
          "model_module_version": "1.5.0",
          "state": {
            "_dom_classes": [],
            "_model_module": "@jupyter-widgets/controls",
            "_model_module_version": "1.5.0",
            "_model_name": "HTMLModel",
            "_view_count": null,
            "_view_module": "@jupyter-widgets/controls",
            "_view_module_version": "1.5.0",
            "_view_name": "HTMLView",
            "description": "",
            "description_tooltip": null,
            "layout": "IPY_MODEL_bf5bcc13b13043efb56fab1a0128a129",
            "placeholder": "​",
            "style": "IPY_MODEL_fd7a06a2787d4c288c9d96343135fec0",
            "value": "Downloading data: 100%"
          }
        },
        "f3bc53db8eb4427ba163ada236962877": {
          "model_module": "@jupyter-widgets/controls",
          "model_name": "FloatProgressModel",
          "model_module_version": "1.5.0",
          "state": {
            "_dom_classes": [],
            "_model_module": "@jupyter-widgets/controls",
            "_model_module_version": "1.5.0",
            "_model_name": "FloatProgressModel",
            "_view_count": null,
            "_view_module": "@jupyter-widgets/controls",
            "_view_module_version": "1.5.0",
            "_view_name": "ProgressView",
            "bar_style": "success",
            "description": "",
            "description_tooltip": null,
            "layout": "IPY_MODEL_a291d9a5cf4c4245baf9f8bcf9abdd7a",
            "max": 599344244,
            "min": 0,
            "orientation": "horizontal",
            "style": "IPY_MODEL_c790d85dc3734013bb291febecd80985",
            "value": 599344244
          }
        },
        "7c9c39a5d5ca489fa67e67b296378786": {
          "model_module": "@jupyter-widgets/controls",
          "model_name": "HTMLModel",
          "model_module_version": "1.5.0",
          "state": {
            "_dom_classes": [],
            "_model_module": "@jupyter-widgets/controls",
            "_model_module_version": "1.5.0",
            "_model_name": "HTMLModel",
            "_view_count": null,
            "_view_module": "@jupyter-widgets/controls",
            "_view_module_version": "1.5.0",
            "_view_name": "HTMLView",
            "description": "",
            "description_tooltip": null,
            "layout": "IPY_MODEL_30eb8e1847794b759b07cc5213758788",
            "placeholder": "​",
            "style": "IPY_MODEL_ec31b689ede24e48b4deecfaa168bbad",
            "value": " 599M/599M [00:01&lt;00:00, 517MB/s]"
          }
        },
        "1265ad9536ca40819750d1e0ca6a7b88": {
          "model_module": "@jupyter-widgets/base",
          "model_name": "LayoutModel",
          "model_module_version": "1.2.0",
          "state": {
            "_model_module": "@jupyter-widgets/base",
            "_model_module_version": "1.2.0",
            "_model_name": "LayoutModel",
            "_view_count": null,
            "_view_module": "@jupyter-widgets/base",
            "_view_module_version": "1.2.0",
            "_view_name": "LayoutView",
            "align_content": null,
            "align_items": null,
            "align_self": null,
            "border": null,
            "bottom": null,
            "display": null,
            "flex": null,
            "flex_flow": null,
            "grid_area": null,
            "grid_auto_columns": null,
            "grid_auto_flow": null,
            "grid_auto_rows": null,
            "grid_column": null,
            "grid_gap": null,
            "grid_row": null,
            "grid_template_areas": null,
            "grid_template_columns": null,
            "grid_template_rows": null,
            "height": null,
            "justify_content": null,
            "justify_items": null,
            "left": null,
            "margin": null,
            "max_height": null,
            "max_width": null,
            "min_height": null,
            "min_width": null,
            "object_fit": null,
            "object_position": null,
            "order": null,
            "overflow": null,
            "overflow_x": null,
            "overflow_y": null,
            "padding": null,
            "right": null,
            "top": null,
            "visibility": null,
            "width": null
          }
        },
        "bf5bcc13b13043efb56fab1a0128a129": {
          "model_module": "@jupyter-widgets/base",
          "model_name": "LayoutModel",
          "model_module_version": "1.2.0",
          "state": {
            "_model_module": "@jupyter-widgets/base",
            "_model_module_version": "1.2.0",
            "_model_name": "LayoutModel",
            "_view_count": null,
            "_view_module": "@jupyter-widgets/base",
            "_view_module_version": "1.2.0",
            "_view_name": "LayoutView",
            "align_content": null,
            "align_items": null,
            "align_self": null,
            "border": null,
            "bottom": null,
            "display": null,
            "flex": null,
            "flex_flow": null,
            "grid_area": null,
            "grid_auto_columns": null,
            "grid_auto_flow": null,
            "grid_auto_rows": null,
            "grid_column": null,
            "grid_gap": null,
            "grid_row": null,
            "grid_template_areas": null,
            "grid_template_columns": null,
            "grid_template_rows": null,
            "height": null,
            "justify_content": null,
            "justify_items": null,
            "left": null,
            "margin": null,
            "max_height": null,
            "max_width": null,
            "min_height": null,
            "min_width": null,
            "object_fit": null,
            "object_position": null,
            "order": null,
            "overflow": null,
            "overflow_x": null,
            "overflow_y": null,
            "padding": null,
            "right": null,
            "top": null,
            "visibility": null,
            "width": null
          }
        },
        "fd7a06a2787d4c288c9d96343135fec0": {
          "model_module": "@jupyter-widgets/controls",
          "model_name": "DescriptionStyleModel",
          "model_module_version": "1.5.0",
          "state": {
            "_model_module": "@jupyter-widgets/controls",
            "_model_module_version": "1.5.0",
            "_model_name": "DescriptionStyleModel",
            "_view_count": null,
            "_view_module": "@jupyter-widgets/base",
            "_view_module_version": "1.2.0",
            "_view_name": "StyleView",
            "description_width": ""
          }
        },
        "a291d9a5cf4c4245baf9f8bcf9abdd7a": {
          "model_module": "@jupyter-widgets/base",
          "model_name": "LayoutModel",
          "model_module_version": "1.2.0",
          "state": {
            "_model_module": "@jupyter-widgets/base",
            "_model_module_version": "1.2.0",
            "_model_name": "LayoutModel",
            "_view_count": null,
            "_view_module": "@jupyter-widgets/base",
            "_view_module_version": "1.2.0",
            "_view_name": "LayoutView",
            "align_content": null,
            "align_items": null,
            "align_self": null,
            "border": null,
            "bottom": null,
            "display": null,
            "flex": null,
            "flex_flow": null,
            "grid_area": null,
            "grid_auto_columns": null,
            "grid_auto_flow": null,
            "grid_auto_rows": null,
            "grid_column": null,
            "grid_gap": null,
            "grid_row": null,
            "grid_template_areas": null,
            "grid_template_columns": null,
            "grid_template_rows": null,
            "height": null,
            "justify_content": null,
            "justify_items": null,
            "left": null,
            "margin": null,
            "max_height": null,
            "max_width": null,
            "min_height": null,
            "min_width": null,
            "object_fit": null,
            "object_position": null,
            "order": null,
            "overflow": null,
            "overflow_x": null,
            "overflow_y": null,
            "padding": null,
            "right": null,
            "top": null,
            "visibility": null,
            "width": null
          }
        },
        "c790d85dc3734013bb291febecd80985": {
          "model_module": "@jupyter-widgets/controls",
          "model_name": "ProgressStyleModel",
          "model_module_version": "1.5.0",
          "state": {
            "_model_module": "@jupyter-widgets/controls",
            "_model_module_version": "1.5.0",
            "_model_name": "ProgressStyleModel",
            "_view_count": null,
            "_view_module": "@jupyter-widgets/base",
            "_view_module_version": "1.2.0",
            "_view_name": "StyleView",
            "bar_color": null,
            "description_width": ""
          }
        },
        "30eb8e1847794b759b07cc5213758788": {
          "model_module": "@jupyter-widgets/base",
          "model_name": "LayoutModel",
          "model_module_version": "1.2.0",
          "state": {
            "_model_module": "@jupyter-widgets/base",
            "_model_module_version": "1.2.0",
            "_model_name": "LayoutModel",
            "_view_count": null,
            "_view_module": "@jupyter-widgets/base",
            "_view_module_version": "1.2.0",
            "_view_name": "LayoutView",
            "align_content": null,
            "align_items": null,
            "align_self": null,
            "border": null,
            "bottom": null,
            "display": null,
            "flex": null,
            "flex_flow": null,
            "grid_area": null,
            "grid_auto_columns": null,
            "grid_auto_flow": null,
            "grid_auto_rows": null,
            "grid_column": null,
            "grid_gap": null,
            "grid_row": null,
            "grid_template_areas": null,
            "grid_template_columns": null,
            "grid_template_rows": null,
            "height": null,
            "justify_content": null,
            "justify_items": null,
            "left": null,
            "margin": null,
            "max_height": null,
            "max_width": null,
            "min_height": null,
            "min_width": null,
            "object_fit": null,
            "object_position": null,
            "order": null,
            "overflow": null,
            "overflow_x": null,
            "overflow_y": null,
            "padding": null,
            "right": null,
            "top": null,
            "visibility": null,
            "width": null
          }
        },
        "ec31b689ede24e48b4deecfaa168bbad": {
          "model_module": "@jupyter-widgets/controls",
          "model_name": "DescriptionStyleModel",
          "model_module_version": "1.5.0",
          "state": {
            "_model_module": "@jupyter-widgets/controls",
            "_model_module_version": "1.5.0",
            "_model_name": "DescriptionStyleModel",
            "_view_count": null,
            "_view_module": "@jupyter-widgets/base",
            "_view_module_version": "1.2.0",
            "_view_name": "StyleView",
            "description_width": ""
          }
        },
        "aecea578e5df42a3aad2813be7e4e38c": {
          "model_module": "@jupyter-widgets/controls",
          "model_name": "HBoxModel",
          "model_module_version": "1.5.0",
          "state": {
            "_dom_classes": [],
            "_model_module": "@jupyter-widgets/controls",
            "_model_module_version": "1.5.0",
            "_model_name": "HBoxModel",
            "_view_count": null,
            "_view_module": "@jupyter-widgets/controls",
            "_view_module_version": "1.5.0",
            "_view_name": "HBoxView",
            "box_style": "",
            "children": [
              "IPY_MODEL_f57f22bc4b92411d9e07d79eec715555",
              "IPY_MODEL_62f6023b3f1d4783a1204a6bf6d9c914",
              "IPY_MODEL_430f8199bedd4942b8b023bde310566f"
            ],
            "layout": "IPY_MODEL_7ae3ad1b9e5f422c8c99a787ce08db38"
          }
        },
        "f57f22bc4b92411d9e07d79eec715555": {
          "model_module": "@jupyter-widgets/controls",
          "model_name": "HTMLModel",
          "model_module_version": "1.5.0",
          "state": {
            "_dom_classes": [],
            "_model_module": "@jupyter-widgets/controls",
            "_model_module_version": "1.5.0",
            "_model_name": "HTMLModel",
            "_view_count": null,
            "_view_module": "@jupyter-widgets/controls",
            "_view_module_version": "1.5.0",
            "_view_name": "HTMLView",
            "description": "",
            "description_tooltip": null,
            "layout": "IPY_MODEL_4cfac25ec920403abbfa2b6e0065223d",
            "placeholder": "​",
            "style": "IPY_MODEL_917ffc43fd5a471c91673f8746b68c89",
            "value": "Generating train split: 100%"
          }
        },
        "62f6023b3f1d4783a1204a6bf6d9c914": {
          "model_module": "@jupyter-widgets/controls",
          "model_name": "FloatProgressModel",
          "model_module_version": "1.5.0",
          "state": {
            "_dom_classes": [],
            "_model_module": "@jupyter-widgets/controls",
            "_model_module_version": "1.5.0",
            "_model_name": "FloatProgressModel",
            "_view_count": null,
            "_view_module": "@jupyter-widgets/controls",
            "_view_module_version": "1.5.0",
            "_view_name": "ProgressView",
            "bar_style": "success",
            "description": "",
            "description_tooltip": null,
            "layout": "IPY_MODEL_127463fe92594ee5b61e8f4d1953bdd8",
            "max": 1825077,
            "min": 0,
            "orientation": "horizontal",
            "style": "IPY_MODEL_957e2f820e7e4a36b8eb07af07040117",
            "value": 1825077
          }
        },
        "430f8199bedd4942b8b023bde310566f": {
          "model_module": "@jupyter-widgets/controls",
          "model_name": "HTMLModel",
          "model_module_version": "1.5.0",
          "state": {
            "_dom_classes": [],
            "_model_module": "@jupyter-widgets/controls",
            "_model_module_version": "1.5.0",
            "_model_name": "HTMLModel",
            "_view_count": null,
            "_view_module": "@jupyter-widgets/controls",
            "_view_module_version": "1.5.0",
            "_view_name": "HTMLView",
            "description": "",
            "description_tooltip": null,
            "layout": "IPY_MODEL_b83c9978145944cc8317be0169401cc1",
            "placeholder": "​",
            "style": "IPY_MODEL_b4fa8cd6396d488ebebfd39201060893",
            "value": " 1825077/1825077 [00:10&lt;00:00, 184017.24 examples/s]"
          }
        },
        "7ae3ad1b9e5f422c8c99a787ce08db38": {
          "model_module": "@jupyter-widgets/base",
          "model_name": "LayoutModel",
          "model_module_version": "1.2.0",
          "state": {
            "_model_module": "@jupyter-widgets/base",
            "_model_module_version": "1.2.0",
            "_model_name": "LayoutModel",
            "_view_count": null,
            "_view_module": "@jupyter-widgets/base",
            "_view_module_version": "1.2.0",
            "_view_name": "LayoutView",
            "align_content": null,
            "align_items": null,
            "align_self": null,
            "border": null,
            "bottom": null,
            "display": null,
            "flex": null,
            "flex_flow": null,
            "grid_area": null,
            "grid_auto_columns": null,
            "grid_auto_flow": null,
            "grid_auto_rows": null,
            "grid_column": null,
            "grid_gap": null,
            "grid_row": null,
            "grid_template_areas": null,
            "grid_template_columns": null,
            "grid_template_rows": null,
            "height": null,
            "justify_content": null,
            "justify_items": null,
            "left": null,
            "margin": null,
            "max_height": null,
            "max_width": null,
            "min_height": null,
            "min_width": null,
            "object_fit": null,
            "object_position": null,
            "order": null,
            "overflow": null,
            "overflow_x": null,
            "overflow_y": null,
            "padding": null,
            "right": null,
            "top": null,
            "visibility": null,
            "width": null
          }
        },
        "4cfac25ec920403abbfa2b6e0065223d": {
          "model_module": "@jupyter-widgets/base",
          "model_name": "LayoutModel",
          "model_module_version": "1.2.0",
          "state": {
            "_model_module": "@jupyter-widgets/base",
            "_model_module_version": "1.2.0",
            "_model_name": "LayoutModel",
            "_view_count": null,
            "_view_module": "@jupyter-widgets/base",
            "_view_module_version": "1.2.0",
            "_view_name": "LayoutView",
            "align_content": null,
            "align_items": null,
            "align_self": null,
            "border": null,
            "bottom": null,
            "display": null,
            "flex": null,
            "flex_flow": null,
            "grid_area": null,
            "grid_auto_columns": null,
            "grid_auto_flow": null,
            "grid_auto_rows": null,
            "grid_column": null,
            "grid_gap": null,
            "grid_row": null,
            "grid_template_areas": null,
            "grid_template_columns": null,
            "grid_template_rows": null,
            "height": null,
            "justify_content": null,
            "justify_items": null,
            "left": null,
            "margin": null,
            "max_height": null,
            "max_width": null,
            "min_height": null,
            "min_width": null,
            "object_fit": null,
            "object_position": null,
            "order": null,
            "overflow": null,
            "overflow_x": null,
            "overflow_y": null,
            "padding": null,
            "right": null,
            "top": null,
            "visibility": null,
            "width": null
          }
        },
        "917ffc43fd5a471c91673f8746b68c89": {
          "model_module": "@jupyter-widgets/controls",
          "model_name": "DescriptionStyleModel",
          "model_module_version": "1.5.0",
          "state": {
            "_model_module": "@jupyter-widgets/controls",
            "_model_module_version": "1.5.0",
            "_model_name": "DescriptionStyleModel",
            "_view_count": null,
            "_view_module": "@jupyter-widgets/base",
            "_view_module_version": "1.2.0",
            "_view_name": "StyleView",
            "description_width": ""
          }
        },
        "127463fe92594ee5b61e8f4d1953bdd8": {
          "model_module": "@jupyter-widgets/base",
          "model_name": "LayoutModel",
          "model_module_version": "1.2.0",
          "state": {
            "_model_module": "@jupyter-widgets/base",
            "_model_module_version": "1.2.0",
            "_model_name": "LayoutModel",
            "_view_count": null,
            "_view_module": "@jupyter-widgets/base",
            "_view_module_version": "1.2.0",
            "_view_name": "LayoutView",
            "align_content": null,
            "align_items": null,
            "align_self": null,
            "border": null,
            "bottom": null,
            "display": null,
            "flex": null,
            "flex_flow": null,
            "grid_area": null,
            "grid_auto_columns": null,
            "grid_auto_flow": null,
            "grid_auto_rows": null,
            "grid_column": null,
            "grid_gap": null,
            "grid_row": null,
            "grid_template_areas": null,
            "grid_template_columns": null,
            "grid_template_rows": null,
            "height": null,
            "justify_content": null,
            "justify_items": null,
            "left": null,
            "margin": null,
            "max_height": null,
            "max_width": null,
            "min_height": null,
            "min_width": null,
            "object_fit": null,
            "object_position": null,
            "order": null,
            "overflow": null,
            "overflow_x": null,
            "overflow_y": null,
            "padding": null,
            "right": null,
            "top": null,
            "visibility": null,
            "width": null
          }
        },
        "957e2f820e7e4a36b8eb07af07040117": {
          "model_module": "@jupyter-widgets/controls",
          "model_name": "ProgressStyleModel",
          "model_module_version": "1.5.0",
          "state": {
            "_model_module": "@jupyter-widgets/controls",
            "_model_module_version": "1.5.0",
            "_model_name": "ProgressStyleModel",
            "_view_count": null,
            "_view_module": "@jupyter-widgets/base",
            "_view_module_version": "1.2.0",
            "_view_name": "StyleView",
            "bar_color": null,
            "description_width": ""
          }
        },
        "b83c9978145944cc8317be0169401cc1": {
          "model_module": "@jupyter-widgets/base",
          "model_name": "LayoutModel",
          "model_module_version": "1.2.0",
          "state": {
            "_model_module": "@jupyter-widgets/base",
            "_model_module_version": "1.2.0",
            "_model_name": "LayoutModel",
            "_view_count": null,
            "_view_module": "@jupyter-widgets/base",
            "_view_module_version": "1.2.0",
            "_view_name": "LayoutView",
            "align_content": null,
            "align_items": null,
            "align_self": null,
            "border": null,
            "bottom": null,
            "display": null,
            "flex": null,
            "flex_flow": null,
            "grid_area": null,
            "grid_auto_columns": null,
            "grid_auto_flow": null,
            "grid_auto_rows": null,
            "grid_column": null,
            "grid_gap": null,
            "grid_row": null,
            "grid_template_areas": null,
            "grid_template_columns": null,
            "grid_template_rows": null,
            "height": null,
            "justify_content": null,
            "justify_items": null,
            "left": null,
            "margin": null,
            "max_height": null,
            "max_width": null,
            "min_height": null,
            "min_width": null,
            "object_fit": null,
            "object_position": null,
            "order": null,
            "overflow": null,
            "overflow_x": null,
            "overflow_y": null,
            "padding": null,
            "right": null,
            "top": null,
            "visibility": null,
            "width": null
          }
        },
        "b4fa8cd6396d488ebebfd39201060893": {
          "model_module": "@jupyter-widgets/controls",
          "model_name": "DescriptionStyleModel",
          "model_module_version": "1.5.0",
          "state": {
            "_model_module": "@jupyter-widgets/controls",
            "_model_module_version": "1.5.0",
            "_model_name": "DescriptionStyleModel",
            "_view_count": null,
            "_view_module": "@jupyter-widgets/base",
            "_view_module_version": "1.2.0",
            "_view_name": "StyleView",
            "description_width": ""
          }
        }
      }
    }
  },
  "cells": [
    {
      "cell_type": "code",
      "source": [
        "!pip install transformers\n",
        "!pip install huggingface_hub\n",
        "!pip install datasets"
      ],
      "metadata": {
        "colab": {
          "base_uri": "https://localhost:8080/"
        },
        "id": "jRPxSceKWGqY",
        "outputId": "027f30bb-b176-424a-fd8b-7178696ccca4"
      },
      "execution_count": null,
      "outputs": [
        {
          "output_type": "stream",
          "name": "stdout",
          "text": [
            "Requirement already satisfied: transformers in /usr/local/lib/python3.10/dist-packages (4.40.0)\n",
            "Requirement already satisfied: filelock in /usr/local/lib/python3.10/dist-packages (from transformers) (3.13.4)\n",
            "Requirement already satisfied: huggingface-hub<1.0,>=0.19.3 in /usr/local/lib/python3.10/dist-packages (from transformers) (0.20.3)\n",
            "Requirement already satisfied: numpy>=1.17 in /usr/local/lib/python3.10/dist-packages (from transformers) (1.25.2)\n",
            "Requirement already satisfied: packaging>=20.0 in /usr/local/lib/python3.10/dist-packages (from transformers) (24.0)\n",
            "Requirement already satisfied: pyyaml>=5.1 in /usr/local/lib/python3.10/dist-packages (from transformers) (6.0.1)\n",
            "Requirement already satisfied: regex!=2019.12.17 in /usr/local/lib/python3.10/dist-packages (from transformers) (2023.12.25)\n",
            "Requirement already satisfied: requests in /usr/local/lib/python3.10/dist-packages (from transformers) (2.31.0)\n",
            "Requirement already satisfied: tokenizers<0.20,>=0.19 in /usr/local/lib/python3.10/dist-packages (from transformers) (0.19.1)\n",
            "Requirement already satisfied: safetensors>=0.4.1 in /usr/local/lib/python3.10/dist-packages (from transformers) (0.4.3)\n",
            "Requirement already satisfied: tqdm>=4.27 in /usr/local/lib/python3.10/dist-packages (from transformers) (4.66.2)\n",
            "Requirement already satisfied: fsspec>=2023.5.0 in /usr/local/lib/python3.10/dist-packages (from huggingface-hub<1.0,>=0.19.3->transformers) (2023.6.0)\n",
            "Requirement already satisfied: typing-extensions>=3.7.4.3 in /usr/local/lib/python3.10/dist-packages (from huggingface-hub<1.0,>=0.19.3->transformers) (4.11.0)\n",
            "Requirement already satisfied: charset-normalizer<4,>=2 in /usr/local/lib/python3.10/dist-packages (from requests->transformers) (3.3.2)\n",
            "Requirement already satisfied: idna<4,>=2.5 in /usr/local/lib/python3.10/dist-packages (from requests->transformers) (3.7)\n",
            "Requirement already satisfied: urllib3<3,>=1.21.1 in /usr/local/lib/python3.10/dist-packages (from requests->transformers) (2.0.7)\n",
            "Requirement already satisfied: certifi>=2017.4.17 in /usr/local/lib/python3.10/dist-packages (from requests->transformers) (2024.2.2)\n",
            "Requirement already satisfied: huggingface_hub in /usr/local/lib/python3.10/dist-packages (0.20.3)\n",
            "Requirement already satisfied: filelock in /usr/local/lib/python3.10/dist-packages (from huggingface_hub) (3.13.4)\n",
            "Requirement already satisfied: fsspec>=2023.5.0 in /usr/local/lib/python3.10/dist-packages (from huggingface_hub) (2023.6.0)\n",
            "Requirement already satisfied: requests in /usr/local/lib/python3.10/dist-packages (from huggingface_hub) (2.31.0)\n",
            "Requirement already satisfied: tqdm>=4.42.1 in /usr/local/lib/python3.10/dist-packages (from huggingface_hub) (4.66.2)\n",
            "Requirement already satisfied: pyyaml>=5.1 in /usr/local/lib/python3.10/dist-packages (from huggingface_hub) (6.0.1)\n",
            "Requirement already satisfied: typing-extensions>=3.7.4.3 in /usr/local/lib/python3.10/dist-packages (from huggingface_hub) (4.11.0)\n",
            "Requirement already satisfied: packaging>=20.9 in /usr/local/lib/python3.10/dist-packages (from huggingface_hub) (24.0)\n",
            "Requirement already satisfied: charset-normalizer<4,>=2 in /usr/local/lib/python3.10/dist-packages (from requests->huggingface_hub) (3.3.2)\n",
            "Requirement already satisfied: idna<4,>=2.5 in /usr/local/lib/python3.10/dist-packages (from requests->huggingface_hub) (3.7)\n",
            "Requirement already satisfied: urllib3<3,>=1.21.1 in /usr/local/lib/python3.10/dist-packages (from requests->huggingface_hub) (2.0.7)\n",
            "Requirement already satisfied: certifi>=2017.4.17 in /usr/local/lib/python3.10/dist-packages (from requests->huggingface_hub) (2024.2.2)\n",
            "Collecting datasets\n",
            "  Downloading datasets-2.19.0-py3-none-any.whl (542 kB)\n",
            "\u001b[2K     \u001b[90m━━━━━━━━━━━━━━━━━━━━━━━━━━━━━━━━━━━━━━━━\u001b[0m \u001b[32m542.0/542.0 kB\u001b[0m \u001b[31m10.7 MB/s\u001b[0m eta \u001b[36m0:00:00\u001b[0m\n",
            "\u001b[?25hRequirement already satisfied: filelock in /usr/local/lib/python3.10/dist-packages (from datasets) (3.13.4)\n",
            "Requirement already satisfied: numpy>=1.17 in /usr/local/lib/python3.10/dist-packages (from datasets) (1.25.2)\n",
            "Requirement already satisfied: pyarrow>=12.0.0 in /usr/local/lib/python3.10/dist-packages (from datasets) (14.0.2)\n",
            "Requirement already satisfied: pyarrow-hotfix in /usr/local/lib/python3.10/dist-packages (from datasets) (0.6)\n",
            "Collecting dill<0.3.9,>=0.3.0 (from datasets)\n",
            "  Downloading dill-0.3.8-py3-none-any.whl (116 kB)\n",
            "\u001b[2K     \u001b[90m━━━━━━━━━━━━━━━━━━━━━━━━━━━━━━━━━━━━━━━━\u001b[0m \u001b[32m116.3/116.3 kB\u001b[0m \u001b[31m18.2 MB/s\u001b[0m eta \u001b[36m0:00:00\u001b[0m\n",
            "\u001b[?25hRequirement already satisfied: pandas in /usr/local/lib/python3.10/dist-packages (from datasets) (2.0.3)\n",
            "Requirement already satisfied: requests>=2.19.0 in /usr/local/lib/python3.10/dist-packages (from datasets) (2.31.0)\n",
            "Requirement already satisfied: tqdm>=4.62.1 in /usr/local/lib/python3.10/dist-packages (from datasets) (4.66.2)\n",
            "Collecting xxhash (from datasets)\n",
            "  Downloading xxhash-3.4.1-cp310-cp310-manylinux_2_17_x86_64.manylinux2014_x86_64.whl (194 kB)\n",
            "\u001b[2K     \u001b[90m━━━━━━━━━━━━━━━━━━━━━━━━━━━━━━━━━━━━━━━━\u001b[0m \u001b[32m194.1/194.1 kB\u001b[0m \u001b[31m26.3 MB/s\u001b[0m eta \u001b[36m0:00:00\u001b[0m\n",
            "\u001b[?25hCollecting multiprocess (from datasets)\n",
            "  Downloading multiprocess-0.70.16-py310-none-any.whl (134 kB)\n",
            "\u001b[2K     \u001b[90m━━━━━━━━━━━━━━━━━━━━━━━━━━━━━━━━━━━━━━━━\u001b[0m \u001b[32m134.8/134.8 kB\u001b[0m \u001b[31m21.1 MB/s\u001b[0m eta \u001b[36m0:00:00\u001b[0m\n",
            "\u001b[?25hRequirement already satisfied: fsspec[http]<=2024.3.1,>=2023.1.0 in /usr/local/lib/python3.10/dist-packages (from datasets) (2023.6.0)\n",
            "Requirement already satisfied: aiohttp in /usr/local/lib/python3.10/dist-packages (from datasets) (3.9.5)\n",
            "Collecting huggingface-hub>=0.21.2 (from datasets)\n",
            "  Downloading huggingface_hub-0.22.2-py3-none-any.whl (388 kB)\n",
            "\u001b[2K     \u001b[90m━━━━━━━━━━━━━━━━━━━━━━━━━━━━━━━━━━━━━━━━\u001b[0m \u001b[32m388.9/388.9 kB\u001b[0m \u001b[31m43.8 MB/s\u001b[0m eta \u001b[36m0:00:00\u001b[0m\n",
            "\u001b[?25hRequirement already satisfied: packaging in /usr/local/lib/python3.10/dist-packages (from datasets) (24.0)\n",
            "Requirement already satisfied: pyyaml>=5.1 in /usr/local/lib/python3.10/dist-packages (from datasets) (6.0.1)\n",
            "Requirement already satisfied: aiosignal>=1.1.2 in /usr/local/lib/python3.10/dist-packages (from aiohttp->datasets) (1.3.1)\n",
            "Requirement already satisfied: attrs>=17.3.0 in /usr/local/lib/python3.10/dist-packages (from aiohttp->datasets) (23.2.0)\n",
            "Requirement already satisfied: frozenlist>=1.1.1 in /usr/local/lib/python3.10/dist-packages (from aiohttp->datasets) (1.4.1)\n",
            "Requirement already satisfied: multidict<7.0,>=4.5 in /usr/local/lib/python3.10/dist-packages (from aiohttp->datasets) (6.0.5)\n",
            "Requirement already satisfied: yarl<2.0,>=1.0 in /usr/local/lib/python3.10/dist-packages (from aiohttp->datasets) (1.9.4)\n",
            "Requirement already satisfied: async-timeout<5.0,>=4.0 in /usr/local/lib/python3.10/dist-packages (from aiohttp->datasets) (4.0.3)\n",
            "Requirement already satisfied: typing-extensions>=3.7.4.3 in /usr/local/lib/python3.10/dist-packages (from huggingface-hub>=0.21.2->datasets) (4.11.0)\n",
            "Requirement already satisfied: charset-normalizer<4,>=2 in /usr/local/lib/python3.10/dist-packages (from requests>=2.19.0->datasets) (3.3.2)\n",
            "Requirement already satisfied: idna<4,>=2.5 in /usr/local/lib/python3.10/dist-packages (from requests>=2.19.0->datasets) (3.7)\n",
            "Requirement already satisfied: urllib3<3,>=1.21.1 in /usr/local/lib/python3.10/dist-packages (from requests>=2.19.0->datasets) (2.0.7)\n",
            "Requirement already satisfied: certifi>=2017.4.17 in /usr/local/lib/python3.10/dist-packages (from requests>=2.19.0->datasets) (2024.2.2)\n",
            "Requirement already satisfied: python-dateutil>=2.8.2 in /usr/local/lib/python3.10/dist-packages (from pandas->datasets) (2.8.2)\n",
            "Requirement already satisfied: pytz>=2020.1 in /usr/local/lib/python3.10/dist-packages (from pandas->datasets) (2023.4)\n",
            "Requirement already satisfied: tzdata>=2022.1 in /usr/local/lib/python3.10/dist-packages (from pandas->datasets) (2024.1)\n",
            "Requirement already satisfied: six>=1.5 in /usr/local/lib/python3.10/dist-packages (from python-dateutil>=2.8.2->pandas->datasets) (1.16.0)\n",
            "Installing collected packages: xxhash, dill, multiprocess, huggingface-hub, datasets\n",
            "  Attempting uninstall: huggingface-hub\n",
            "    Found existing installation: huggingface-hub 0.20.3\n",
            "    Uninstalling huggingface-hub-0.20.3:\n",
            "      Successfully uninstalled huggingface-hub-0.20.3\n",
            "Successfully installed datasets-2.19.0 dill-0.3.8 huggingface-hub-0.22.2 multiprocess-0.70.16 xxhash-3.4.1\n"
          ]
        }
      ]
    },
    {
      "cell_type": "code",
      "source": [
        "!pip install spacy\n",
        "!python -m spacy download fr_core_news_sm"
      ],
      "metadata": {
        "colab": {
          "base_uri": "https://localhost:8080/"
        },
        "id": "scFMev5C8ubm",
        "outputId": "589c4336-2720-4d48-a638-52ae0f0c15ad"
      },
      "execution_count": null,
      "outputs": [
        {
          "output_type": "stream",
          "name": "stdout",
          "text": [
            "Requirement already satisfied: spacy in /usr/local/lib/python3.10/dist-packages (3.7.4)\n",
            "Requirement already satisfied: spacy-legacy<3.1.0,>=3.0.11 in /usr/local/lib/python3.10/dist-packages (from spacy) (3.0.12)\n",
            "Requirement already satisfied: spacy-loggers<2.0.0,>=1.0.0 in /usr/local/lib/python3.10/dist-packages (from spacy) (1.0.5)\n",
            "Requirement already satisfied: murmurhash<1.1.0,>=0.28.0 in /usr/local/lib/python3.10/dist-packages (from spacy) (1.0.10)\n",
            "Requirement already satisfied: cymem<2.1.0,>=2.0.2 in /usr/local/lib/python3.10/dist-packages (from spacy) (2.0.8)\n",
            "Requirement already satisfied: preshed<3.1.0,>=3.0.2 in /usr/local/lib/python3.10/dist-packages (from spacy) (3.0.9)\n",
            "Requirement already satisfied: thinc<8.3.0,>=8.2.2 in /usr/local/lib/python3.10/dist-packages (from spacy) (8.2.3)\n",
            "Requirement already satisfied: wasabi<1.2.0,>=0.9.1 in /usr/local/lib/python3.10/dist-packages (from spacy) (1.1.2)\n",
            "Requirement already satisfied: srsly<3.0.0,>=2.4.3 in /usr/local/lib/python3.10/dist-packages (from spacy) (2.4.8)\n",
            "Requirement already satisfied: catalogue<2.1.0,>=2.0.6 in /usr/local/lib/python3.10/dist-packages (from spacy) (2.0.10)\n",
            "Requirement already satisfied: weasel<0.4.0,>=0.1.0 in /usr/local/lib/python3.10/dist-packages (from spacy) (0.3.4)\n",
            "Requirement already satisfied: typer<0.10.0,>=0.3.0 in /usr/local/lib/python3.10/dist-packages (from spacy) (0.9.4)\n",
            "Requirement already satisfied: smart-open<7.0.0,>=5.2.1 in /usr/local/lib/python3.10/dist-packages (from spacy) (6.4.0)\n",
            "Requirement already satisfied: tqdm<5.0.0,>=4.38.0 in /usr/local/lib/python3.10/dist-packages (from spacy) (4.66.2)\n",
            "Requirement already satisfied: requests<3.0.0,>=2.13.0 in /usr/local/lib/python3.10/dist-packages (from spacy) (2.31.0)\n",
            "Requirement already satisfied: pydantic!=1.8,!=1.8.1,<3.0.0,>=1.7.4 in /usr/local/lib/python3.10/dist-packages (from spacy) (2.7.0)\n",
            "Requirement already satisfied: jinja2 in /usr/local/lib/python3.10/dist-packages (from spacy) (3.1.3)\n",
            "Requirement already satisfied: setuptools in /usr/local/lib/python3.10/dist-packages (from spacy) (67.7.2)\n",
            "Requirement already satisfied: packaging>=20.0 in /usr/local/lib/python3.10/dist-packages (from spacy) (24.0)\n",
            "Requirement already satisfied: langcodes<4.0.0,>=3.2.0 in /usr/local/lib/python3.10/dist-packages (from spacy) (3.3.0)\n",
            "Requirement already satisfied: numpy>=1.19.0 in /usr/local/lib/python3.10/dist-packages (from spacy) (1.25.2)\n",
            "Requirement already satisfied: annotated-types>=0.4.0 in /usr/local/lib/python3.10/dist-packages (from pydantic!=1.8,!=1.8.1,<3.0.0,>=1.7.4->spacy) (0.6.0)\n",
            "Requirement already satisfied: pydantic-core==2.18.1 in /usr/local/lib/python3.10/dist-packages (from pydantic!=1.8,!=1.8.1,<3.0.0,>=1.7.4->spacy) (2.18.1)\n",
            "Requirement already satisfied: typing-extensions>=4.6.1 in /usr/local/lib/python3.10/dist-packages (from pydantic!=1.8,!=1.8.1,<3.0.0,>=1.7.4->spacy) (4.11.0)\n",
            "Requirement already satisfied: charset-normalizer<4,>=2 in /usr/local/lib/python3.10/dist-packages (from requests<3.0.0,>=2.13.0->spacy) (3.3.2)\n",
            "Requirement already satisfied: idna<4,>=2.5 in /usr/local/lib/python3.10/dist-packages (from requests<3.0.0,>=2.13.0->spacy) (3.7)\n",
            "Requirement already satisfied: urllib3<3,>=1.21.1 in /usr/local/lib/python3.10/dist-packages (from requests<3.0.0,>=2.13.0->spacy) (2.0.7)\n",
            "Requirement already satisfied: certifi>=2017.4.17 in /usr/local/lib/python3.10/dist-packages (from requests<3.0.0,>=2.13.0->spacy) (2024.2.2)\n",
            "Requirement already satisfied: blis<0.8.0,>=0.7.8 in /usr/local/lib/python3.10/dist-packages (from thinc<8.3.0,>=8.2.2->spacy) (0.7.11)\n",
            "Requirement already satisfied: confection<1.0.0,>=0.0.1 in /usr/local/lib/python3.10/dist-packages (from thinc<8.3.0,>=8.2.2->spacy) (0.1.4)\n",
            "Requirement already satisfied: click<9.0.0,>=7.1.1 in /usr/local/lib/python3.10/dist-packages (from typer<0.10.0,>=0.3.0->spacy) (8.1.7)\n",
            "Requirement already satisfied: cloudpathlib<0.17.0,>=0.7.0 in /usr/local/lib/python3.10/dist-packages (from weasel<0.4.0,>=0.1.0->spacy) (0.16.0)\n",
            "Requirement already satisfied: MarkupSafe>=2.0 in /usr/local/lib/python3.10/dist-packages (from jinja2->spacy) (2.1.5)\n",
            "Collecting fr-core-news-sm==3.7.0\n",
            "  Downloading https://github.com/explosion/spacy-models/releases/download/fr_core_news_sm-3.7.0/fr_core_news_sm-3.7.0-py3-none-any.whl (16.3 MB)\n",
            "\u001b[2K     \u001b[90m━━━━━━━━━━━━━━━━━━━━━━━━━━━━━━━━━━━━━━━━\u001b[0m \u001b[32m16.3/16.3 MB\u001b[0m \u001b[31m83.5 MB/s\u001b[0m eta \u001b[36m0:00:00\u001b[0m\n",
            "\u001b[?25hRequirement already satisfied: spacy<3.8.0,>=3.7.0 in /usr/local/lib/python3.10/dist-packages (from fr-core-news-sm==3.7.0) (3.7.4)\n",
            "Requirement already satisfied: spacy-legacy<3.1.0,>=3.0.11 in /usr/local/lib/python3.10/dist-packages (from spacy<3.8.0,>=3.7.0->fr-core-news-sm==3.7.0) (3.0.12)\n",
            "Requirement already satisfied: spacy-loggers<2.0.0,>=1.0.0 in /usr/local/lib/python3.10/dist-packages (from spacy<3.8.0,>=3.7.0->fr-core-news-sm==3.7.0) (1.0.5)\n",
            "Requirement already satisfied: murmurhash<1.1.0,>=0.28.0 in /usr/local/lib/python3.10/dist-packages (from spacy<3.8.0,>=3.7.0->fr-core-news-sm==3.7.0) (1.0.10)\n",
            "Requirement already satisfied: cymem<2.1.0,>=2.0.2 in /usr/local/lib/python3.10/dist-packages (from spacy<3.8.0,>=3.7.0->fr-core-news-sm==3.7.0) (2.0.8)\n",
            "Requirement already satisfied: preshed<3.1.0,>=3.0.2 in /usr/local/lib/python3.10/dist-packages (from spacy<3.8.0,>=3.7.0->fr-core-news-sm==3.7.0) (3.0.9)\n",
            "Requirement already satisfied: thinc<8.3.0,>=8.2.2 in /usr/local/lib/python3.10/dist-packages (from spacy<3.8.0,>=3.7.0->fr-core-news-sm==3.7.0) (8.2.3)\n",
            "Requirement already satisfied: wasabi<1.2.0,>=0.9.1 in /usr/local/lib/python3.10/dist-packages (from spacy<3.8.0,>=3.7.0->fr-core-news-sm==3.7.0) (1.1.2)\n",
            "Requirement already satisfied: srsly<3.0.0,>=2.4.3 in /usr/local/lib/python3.10/dist-packages (from spacy<3.8.0,>=3.7.0->fr-core-news-sm==3.7.0) (2.4.8)\n",
            "Requirement already satisfied: catalogue<2.1.0,>=2.0.6 in /usr/local/lib/python3.10/dist-packages (from spacy<3.8.0,>=3.7.0->fr-core-news-sm==3.7.0) (2.0.10)\n",
            "Requirement already satisfied: weasel<0.4.0,>=0.1.0 in /usr/local/lib/python3.10/dist-packages (from spacy<3.8.0,>=3.7.0->fr-core-news-sm==3.7.0) (0.3.4)\n",
            "Requirement already satisfied: typer<0.10.0,>=0.3.0 in /usr/local/lib/python3.10/dist-packages (from spacy<3.8.0,>=3.7.0->fr-core-news-sm==3.7.0) (0.9.4)\n",
            "Requirement already satisfied: smart-open<7.0.0,>=5.2.1 in /usr/local/lib/python3.10/dist-packages (from spacy<3.8.0,>=3.7.0->fr-core-news-sm==3.7.0) (6.4.0)\n",
            "Requirement already satisfied: tqdm<5.0.0,>=4.38.0 in /usr/local/lib/python3.10/dist-packages (from spacy<3.8.0,>=3.7.0->fr-core-news-sm==3.7.0) (4.66.2)\n",
            "Requirement already satisfied: requests<3.0.0,>=2.13.0 in /usr/local/lib/python3.10/dist-packages (from spacy<3.8.0,>=3.7.0->fr-core-news-sm==3.7.0) (2.31.0)\n",
            "Requirement already satisfied: pydantic!=1.8,!=1.8.1,<3.0.0,>=1.7.4 in /usr/local/lib/python3.10/dist-packages (from spacy<3.8.0,>=3.7.0->fr-core-news-sm==3.7.0) (2.7.0)\n",
            "Requirement already satisfied: jinja2 in /usr/local/lib/python3.10/dist-packages (from spacy<3.8.0,>=3.7.0->fr-core-news-sm==3.7.0) (3.1.3)\n",
            "Requirement already satisfied: setuptools in /usr/local/lib/python3.10/dist-packages (from spacy<3.8.0,>=3.7.0->fr-core-news-sm==3.7.0) (67.7.2)\n",
            "Requirement already satisfied: packaging>=20.0 in /usr/local/lib/python3.10/dist-packages (from spacy<3.8.0,>=3.7.0->fr-core-news-sm==3.7.0) (24.0)\n",
            "Requirement already satisfied: langcodes<4.0.0,>=3.2.0 in /usr/local/lib/python3.10/dist-packages (from spacy<3.8.0,>=3.7.0->fr-core-news-sm==3.7.0) (3.3.0)\n",
            "Requirement already satisfied: numpy>=1.19.0 in /usr/local/lib/python3.10/dist-packages (from spacy<3.8.0,>=3.7.0->fr-core-news-sm==3.7.0) (1.25.2)\n",
            "Requirement already satisfied: annotated-types>=0.4.0 in /usr/local/lib/python3.10/dist-packages (from pydantic!=1.8,!=1.8.1,<3.0.0,>=1.7.4->spacy<3.8.0,>=3.7.0->fr-core-news-sm==3.7.0) (0.6.0)\n",
            "Requirement already satisfied: pydantic-core==2.18.1 in /usr/local/lib/python3.10/dist-packages (from pydantic!=1.8,!=1.8.1,<3.0.0,>=1.7.4->spacy<3.8.0,>=3.7.0->fr-core-news-sm==3.7.0) (2.18.1)\n",
            "Requirement already satisfied: typing-extensions>=4.6.1 in /usr/local/lib/python3.10/dist-packages (from pydantic!=1.8,!=1.8.1,<3.0.0,>=1.7.4->spacy<3.8.0,>=3.7.0->fr-core-news-sm==3.7.0) (4.11.0)\n",
            "Requirement already satisfied: charset-normalizer<4,>=2 in /usr/local/lib/python3.10/dist-packages (from requests<3.0.0,>=2.13.0->spacy<3.8.0,>=3.7.0->fr-core-news-sm==3.7.0) (3.3.2)\n",
            "Requirement already satisfied: idna<4,>=2.5 in /usr/local/lib/python3.10/dist-packages (from requests<3.0.0,>=2.13.0->spacy<3.8.0,>=3.7.0->fr-core-news-sm==3.7.0) (3.7)\n",
            "Requirement already satisfied: urllib3<3,>=1.21.1 in /usr/local/lib/python3.10/dist-packages (from requests<3.0.0,>=2.13.0->spacy<3.8.0,>=3.7.0->fr-core-news-sm==3.7.0) (2.0.7)\n",
            "Requirement already satisfied: certifi>=2017.4.17 in /usr/local/lib/python3.10/dist-packages (from requests<3.0.0,>=2.13.0->spacy<3.8.0,>=3.7.0->fr-core-news-sm==3.7.0) (2024.2.2)\n",
            "Requirement already satisfied: blis<0.8.0,>=0.7.8 in /usr/local/lib/python3.10/dist-packages (from thinc<8.3.0,>=8.2.2->spacy<3.8.0,>=3.7.0->fr-core-news-sm==3.7.0) (0.7.11)\n",
            "Requirement already satisfied: confection<1.0.0,>=0.0.1 in /usr/local/lib/python3.10/dist-packages (from thinc<8.3.0,>=8.2.2->spacy<3.8.0,>=3.7.0->fr-core-news-sm==3.7.0) (0.1.4)\n",
            "Requirement already satisfied: click<9.0.0,>=7.1.1 in /usr/local/lib/python3.10/dist-packages (from typer<0.10.0,>=0.3.0->spacy<3.8.0,>=3.7.0->fr-core-news-sm==3.7.0) (8.1.7)\n",
            "Requirement already satisfied: cloudpathlib<0.17.0,>=0.7.0 in /usr/local/lib/python3.10/dist-packages (from weasel<0.4.0,>=0.1.0->spacy<3.8.0,>=3.7.0->fr-core-news-sm==3.7.0) (0.16.0)\n",
            "Requirement already satisfied: MarkupSafe>=2.0 in /usr/local/lib/python3.10/dist-packages (from jinja2->spacy<3.8.0,>=3.7.0->fr-core-news-sm==3.7.0) (2.1.5)\n",
            "Installing collected packages: fr-core-news-sm\n",
            "Successfully installed fr-core-news-sm-3.7.0\n",
            "\u001b[38;5;2m✔ Download and installation successful\u001b[0m\n",
            "You can now load the package via spacy.load('fr_core_news_sm')\n",
            "\u001b[38;5;3m⚠ Restart to reload dependencies\u001b[0m\n",
            "If you are in a Jupyter or Colab notebook, you may need to restart Python in\n",
            "order to load all the package's dependencies. You can do this by selecting the\n",
            "'Restart kernel' or 'Restart runtime' option.\n"
          ]
        }
      ]
    },
    {
      "cell_type": "code",
      "source": [
        "# Personal Transformer\n",
        "import spacy\n",
        "from torchtext.data.utils import get_tokenizer\n",
        "from torchtext.vocab import build_vocab_from_iterator\n",
        "from torch.nn.utils.rnn import pad_sequence\n",
        "import torch\n",
        "from torch.utils.data import Dataset, DataLoader\n",
        "from datasets import load_dataset\n",
        "raw_datasets = load_dataset(\"ashwinradhe/dl_dataset\")\n",
        "small_train_dataset = raw_datasets['train'].select(range(100000))\n",
        "SRC_LANGUAGE = \"en\"\n",
        "TRG_LANGUAGE = \"fr\"\n",
        "tokenizer_en = get_tokenizer('spacy', language='en_core_web_sm')\n",
        "tokenizer_fr= get_tokenizer('spacy', language='fr_core_news_sm')\n",
        "UNK_IDX, PAD_IDX, BOS_IDX, EOS_IDX = 0, 1, 2, 3\n",
        "special_symbols = ['<unk>', '<pad>', '<bos>', '<eos>']\n",
        "def tokenize_and_build_vocab(data, tokenizer):\n",
        "    tokenized_data = [tokenizer(sentence) for sentence in data]\n",
        "    vocab = build_vocab_from_iterator(tokenized_data,min_freq=1, specials=special_symbols,special_first=True)\n",
        "    vocab.set_default_index(vocab['<unk>'])\n",
        "    return vocab, tokenized_data\n",
        "vocab_en, tokenized_data_en = tokenize_and_build_vocab(small_train_dataset['English Sentence'], tokenizer_en)\n",
        "vocab_fr, tokenized_data_fr = tokenize_and_build_vocab(small_train_dataset['French Sentence'], tokenizer_fr)\n",
        "def numericalize_and_pad(tokenized_data, vocab):\n",
        "    numericalized_data = [torch.tensor(vocab.lookup_indices(sentence)) for sentence in tokenized_data]\n",
        "    padded_data = pad_sequence(numericalized_data, batch_first=True, padding_value=vocab['<pad>'])\n",
        "    return padded_data\n",
        "padded_data_en = numericalize_and_pad(tokenized_data_en, vocab_en)\n",
        "padded_data_fr = numericalize_and_pad(tokenized_data_fr, vocab_fr)"
      ],
      "metadata": {
        "colab": {
          "base_uri": "https://localhost:8080/",
          "height": 205,
          "referenced_widgets": [
            "8fda90f9246e491d819763798e5b1f3b",
            "963f63f27e0840468651571ff61fa32c",
            "f3bc53db8eb4427ba163ada236962877",
            "7c9c39a5d5ca489fa67e67b296378786",
            "1265ad9536ca40819750d1e0ca6a7b88",
            "bf5bcc13b13043efb56fab1a0128a129",
            "fd7a06a2787d4c288c9d96343135fec0",
            "a291d9a5cf4c4245baf9f8bcf9abdd7a",
            "c790d85dc3734013bb291febecd80985",
            "30eb8e1847794b759b07cc5213758788",
            "ec31b689ede24e48b4deecfaa168bbad",
            "aecea578e5df42a3aad2813be7e4e38c",
            "f57f22bc4b92411d9e07d79eec715555",
            "62f6023b3f1d4783a1204a6bf6d9c914",
            "430f8199bedd4942b8b023bde310566f",
            "7ae3ad1b9e5f422c8c99a787ce08db38",
            "4cfac25ec920403abbfa2b6e0065223d",
            "917ffc43fd5a471c91673f8746b68c89",
            "127463fe92594ee5b61e8f4d1953bdd8",
            "957e2f820e7e4a36b8eb07af07040117",
            "b83c9978145944cc8317be0169401cc1",
            "b4fa8cd6396d488ebebfd39201060893"
          ]
        },
        "id": "Ldtdh2hu8pG5",
        "outputId": "799cf2de-f379-4b3a-ea57-cad63550e1a6"
      },
      "execution_count": null,
      "outputs": [
        {
          "output_type": "stream",
          "name": "stderr",
          "text": [
            "/usr/local/lib/python3.10/dist-packages/huggingface_hub/utils/_token.py:89: UserWarning: \n",
            "The secret `HF_TOKEN` does not exist in your Colab secrets.\n",
            "To authenticate with the Hugging Face Hub, create a token in your settings tab (https://huggingface.co/settings/tokens), set it as secret in your Google Colab and restart your session.\n",
            "You will be able to reuse this secret in all of your notebooks.\n",
            "Please note that authentication is recommended but still optional to access public models or datasets.\n",
            "  warnings.warn(\n"
          ]
        },
        {
          "output_type": "display_data",
          "data": {
            "text/plain": [
              "Downloading data:   0%|          | 0.00/599M [00:00<?, ?B/s]"
            ],
            "application/vnd.jupyter.widget-view+json": {
              "version_major": 2,
              "version_minor": 0,
              "model_id": "8fda90f9246e491d819763798e5b1f3b"
            }
          },
          "metadata": {}
        },
        {
          "output_type": "display_data",
          "data": {
            "text/plain": [
              "Generating train split:   0%|          | 0/1825077 [00:00<?, ? examples/s]"
            ],
            "application/vnd.jupyter.widget-view+json": {
              "version_major": 2,
              "version_minor": 0,
              "model_id": "aecea578e5df42a3aad2813be7e4e38c"
            }
          },
          "metadata": {}
        }
      ]
    },
    {
      "cell_type": "code",
      "source": [
        "from torch.utils.data import random_split\n",
        "from torch.utils.data import DataLoader\n",
        "dataset = torch.utils.data.TensorDataset(padded_data_en, padded_data_fr)\n",
        "total_size = len(dataset)\n",
        "train_size = int(0.8 * total_size)\n",
        "val_size = int(0.1 * total_size)\n",
        "test_size = total_size - train_size - val_size\n",
        "\n",
        "train_dataset, val_dataset, test_dataset = random_split(dataset, [train_size, val_size, test_size])\n",
        "\n",
        "batch_size = 32\n",
        "\n",
        "train_dataloader = DataLoader(train_dataset, batch_size=batch_size, shuffle=True, drop_last=True)\n",
        "val_dataloader = DataLoader(val_dataset, batch_size=batch_size, shuffle=False, drop_last=True)\n",
        "test_dataloader = DataLoader(test_dataset, batch_size=batch_size, shuffle=False, drop_last=True)"
      ],
      "metadata": {
        "id": "RO7ebDU_YNWc"
      },
      "execution_count": null,
      "outputs": []
    },
    {
      "cell_type": "markdown",
      "source": [
        "##Relative positional Encoding"
      ],
      "metadata": {
        "id": "GLIxUokrAsaw"
      }
    },
    {
      "cell_type": "markdown",
      "source": [
        "##ADAM\n",
        "##Cross Entropy Loss"
      ],
      "metadata": {
        "id": "5U9y_xGz53gx"
      }
    },
    {
      "cell_type": "code",
      "source": [
        "import torch\n",
        "from torch import nn\n",
        "import math\n",
        "class RelativePositionalEncoding(nn.Module):\n",
        "    def __init__(self, emb_size: int, max_len: int = 5000):\n",
        "        super(RelativePositionalEncoding, self).__init__()\n",
        "        self.emb_size = emb_size\n",
        "        self.max_len = max_len\n",
        "        relative_positions = torch.arange(-max_len, max_len + 1, dtype=torch.long)\n",
        "        scales = torch.exp(-torch.arange(0, emb_size, 2) * math.log(10000) / emb_size)\n",
        "        relative_positional_encodings = torch.zeros((2 * max_len + 1, emb_size))\n",
        "        relative_positional_encodings[:, 0::2] = torch.sin(relative_positions.unsqueeze(-1) * scales)\n",
        "        relative_positional_encodings[:, 1::2] = torch.cos(relative_positions.unsqueeze(-1) * scales)\n",
        "        self.register_buffer('relative_positional_encodings', relative_positional_encodings)\n",
        "\n",
        "    def forward(self, length: int):\n",
        "        center_pos = self.max_len\n",
        "        return self.relative_positional_encodings[center_pos - length + 1 : center_pos + 1]\n",
        "\n",
        "class TokenEmbedding(nn.Module):\n",
        "    def __init__(self, vocab_size: int, emb_size: int):\n",
        "        super(TokenEmbedding, self).__init__()\n",
        "        self.embedding = nn.Embedding(vocab_size, emb_size)\n",
        "        self.emb_size = emb_size\n",
        "\n",
        "    def forward(self, tokens: torch.Tensor):\n",
        "        return self.embedding(tokens.long()) * math.sqrt(self.emb_size)\n",
        "\n",
        "class TransformerModel(nn.Module):\n",
        "    def __init__(self, num_tokens_en, num_tokens_fr, embed_size, nhead, dim_feedforward, max_seq_length):\n",
        "        super(TransformerModel, self).__init__()\n",
        "        self.embed_size = embed_size\n",
        "        self.src_tok_emb = TokenEmbedding(num_tokens_en, embed_size)\n",
        "        self.tgt_tok_emb = TokenEmbedding(num_tokens_fr, embed_size)\n",
        "        self.positional_encoding = RelativePositionalEncoding(embed_size, max_len=max_seq_length)\n",
        "\n",
        "        encoder_layer = nn.TransformerEncoderLayer(d_model=embed_size, nhead=nhead, dim_feedforward=dim_feedforward, dropout=0.1)\n",
        "        self.transformer_encoder = nn.TransformerEncoder(encoder_layer, num_layers=3)\n",
        "\n",
        "        decoder_layer = nn.TransformerDecoderLayer(d_model=embed_size, nhead=nhead, dim_feedforward=dim_feedforward, dropout=0.1)\n",
        "        self.transformer_decoder = nn.TransformerDecoder(decoder_layer, num_layers=3)\n",
        "        self.generator = nn.Linear(embed_size, num_tokens_fr)\n",
        "\n",
        "    def encode(self, src, src_mask):\n",
        "        src_emb = self.src_tok_emb(src) + self.positional_encoding(src.size(1))\n",
        "        return self.transformer_encoder(src_emb, src_key_padding_mask=src_mask)\n",
        "\n",
        "    def decode(self, tgt, memory, tgt_mask, tgt_key_padding_mask):\n",
        "        tgt_emb = self.tgt_tok_emb(tgt) + self.positional_encoding(tgt.size(1))\n",
        "        return self.transformer_decoder(tgt_emb, memory, tgt_mask, tgt_key_padding_mask=tgt_key_padding_mask)\n",
        "\n",
        "    def forward(self, src, tgt, src_mask=None, tgt_mask=None, src_padding_mask=None, tgt_padding_mask=None):\n",
        "        memory = self.encode(src, src_padding_mask)\n",
        "        output = self.decode(tgt, memory, tgt_mask, tgt_padding_mask)\n",
        "        return self.generator(output)\n",
        "\n",
        "    def generate_square_subsequent_mask(self, sz):\n",
        "        mask = torch.triu(torch.ones(sz, sz)).transpose(0, 1)\n",
        "        mask = mask.float().masked_fill(mask == 0, float('-inf')).masked_fill(mask == 1, float(0.0))\n",
        "        return mask\n",
        "model = TransformerModel(len(vocab_en), len(vocab_fr), embed_size=64, nhead=8, dim_feedforward=1024, max_seq_length=512)"
      ],
      "metadata": {
        "colab": {
          "base_uri": "https://localhost:8080/"
        },
        "id": "cluXGWkZAu4D",
        "outputId": "5e5be9d3-e7c9-4515-afda-fe8375c27488"
      },
      "execution_count": null,
      "outputs": [
        {
          "output_type": "stream",
          "name": "stderr",
          "text": [
            "/usr/local/lib/python3.10/dist-packages/torch/nn/modules/transformer.py:286: UserWarning: enable_nested_tensor is True, but self.use_nested_tensor is False because encoder_layer.self_attn.batch_first was not True(use batch_first for better inference performance)\n",
            "  warnings.warn(f\"enable_nested_tensor is True, but self.use_nested_tensor is False because {why_not_sparsity_fast_path}\")\n"
          ]
        }
      ]
    },
    {
      "cell_type": "code",
      "source": [
        "optimizer = torch.optim.Adam(model.parameters(), lr=0.001)\n",
        "# scheduler = torch.optim.lr_scheduler.StepLR(optimizer, step_size=1, gamma=0.95)\n",
        "seq2seq_loss = torch.nn.CrossEntropyLoss(ignore_index=PAD_IDX)\n",
        "def init_weights(m):\n",
        "    if isinstance(m, nn.Linear):\n",
        "        nn.init.xavier_uniform_(m.weight)\n",
        "        if m.bias is not None:\n",
        "            nn.init.constant_(m.bias, 0)\n",
        "device = torch.device(\"cuda\" if torch.cuda.is_available() else \"cpu\")\n",
        "model.to(device)\n",
        "def train_and_evaluate(model, train_dataloader, val_dataloader, test_dataloader, optimizer, loss_fn, vocab_en, vocab_fr, epochs=10):\n",
        "    model.apply(init_weights)\n",
        "    training_loss = []\n",
        "    validation_loss = []\n",
        "    for epoch in range(epochs):\n",
        "        model.train()\n",
        "        total_train_loss = 0\n",
        "\n",
        "        for src, tgt in train_dataloader:\n",
        "            src, tgt = src.to(device), tgt.to(device)\n",
        "            src = src.T\n",
        "            tgt_inp = tgt.T\n",
        "            tgt_input = tgt_inp[:-1, :]\n",
        "            tgt_output = tgt_inp[1:, :]\n",
        "            src_seq_length = src.shape[0]\n",
        "            tgt_seq_length = tgt_input.shape[0]\n",
        "            src_mask = torch.zeros(src_seq_length, src_seq_length).to(device).type(torch.bool)\n",
        "            tgt_mask = model.generate_square_subsequent_mask(tgt_seq_length).to(device)\n",
        "\n",
        "            src_padding_mask = (src == PAD_IDX).transpose(0, 1).to(device)\n",
        "            tgt_padding_mask = (tgt_input == PAD_IDX).transpose(0, 1).to(device)\n",
        "\n",
        "            logits = model(src, tgt_input, src_mask, tgt_mask, src_padding_mask, tgt_padding_mask)\n",
        "            logits = logits.view(-1, logits.shape[-1])\n",
        "            tgt_output = tgt_output.reshape(-1)\n",
        "            loss = seq2seq_loss(logits, tgt_output)\n",
        "            optimizer.zero_grad()\n",
        "            loss.backward()\n",
        "            torch.nn.utils.clip_grad_norm_(model.parameters(), max_norm=1.0)\n",
        "            optimizer.step()\n",
        "            total_train_loss += loss.item() if not torch.isnan(loss) else 0\n",
        "\n",
        "\n",
        "        avg_train_loss = total_train_loss / len(train_dataloader)\n",
        "        training_loss.append(avg_train_loss)\n",
        "        model.eval()\n",
        "        total_val_loss = 0\n",
        "\n",
        "        with torch.no_grad():\n",
        "            for src, tgt in val_dataloader:\n",
        "                src, tgt = src.to(device), tgt.to(device)\n",
        "                src = src.T\n",
        "                tgt_inp = tgt.T\n",
        "                tgt_input = tgt_inp[:-1, :]\n",
        "                tgt_output = tgt_inp[1:, :]\n",
        "                src_seq_length = src.shape[0]\n",
        "                tgt_seq_length = tgt_input.shape[0]\n",
        "                src_mask = torch.zeros(src_seq_length, src_seq_length).to(device).type(torch.bool)\n",
        "                tgt_mask = model.generate_square_subsequent_mask(tgt_seq_length).to(device)\n",
        "                src_padding_mask = (src == PAD_IDX).transpose(0, 1).to(device)\n",
        "                tgt_padding_mask = (tgt_input == PAD_IDX).transpose(0, 1).to(device)\n",
        "                logits = model(src, tgt_input, src_mask, tgt_mask, src_padding_mask, tgt_padding_mask)\n",
        "                logits = logits.view(-1, logits.shape[-1])\n",
        "                tgt_output = tgt_output.reshape(-1)\n",
        "                loss = seq2seq_loss(logits, tgt_output)\n",
        "                total_val_loss += loss.item()\n",
        "\n",
        "\n",
        "        avg_val_loss = total_val_loss / len(val_dataloader)\n",
        "        validation_loss.append(avg_val_loss)\n",
        "        print(f'Epoch {epoch+1}, Training Loss: {avg_train_loss:.4f}, Validation Loss: {avg_val_loss:.4f}')\n",
        "    return training_loss, validation_loss,model\n",
        "training_loss, validation_loss,model = train_and_evaluate(model, train_dataloader, val_dataloader, test_dataloader, optimizer, vocab_en, vocab_fr, seq2seq_loss, epochs=10)"
      ],
      "metadata": {
        "colab": {
          "base_uri": "https://localhost:8080/"
        },
        "id": "Hz8v_vI3Bozf",
        "outputId": "d29257af-d877-4aa6-9ee6-4eca8d4227fc"
      },
      "execution_count": null,
      "outputs": [
        {
          "output_type": "stream",
          "name": "stderr",
          "text": [
            "/usr/local/lib/python3.10/dist-packages/torch/nn/functional.py:5109: UserWarning: Support for mismatched key_padding_mask and attn_mask is deprecated. Use same type for both instead.\n",
            "  warnings.warn(\n"
          ]
        },
        {
          "output_type": "stream",
          "name": "stdout",
          "text": [
            "Epoch 1, Training Loss: 5.0127, Validation Loss: 4.4371\n",
            "Epoch 2, Training Loss: 4.2496, Validation Loss: 4.1797\n",
            "Epoch 3, Training Loss: 3.9744, Validation Loss: 3.9593\n",
            "Epoch 4, Training Loss: 3.7733, Validation Loss: 3.8172\n",
            "Epoch 5, Training Loss: 3.6303, Validation Loss: 3.7260\n",
            "Epoch 6, Training Loss: 3.5203, Validation Loss: 3.6496\n",
            "Epoch 7, Training Loss: 3.4307, Validation Loss: 3.5954\n",
            "Epoch 8, Training Loss: 3.3579, Validation Loss: 3.5468\n",
            "Epoch 9, Training Loss: 3.2965, Validation Loss: 3.5131\n",
            "Epoch 10, Training Loss: 3.2424, Validation Loss: 3.4789\n"
          ]
        }
      ]
    },
    {
      "cell_type": "code",
      "source": [
        "import matplotlib.pyplot as plt\n",
        "epochs = range(1, len(training_loss) + 1)\n",
        "plt.plot(epochs, training_loss, label='Training Loss')\n",
        "plt.plot(epochs, validation_loss, label='Validation Loss')\n",
        "plt.title('Cross Entropy loss with Adam(relative)')\n",
        "plt.xlabel('Epoch')\n",
        "plt.ylabel('Loss')\n",
        "plt.legend()\n",
        "plt.show()"
      ],
      "metadata": {
        "colab": {
          "base_uri": "https://localhost:8080/",
          "height": 472
        },
        "id": "c1ERarxnoSUN",
        "outputId": "82e08b0c-1ff7-41d5-ff58-7ad63fcbee96"
      },
      "execution_count": null,
      "outputs": [
        {
          "output_type": "display_data",
          "data": {
            "text/plain": [
              "<Figure size 640x480 with 1 Axes>"
            ],
            "image/png": "[encoded data removed]"
          },
          "metadata": {}
        }
      ]
    },
    {
      "cell_type": "code",
      "source": [
        "model_metrics = {\"training_loss\": training_loss, \"validation_loss\":validation_loss}\n",
        "torch.save(model_metrics, '/content/drive/MyDrive/Adam/relative_positional_encoding/crossentropyloss/model_metrics.pkl')"
      ],
      "metadata": {
        "id": "_cG2u-S6m3nf"
      },
      "execution_count": null,
      "outputs": []
    },
    {
      "cell_type": "code",
      "source": [
        "torch.save(model.state_dict(), '/content/drive/MyDrive/Adam/relative_positional_encoding/crossentropyloss/model_weights.pt')\n",
        "torch.save(model, '/content/drive/MyDrive/Adam/relative_positional_encoding/crossentropyloss/model.pkl')"
      ],
      "metadata": {
        "id": "LBrNkWre5L3L"
      },
      "execution_count": null,
      "outputs": []
    },
    {
      "cell_type": "code",
      "source": [
        "model.load_state_dict(torch.load('/content/drive/MyDrive/Model_file_large_epoch_1/model_label_smoothning.pt'))"
      ],
      "metadata": {
        "colab": {
          "base_uri": "https://localhost:8080/"
        },
        "id": "iDtEnV6e5MrY",
        "outputId": "fe3e5583-7670-4afb-87e7-deb96d5fd8b1"
      },
      "execution_count": null,
      "outputs": [
        {
          "output_type": "execute_result",
          "data": {
            "text/plain": [
              "<All keys matched successfully>"
            ]
          },
          "metadata": {},
          "execution_count": 4
        }
      ]
    },
    {
      "cell_type": "code",
      "source": [
        "import torch\n",
        "model = torch.load('/content/drive/MyDrive/Model_file_large_epoch_1/model_label_smoothning.pt')"
      ],
      "metadata": {
        "id": "C1XlqF9v4fDc"
      },
      "execution_count": null,
      "outputs": []
    },
    {
      "cell_type": "markdown",
      "source": [
        "##Cross Entropy Loss with label smoothning"
      ],
      "metadata": {
        "id": "A6SSsU5LzpNc"
      }
    },
    {
      "cell_type": "code",
      "source": [
        "import torch\n",
        "from torch import nn\n",
        "import math\n",
        "class RelativePositionalEncoding(nn.Module):\n",
        "    def __init__(self, emb_size: int, max_len: int = 5000):\n",
        "        super(RelativePositionalEncoding, self).__init__()\n",
        "        self.emb_size = emb_size\n",
        "        self.max_len = max_len\n",
        "        relative_positions = torch.arange(-max_len, max_len + 1, dtype=torch.long)\n",
        "        scales = torch.exp(-torch.arange(0, emb_size, 2) * math.log(10000) / emb_size)\n",
        "        relative_positional_encodings = torch.zeros((2 * max_len + 1, emb_size))\n",
        "        relative_positional_encodings[:, 0::2] = torch.sin(relative_positions.unsqueeze(-1) * scales)\n",
        "        relative_positional_encodings[:, 1::2] = torch.cos(relative_positions.unsqueeze(-1) * scales)\n",
        "        self.register_buffer('relative_positional_encodings', relative_positional_encodings)\n",
        "\n",
        "    def forward(self, length: int):\n",
        "        center_pos = self.max_len\n",
        "        return self.relative_positional_encodings[center_pos - length + 1 : center_pos + 1]\n",
        "\n",
        "class TokenEmbedding(nn.Module):\n",
        "    def __init__(self, vocab_size: int, emb_size: int):\n",
        "        super(TokenEmbedding, self).__init__()\n",
        "        self.embedding = nn.Embedding(vocab_size, emb_size)\n",
        "        self.emb_size = emb_size\n",
        "\n",
        "    def forward(self, tokens: torch.Tensor):\n",
        "        return self.embedding(tokens.long()) * math.sqrt(self.emb_size)\n",
        "\n",
        "class TransformerModel(nn.Module):\n",
        "    def __init__(self, num_tokens_en, num_tokens_fr, embed_size, nhead, dim_feedforward, max_seq_length):\n",
        "        super(TransformerModel, self).__init__()\n",
        "        self.embed_size = embed_size\n",
        "        self.src_tok_emb = TokenEmbedding(num_tokens_en, embed_size)\n",
        "        self.tgt_tok_emb = TokenEmbedding(num_tokens_fr, embed_size)\n",
        "        self.positional_encoding = RelativePositionalEncoding(embed_size, max_len=max_seq_length)\n",
        "\n",
        "        encoder_layer = nn.TransformerEncoderLayer(d_model=embed_size, nhead=nhead, dim_feedforward=dim_feedforward, dropout=0.1)\n",
        "        self.transformer_encoder = nn.TransformerEncoder(encoder_layer, num_layers=3)\n",
        "\n",
        "        decoder_layer = nn.TransformerDecoderLayer(d_model=embed_size, nhead=nhead, dim_feedforward=dim_feedforward, dropout=0.1)\n",
        "        self.transformer_decoder = nn.TransformerDecoder(decoder_layer, num_layers=3)\n",
        "        self.generator = nn.Linear(embed_size, num_tokens_fr)\n",
        "\n",
        "    def encode(self, src, src_mask):\n",
        "        src_emb = self.src_tok_emb(src) + self.positional_encoding(src.size(1))\n",
        "        return self.transformer_encoder(src_emb, src_key_padding_mask=src_mask)\n",
        "\n",
        "    def decode(self, tgt, memory, tgt_mask, tgt_key_padding_mask):\n",
        "        tgt_emb = self.tgt_tok_emb(tgt) + self.positional_encoding(tgt.size(1))\n",
        "        return self.transformer_decoder(tgt_emb, memory, tgt_mask, tgt_key_padding_mask=tgt_key_padding_mask)\n",
        "\n",
        "    def forward(self, src, tgt, src_mask=None, tgt_mask=None, src_padding_mask=None, tgt_padding_mask=None):\n",
        "        memory = self.encode(src, src_padding_mask)\n",
        "        output = self.decode(tgt, memory, tgt_mask, tgt_padding_mask)\n",
        "        return self.generator(output)\n",
        "\n",
        "    def generate_square_subsequent_mask(self, sz):\n",
        "        mask = torch.triu(torch.ones(sz, sz)).transpose(0, 1)\n",
        "        mask = mask.float().masked_fill(mask == 0, float('-inf')).masked_fill(mask == 1, float(0.0))\n",
        "        return mask\n",
        "model_cel = TransformerModel(len(vocab_en), len(vocab_fr), embed_size=64, nhead=8, dim_feedforward=1024, max_seq_length=512)"
      ],
      "metadata": {
        "colab": {
          "base_uri": "https://localhost:8080/"
        },
        "id": "JQYPk3Ir0LJe",
        "outputId": "c9b3b972-bbc1-4d7b-aa2d-c5d759abd2c9"
      },
      "execution_count": null,
      "outputs": [
        {
          "output_type": "stream",
          "name": "stderr",
          "text": [
            "/usr/local/lib/python3.10/dist-packages/torch/nn/modules/transformer.py:286: UserWarning: enable_nested_tensor is True, but self.use_nested_tensor is False because encoder_layer.self_attn.batch_first was not True(use batch_first for better inference performance)\n",
            "  warnings.warn(f\"enable_nested_tensor is True, but self.use_nested_tensor is False because {why_not_sparsity_fast_path}\")\n"
          ]
        }
      ]
    },
    {
      "cell_type": "code",
      "source": [
        "optimizer = torch.optim.Adam(model_cel.parameters(), lr=0.001)\n",
        "# scheduler = torch.optim.lr_scheduler.StepLR(optimizer, step_size=1, gamma=0.95)\n",
        "seq2seq_loss_cel = torch.nn.CrossEntropyLoss(ignore_index=PAD_IDX,label_smoothing=0.5)\n",
        "def init_weights(m):\n",
        "    if isinstance(m, nn.Linear):\n",
        "        nn.init.xavier_uniform_(m.weight)\n",
        "        if m.bias is not None:\n",
        "            nn.init.constant_(m.bias, 0)\n",
        "device = torch.device(\"cuda\" if torch.cuda.is_available() else \"cpu\")\n",
        "model_cel.to(device)\n",
        "def train_and_evaluate(model, train_dataloader, val_dataloader, test_dataloader, optimizer, loss_function, vocab_en, vocab_fr, epochs=10):\n",
        "    model.apply(init_weights)\n",
        "    training_loss = []\n",
        "    validation_loss = []\n",
        "    for epoch in range(epochs):\n",
        "        model.train()\n",
        "        total_train_loss = 0\n",
        "\n",
        "        for src, tgt in train_dataloader:\n",
        "            src, tgt = src.to(device), tgt.to(device)\n",
        "            src = src.T\n",
        "            tgt_inp = tgt.T\n",
        "            tgt_input = tgt_inp[:-1, :]\n",
        "            tgt_output = tgt_inp[1:, :]\n",
        "            src_seq_length = src.shape[0]\n",
        "            tgt_seq_length = tgt_input.shape[0]\n",
        "            src_mask = torch.zeros(src_seq_length, src_seq_length).to(device).type(torch.bool)\n",
        "            tgt_mask = model.generate_square_subsequent_mask(tgt_seq_length).to(device)\n",
        "\n",
        "            src_padding_mask = (src == PAD_IDX).transpose(0, 1).to(device)\n",
        "            tgt_padding_mask = (tgt_input == PAD_IDX).transpose(0, 1).to(device)\n",
        "\n",
        "            logits = model(src, tgt_input, src_mask, tgt_mask, src_padding_mask, tgt_padding_mask)\n",
        "            logits = logits.view(-1, logits.shape[-1])\n",
        "            tgt_output = tgt_output.reshape(-1)\n",
        "            loss = seq2seq_loss_cel(logits, tgt_output)\n",
        "            optimizer.zero_grad()\n",
        "            loss.backward()\n",
        "            torch.nn.utils.clip_grad_norm_(model.parameters(), max_norm=1.0)\n",
        "            optimizer.step()\n",
        "            total_train_loss += loss.item() if not torch.isnan(loss) else 0\n",
        "\n",
        "\n",
        "        avg_train_loss = total_train_loss / len(train_dataloader)\n",
        "        training_loss.append(avg_train_loss)\n",
        "        model.eval()\n",
        "        total_val_loss = 0\n",
        "\n",
        "        with torch.no_grad():\n",
        "            for src, tgt in val_dataloader:\n",
        "                src, tgt = src.to(device), tgt.to(device)\n",
        "                src = src.T\n",
        "                tgt_inp = tgt.T\n",
        "                tgt_input = tgt_inp[:-1, :]\n",
        "                tgt_output = tgt_inp[1:, :]\n",
        "                src_seq_length = src.shape[0]\n",
        "                tgt_seq_length = tgt_input.shape[0]\n",
        "                src_mask = torch.zeros(src_seq_length, src_seq_length).to(device).type(torch.bool)\n",
        "                tgt_mask = model.generate_square_subsequent_mask(tgt_seq_length).to(device)\n",
        "                src_padding_mask = (src == PAD_IDX).transpose(0, 1).to(device)\n",
        "                tgt_padding_mask = (tgt_input == PAD_IDX).transpose(0, 1).to(device)\n",
        "                logits = model(src, tgt_input, src_mask, tgt_mask, src_padding_mask, tgt_padding_mask)\n",
        "                logits = logits.view(-1, logits.shape[-1])\n",
        "                tgt_output = tgt_output.reshape(-1)\n",
        "                loss = seq2seq_loss_cel(logits, tgt_output)\n",
        "                total_val_loss += loss.item()\n",
        "\n",
        "\n",
        "        avg_val_loss = total_val_loss / len(val_dataloader)\n",
        "        validation_loss.append(avg_val_loss)\n",
        "        print(f'Epoch {epoch+1}, Training Loss: {avg_train_loss:.4f}, Validation Loss: {avg_val_loss:.4f}')\n",
        "    return training_loss, validation_loss,model\n",
        "training_loss_cel, validation_loss_cel,model_cel = train_and_evaluate(model_cel, train_dataloader, val_dataloader, test_dataloader, optimizer, vocab_en, vocab_fr, seq2seq_loss_cel, epochs=10)"
      ],
      "metadata": {
        "id": "Ez1elX0mGSot",
        "colab": {
          "base_uri": "https://localhost:8080/"
        },
        "outputId": "1b732ad5-4151-4873-be28-e9d2bea29e66"
      },
      "execution_count": null,
      "outputs": [
        {
          "output_type": "stream",
          "name": "stderr",
          "text": [
            "/usr/local/lib/python3.10/dist-packages/torch/nn/functional.py:5109: UserWarning: Support for mismatched key_padding_mask and attn_mask is deprecated. Use same type for both instead.\n",
            "  warnings.warn(\n"
          ]
        },
        {
          "output_type": "stream",
          "name": "stdout",
          "text": [
            "Epoch 1, Training Loss: 8.3648, Validation Loss: 8.1555\n",
            "Epoch 2, Training Loss: 8.0795, Validation Loss: 8.0254\n",
            "Epoch 3, Training Loss: 7.9764, Validation Loss: 7.9248\n",
            "Epoch 4, Training Loss: 7.9042, Validation Loss: 7.8595\n",
            "Epoch 5, Training Loss: 7.8530, Validation Loss: 7.8193\n",
            "Epoch 6, Training Loss: 7.8151, Validation Loss: 7.7863\n",
            "Epoch 7, Training Loss: 7.7846, Validation Loss: 7.7716\n",
            "Epoch 8, Training Loss: 7.7598, Validation Loss: 7.7422\n",
            "Epoch 9, Training Loss: 7.7394, Validation Loss: 7.7320\n",
            "Epoch 10, Training Loss: 7.7217, Validation Loss: 7.7122\n"
          ]
        }
      ]
    },
    {
      "cell_type": "code",
      "source": [
        "import matplotlib.pyplot as plt\n",
        "epochs = range(1, len(training_loss_cel) + 1)\n",
        "plt.plot(epochs,training_loss_cel, label='Training Loss')\n",
        "plt.plot(epochs,validation_loss_cel, label='Validation Loss')\n",
        "plt.xlabel('Epoch')\n",
        "plt.ylabel('Loss')\n",
        "plt.title('Training and Validation Loss')\n",
        "plt.legend()"
      ],
      "metadata": {
        "colab": {
          "base_uri": "https://localhost:8080/",
          "height": 489
        },
        "id": "YBNWs-q51ljC",
        "outputId": "08f4c717-20ca-4aac-84fb-9d8815552687"
      },
      "execution_count": null,
      "outputs": [
        {
          "output_type": "execute_result",
          "data": {
            "text/plain": [
              "<matplotlib.legend.Legend at 0x7a74c1b47ac0>"
            ]
          },
          "metadata": {},
          "execution_count": 8
        },
        {
          "output_type": "display_data",
          "data": {
            "text/plain": [
              "<Figure size 640x480 with 1 Axes>"
            ],
            "image/png": "[encoded data removed]"
          },
          "metadata": {}
        }
      ]
    },
    {
      "cell_type": "code",
      "source": [
        "model_metrics_cel = {'training_loss':training_loss_cel, 'validation_loss':validation_loss_cel}\n",
        "torch.save(model_metrics_cel, '/content/drive/MyDrive/Adam/relative_positional_encoding/crossentropylosswithlabelsmoothning/model_metrics_cel.pkl')"
      ],
      "metadata": {
        "id": "biWU6AP8_x0U"
      },
      "execution_count": null,
      "outputs": []
    },
    {
      "cell_type": "code",
      "source": [
        "torch.save(model_cel, '/content/drive/MyDrive/Adam/relative_positional_encoding/crossentropylosswithlabelsmoothning/model_cel.pt')\n",
        "torch.save(model_cel.state_dict(), '/content/drive/MyDrive/Adam/relative_positional_encoding/crossentropylosswithlabelsmoothning/model_cel_state_dict.pkl')"
      ],
      "metadata": {
        "id": "kPfMxX6U7LgH"
      },
      "execution_count": null,
      "outputs": []
    },
    {
      "cell_type": "markdown",
      "source": [
        "##NLLLoss"
      ],
      "metadata": {
        "id": "-x1hW_8x7r77"
      }
    },
    {
      "cell_type": "code",
      "source": [
        "import torch\n",
        "from torch import nn\n",
        "import math\n",
        "class RelativePositionalEncoding(nn.Module):\n",
        "    def __init__(self, emb_size: int, max_len: int = 5000):\n",
        "        super(RelativePositionalEncoding, self).__init__()\n",
        "        self.emb_size = emb_size\n",
        "        self.max_len = max_len\n",
        "        relative_positions = torch.arange(-max_len, max_len + 1, dtype=torch.long)\n",
        "        scales = torch.exp(-torch.arange(0, emb_size, 2) * math.log(10000) / emb_size)\n",
        "        relative_positional_encodings = torch.zeros((2 * max_len + 1, emb_size))\n",
        "        relative_positional_encodings[:, 0::2] = torch.sin(relative_positions.unsqueeze(-1) * scales)\n",
        "        relative_positional_encodings[:, 1::2] = torch.cos(relative_positions.unsqueeze(-1) * scales)\n",
        "        self.register_buffer('relative_positional_encodings', relative_positional_encodings)\n",
        "\n",
        "    def forward(self, length: int):\n",
        "        center_pos = self.max_len\n",
        "        return self.relative_positional_encodings[center_pos - length + 1 : center_pos + 1]\n",
        "\n",
        "class TokenEmbedding(nn.Module):\n",
        "    def __init__(self, vocab_size: int, emb_size: int):\n",
        "        super(TokenEmbedding, self).__init__()\n",
        "        self.embedding = nn.Embedding(vocab_size, emb_size)\n",
        "        self.emb_size = emb_size\n",
        "\n",
        "    def forward(self, tokens: torch.Tensor):\n",
        "        return self.embedding(tokens.long()) * math.sqrt(self.emb_size)\n",
        "\n",
        "class TransformerModel(nn.Module):\n",
        "    def __init__(self, num_tokens_en, num_tokens_fr, embed_size, nhead, dim_feedforward, max_seq_length):\n",
        "        super(TransformerModel, self).__init__()\n",
        "        self.embed_size = embed_size\n",
        "        self.src_tok_emb = TokenEmbedding(num_tokens_en, embed_size)\n",
        "        self.tgt_tok_emb = TokenEmbedding(num_tokens_fr, embed_size)\n",
        "        self.positional_encoding = RelativePositionalEncoding(embed_size, max_len=max_seq_length)\n",
        "\n",
        "        encoder_layer = nn.TransformerEncoderLayer(d_model=embed_size, nhead=nhead, dim_feedforward=dim_feedforward, dropout=0.1)\n",
        "        self.transformer_encoder = nn.TransformerEncoder(encoder_layer, num_layers=3)\n",
        "\n",
        "        decoder_layer = nn.TransformerDecoderLayer(d_model=embed_size, nhead=nhead, dim_feedforward=dim_feedforward, dropout=0.1)\n",
        "        self.transformer_decoder = nn.TransformerDecoder(decoder_layer, num_layers=3)\n",
        "        self.generator = nn.Linear(embed_size, num_tokens_fr)\n",
        "\n",
        "    def encode(self, src, src_mask):\n",
        "        src_emb = self.src_tok_emb(src) + self.positional_encoding(src.size(1))\n",
        "        return self.transformer_encoder(src_emb, src_key_padding_mask=src_mask)\n",
        "\n",
        "    def decode(self, tgt, memory, tgt_mask, tgt_key_padding_mask):\n",
        "        tgt_emb = self.tgt_tok_emb(tgt) + self.positional_encoding(tgt.size(1))\n",
        "        return self.transformer_decoder(tgt_emb, memory, tgt_mask, tgt_key_padding_mask=tgt_key_padding_mask)\n",
        "\n",
        "    def forward(self, src, tgt, src_mask=None, tgt_mask=None, src_padding_mask=None, tgt_padding_mask=None):\n",
        "        memory = self.encode(src, src_padding_mask)\n",
        "        output = self.decode(tgt, memory, tgt_mask, tgt_padding_mask)\n",
        "        return self.generator(output)\n",
        "\n",
        "    def generate_square_subsequent_mask(self, sz):\n",
        "        mask = torch.triu(torch.ones(sz, sz)).transpose(0, 1)\n",
        "        mask = mask.float().masked_fill(mask == 0, float('-inf')).masked_fill(mask == 1, float(0.0))\n",
        "        return mask\n",
        "model_sc = TransformerModel(len(vocab_en), len(vocab_fr), embed_size=64, nhead=8, dim_feedforward=1024, max_seq_length=512)"
      ],
      "metadata": {
        "colab": {
          "base_uri": "https://localhost:8080/"
        },
        "id": "d4xmfe5-7vNx",
        "outputId": "bdeb5e14-6d7f-4061-a9f5-bfb1878857bf"
      },
      "execution_count": null,
      "outputs": [
        {
          "output_type": "stream",
          "name": "stderr",
          "text": [
            "/usr/local/lib/python3.10/dist-packages/torch/nn/modules/transformer.py:286: UserWarning: enable_nested_tensor is True, but self.use_nested_tensor is False because encoder_layer.self_attn.batch_first was not True(use batch_first for better inference performance)\n",
            "  warnings.warn(f\"enable_nested_tensor is True, but self.use_nested_tensor is False because {why_not_sparsity_fast_path}\")\n"
          ]
        }
      ]
    },
    {
      "cell_type": "code",
      "source": [
        "from torch.nn import functional as F\n",
        "optimizer = torch.optim.Adam(model_sc.parameters(), lr=0.001)\n",
        "# scheduler = torch.optim.lr_scheduler.StepLR(optimizer, step_size=1, gamma=0.95)\n",
        "seq2seq_loss_sc = nn.NLLLoss(ignore_index=PAD_IDX)\n",
        "def init_weights(m):\n",
        "    if isinstance(m, nn.Linear):\n",
        "        nn.init.xavier_uniform_(m.weight)\n",
        "        if m.bias is not None:\n",
        "            nn.init.constant_(m.bias, 0)\n",
        "device = torch.device(\"cuda\" if torch.cuda.is_available() else \"cpu\")\n",
        "model_sc.to(device)\n",
        "def train_and_evaluate(model, train_dataloader, val_dataloader, test_dataloader, optimizer, loss_function, vocab_en, vocab_fr, epochs=10):\n",
        "    model.apply(init_weights)\n",
        "    training_loss = []\n",
        "    validation_loss = []\n",
        "    for epoch in range(epochs):\n",
        "        model.train()\n",
        "        total_train_loss = 0\n",
        "\n",
        "        for src, tgt in train_dataloader:\n",
        "            src, tgt = src.to(device), tgt.to(device)\n",
        "            src = src.T\n",
        "            tgt_inp = tgt.T\n",
        "            tgt_input = tgt_inp[:-1, :]\n",
        "            tgt_output = tgt_inp[1:, :]\n",
        "            src_seq_length = src.shape[0]\n",
        "            tgt_seq_length = tgt_input.shape[0]\n",
        "            src_mask = torch.zeros(src_seq_length, src_seq_length).to(device).type(torch.bool)\n",
        "            tgt_mask = model.generate_square_subsequent_mask(tgt_seq_length).to(device)\n",
        "\n",
        "            src_padding_mask = (src == PAD_IDX).transpose(0, 1).to(device)\n",
        "            tgt_padding_mask = (tgt_input == PAD_IDX).transpose(0, 1).to(device)\n",
        "\n",
        "            logits = model(src, tgt_input, src_mask, tgt_mask, src_padding_mask, tgt_padding_mask)\n",
        "            logits = logits.view(-1, logits.shape[-1])\n",
        "            logits = F.log_softmax(logits, dim=-1)\n",
        "            tgt_output = tgt_output.reshape(-1)\n",
        "            loss = seq2seq_loss_sc(logits, tgt_output)\n",
        "            optimizer.zero_grad()\n",
        "            loss.backward()\n",
        "            torch.nn.utils.clip_grad_norm_(model.parameters(), max_norm=1.0)\n",
        "            optimizer.step()\n",
        "            total_train_loss += loss.item() if not torch.isnan(loss) else 0\n",
        "\n",
        "\n",
        "        avg_train_loss = total_train_loss / len(train_dataloader)\n",
        "        training_loss.append(avg_train_loss)\n",
        "        model.eval()\n",
        "        total_val_loss = 0\n",
        "\n",
        "        with torch.no_grad():\n",
        "            for src, tgt in val_dataloader:\n",
        "                src, tgt = src.to(device), tgt.to(device)\n",
        "                src = src.T\n",
        "                tgt_inp = tgt.T\n",
        "                tgt_input = tgt_inp[:-1, :]\n",
        "                tgt_output = tgt_inp[1:, :]\n",
        "                src_seq_length = src.shape[0]\n",
        "                tgt_seq_length = tgt_input.shape[0]\n",
        "                src_mask = torch.zeros(src_seq_length, src_seq_length).to(device).type(torch.bool)\n",
        "                tgt_mask = model.generate_square_subsequent_mask(tgt_seq_length).to(device)\n",
        "                src_padding_mask = (src == PAD_IDX).transpose(0, 1).to(device)\n",
        "                tgt_padding_mask = (tgt_input == PAD_IDX).transpose(0, 1).to(device)\n",
        "                logits = model(src, tgt_input, src_mask, tgt_mask, src_padding_mask, tgt_padding_mask)\n",
        "                logits = logits.view(-1, logits.shape[-1])\n",
        "                logits = F.log_softmax(logits, dim=-1)\n",
        "                tgt_output = tgt_output.reshape(-1)\n",
        "                loss = seq2seq_loss_sc(logits, tgt_output)\n",
        "                total_val_loss += loss.item()\n",
        "\n",
        "\n",
        "        avg_val_loss = total_val_loss / len(val_dataloader)\n",
        "        validation_loss.append(avg_val_loss)\n",
        "        print(f'Epoch {epoch+1}, Training Loss: {avg_train_loss:.4f}, Validation Loss: {avg_val_loss:.4f}')\n",
        "    return training_loss, validation_loss,model\n",
        "training_loss_sc, validation_loss_sc,model_sc = train_and_evaluate(model_sc, train_dataloader, val_dataloader, test_dataloader, optimizer, vocab_en, vocab_fr, seq2seq_loss_sc, epochs=10)"
      ],
      "metadata": {
        "colab": {
          "base_uri": "https://localhost:8080/"
        },
        "id": "r5VqwUTe71pc",
        "outputId": "ef8faf4c-7eb6-4982-8281-1e1112d00d12"
      },
      "execution_count": null,
      "outputs": [
        {
          "output_type": "stream",
          "name": "stderr",
          "text": [
            "/usr/local/lib/python3.10/dist-packages/torch/nn/functional.py:5109: UserWarning: Support for mismatched key_padding_mask and attn_mask is deprecated. Use same type for both instead.\n",
            "  warnings.warn(\n"
          ]
        },
        {
          "output_type": "stream",
          "name": "stdout",
          "text": [
            "Epoch 1, Training Loss: 5.0150, Validation Loss: 4.4339\n",
            "Epoch 2, Training Loss: 4.2513, Validation Loss: 4.2237\n",
            "Epoch 3, Training Loss: 3.9683, Validation Loss: 4.0076\n",
            "Epoch 4, Training Loss: 3.7638, Validation Loss: 3.8217\n",
            "Epoch 5, Training Loss: 3.6163, Validation Loss: 3.6897\n",
            "Epoch 6, Training Loss: 3.5050, Validation Loss: 3.6080\n",
            "Epoch 7, Training Loss: 3.4155, Validation Loss: 3.5568\n",
            "Epoch 8, Training Loss: 3.3442, Validation Loss: 3.5296\n",
            "Epoch 9, Training Loss: 3.2825, Validation Loss: 3.4858\n",
            "Epoch 10, Training Loss: 3.2302, Validation Loss: 3.4528\n"
          ]
        }
      ]
    },
    {
      "cell_type": "code",
      "source": [
        "import matplotlib.pyplot as plt\n",
        "epochs = range(1, len(training_loss_sc) + 1)\n",
        "plt.plot(epochs, training_loss_sc, 'b', label='Training Loss')\n",
        "plt.plot(epochs, validation_loss_sc, 'r', label='Validation Loss')\n",
        "plt.title('NLLLoss')\n",
        "plt.xlabel('Epochs')\n",
        "plt.ylabel('Loss')\n",
        "plt.legend()\n",
        "plt.show()"
      ],
      "metadata": {
        "colab": {
          "base_uri": "https://localhost:8080/",
          "height": 472
        },
        "id": "ph4IT9F4BSut",
        "outputId": "dbbc9954-44b7-490f-e9cd-d939117ceb54"
      },
      "execution_count": null,
      "outputs": [
        {
          "output_type": "display_data",
          "data": {
            "text/plain": [
              "<Figure size 640x480 with 1 Axes>"
            ],
            "image/png": "[encoded data removed]"
          },
          "metadata": {}
        }
      ]
    },
    {
      "cell_type": "code",
      "source": [
        "model_metrics_sc = {'training_loss':training_loss_sc, 'validation_loss':validation_loss_sc}\n",
        "torch.save(model_metrics_sc, '/content/drive/MyDrive/Adam/relative_positional_encoding/sparsecategoricalcrossentropy/model_metrics_sc.pkl')"
      ],
      "metadata": {
        "id": "exGlVaMFBwFv"
      },
      "execution_count": null,
      "outputs": []
    },
    {
      "cell_type": "code",
      "source": [
        "torch.save(model_sc.state_dict(), '/content/drive/MyDrive/Adam/relative_positional_encoding/sparsecategoricalcrossentropy/model_weights_sc.pkl')\n",
        "torch.save(model_sc, '/content/drive/MyDrive/Adam/relative_positional_encoding/sparsecategoricalcrossentropy/model_sc.pt')"
      ],
      "metadata": {
        "id": "0jl424MTBaRf"
      },
      "execution_count": null,
      "outputs": []
    },
    {
      "cell_type": "markdown",
      "source": [
        "##Optimizer AdamW"
      ],
      "metadata": {
        "id": "cqZO3G1CCDRI"
      }
    },
    {
      "cell_type": "code",
      "source": [
        "import torch\n",
        "from torch import nn\n",
        "import math\n",
        "class RelativePositionalEncoding(nn.Module):\n",
        "    def __init__(self, emb_size: int, max_len: int = 5000):\n",
        "        super(RelativePositionalEncoding, self).__init__()\n",
        "        self.emb_size = emb_size\n",
        "        self.max_len = max_len\n",
        "        relative_positions = torch.arange(-max_len, max_len + 1, dtype=torch.long)\n",
        "        scales = torch.exp(-torch.arange(0, emb_size, 2) * math.log(10000) / emb_size)\n",
        "        relative_positional_encodings = torch.zeros((2 * max_len + 1, emb_size))\n",
        "        relative_positional_encodings[:, 0::2] = torch.sin(relative_positions.unsqueeze(-1) * scales)\n",
        "        relative_positional_encodings[:, 1::2] = torch.cos(relative_positions.unsqueeze(-1) * scales)\n",
        "        self.register_buffer('relative_positional_encodings', relative_positional_encodings)\n",
        "\n",
        "    def forward(self, length: int):\n",
        "        center_pos = self.max_len\n",
        "        return self.relative_positional_encodings[center_pos - length + 1 : center_pos + 1]\n",
        "\n",
        "class TokenEmbedding(nn.Module):\n",
        "    def __init__(self, vocab_size: int, emb_size: int):\n",
        "        super(TokenEmbedding, self).__init__()\n",
        "        self.embedding = nn.Embedding(vocab_size, emb_size)\n",
        "        self.emb_size = emb_size\n",
        "\n",
        "    def forward(self, tokens: torch.Tensor):\n",
        "        return self.embedding(tokens.long()) * math.sqrt(self.emb_size)\n",
        "\n",
        "class TransformerModel(nn.Module):\n",
        "    def __init__(self, num_tokens_en, num_tokens_fr, embed_size, nhead, dim_feedforward, max_seq_length):\n",
        "        super(TransformerModel, self).__init__()\n",
        "        self.embed_size = embed_size\n",
        "        self.src_tok_emb = TokenEmbedding(num_tokens_en, embed_size)\n",
        "        self.tgt_tok_emb = TokenEmbedding(num_tokens_fr, embed_size)\n",
        "        self.positional_encoding = RelativePositionalEncoding(embed_size, max_len=max_seq_length)\n",
        "\n",
        "        encoder_layer = nn.TransformerEncoderLayer(d_model=embed_size, nhead=nhead, dim_feedforward=dim_feedforward, dropout=0.1)\n",
        "        self.transformer_encoder = nn.TransformerEncoder(encoder_layer, num_layers=3)\n",
        "\n",
        "        decoder_layer = nn.TransformerDecoderLayer(d_model=embed_size, nhead=nhead, dim_feedforward=dim_feedforward, dropout=0.1)\n",
        "        self.transformer_decoder = nn.TransformerDecoder(decoder_layer, num_layers=3)\n",
        "        self.generator = nn.Linear(embed_size, num_tokens_fr)\n",
        "\n",
        "    def encode(self, src, src_mask):\n",
        "        src_emb = self.src_tok_emb(src) + self.positional_encoding(src.size(1))\n",
        "        return self.transformer_encoder(src_emb, src_key_padding_mask=src_mask)\n",
        "\n",
        "    def decode(self, tgt, memory, tgt_mask, tgt_key_padding_mask):\n",
        "        tgt_emb = self.tgt_tok_emb(tgt) + self.positional_encoding(tgt.size(1))\n",
        "        return self.transformer_decoder(tgt_emb, memory, tgt_mask, tgt_key_padding_mask=tgt_key_padding_mask)\n",
        "\n",
        "    def forward(self, src, tgt, src_mask=None, tgt_mask=None, src_padding_mask=None, tgt_padding_mask=None):\n",
        "        memory = self.encode(src, src_padding_mask)\n",
        "        output = self.decode(tgt, memory, tgt_mask, tgt_padding_mask)\n",
        "        return self.generator(output)\n",
        "\n",
        "    def generate_square_subsequent_mask(self, sz):\n",
        "        mask = torch.triu(torch.ones(sz, sz)).transpose(0, 1)\n",
        "        mask = mask.float().masked_fill(mask == 0, float('-inf')).masked_fill(mask == 1, float(0.0))\n",
        "        return mask\n",
        "model_adamw = TransformerModel(len(vocab_en), len(vocab_fr), embed_size=64, nhead=8, dim_feedforward=1024, max_seq_length=512)"
      ],
      "metadata": {
        "colab": {
          "base_uri": "https://localhost:8080/"
        },
        "id": "2OHxqK97CGNz",
        "outputId": "b45f8bf5-1a39-4c95-ed6c-9e62f942f971"
      },
      "execution_count": null,
      "outputs": [
        {
          "output_type": "stream",
          "name": "stderr",
          "text": [
            "/usr/local/lib/python3.10/dist-packages/torch/nn/modules/transformer.py:286: UserWarning: enable_nested_tensor is True, but self.use_nested_tensor is False because encoder_layer.self_attn.batch_first was not True(use batch_first for better inference performance)\n",
            "  warnings.warn(f\"enable_nested_tensor is True, but self.use_nested_tensor is False because {why_not_sparsity_fast_path}\")\n"
          ]
        }
      ]
    },
    {
      "cell_type": "code",
      "source": [
        "optimizer = torch.optim.AdamW(model_adamw.parameters(), lr=0.001)\n",
        "# scheduler = torch.optim.lr_scheduler.StepLR(optimizer, step_size=1, gamma=0.95)\n",
        "seq2seq_loss_adamw = nn.CrossEntropyLoss(ignore_index=PAD_IDX)\n",
        "def init_weights(m):\n",
        "    if isinstance(m, nn.Linear):\n",
        "        nn.init.xavier_uniform_(m.weight)\n",
        "        if m.bias is not None:\n",
        "            nn.init.constant_(m.bias, 0)\n",
        "device = torch.device(\"cuda\" if torch.cuda.is_available() else \"cpu\")\n",
        "model_adamw.to(device)\n",
        "def train_and_evaluate(model, train_dataloader, val_dataloader, test_dataloader, optimizer, loss_function, vocab_en, vocab_fr, epochs=10):\n",
        "    model.apply(init_weights)\n",
        "    training_loss = []\n",
        "    validation_loss = []\n",
        "    for epoch in range(epochs):\n",
        "        model.train()\n",
        "        total_train_loss = 0\n",
        "\n",
        "        for src, tgt in train_dataloader:\n",
        "            src, tgt = src.to(device), tgt.to(device)\n",
        "            src = src.T\n",
        "            tgt_inp = tgt.T\n",
        "            tgt_input = tgt_inp[:-1, :]\n",
        "            tgt_output = tgt_inp[1:, :]\n",
        "            src_seq_length = src.shape[0]\n",
        "            tgt_seq_length = tgt_input.shape[0]\n",
        "            src_mask = torch.zeros(src_seq_length, src_seq_length).to(device).type(torch.bool)\n",
        "            tgt_mask = model.generate_square_subsequent_mask(tgt_seq_length).to(device)\n",
        "\n",
        "            src_padding_mask = (src == PAD_IDX).transpose(0, 1).to(device)\n",
        "            tgt_padding_mask = (tgt_input == PAD_IDX).transpose(0, 1).to(device)\n",
        "\n",
        "            logits = model(src, tgt_input, src_mask, tgt_mask, src_padding_mask, tgt_padding_mask)\n",
        "            logits = logits.view(-1, logits.shape[-1])\n",
        "            tgt_output = tgt_output.reshape(-1)\n",
        "            loss = seq2seq_loss_adamw(logits, tgt_output)\n",
        "            optimizer.zero_grad()\n",
        "            loss.backward()\n",
        "            torch.nn.utils.clip_grad_norm_(model.parameters(), max_norm=1.0)\n",
        "            optimizer.step()\n",
        "            total_train_loss += loss.item() if not torch.isnan(loss) else 0\n",
        "\n",
        "\n",
        "        avg_train_loss = total_train_loss / len(train_dataloader)\n",
        "        training_loss.append(avg_train_loss)\n",
        "        model.eval()\n",
        "        total_val_loss = 0\n",
        "\n",
        "        with torch.no_grad():\n",
        "            for src, tgt in val_dataloader:\n",
        "                src, tgt = src.to(device), tgt.to(device)\n",
        "                src = src.T\n",
        "                tgt_inp = tgt.T\n",
        "                tgt_input = tgt_inp[:-1, :]\n",
        "                tgt_output = tgt_inp[1:, :]\n",
        "                src_seq_length = src.shape[0]\n",
        "                tgt_seq_length = tgt_input.shape[0]\n",
        "                src_mask = torch.zeros(src_seq_length, src_seq_length).to(device).type(torch.bool)\n",
        "                tgt_mask = model.generate_square_subsequent_mask(tgt_seq_length).to(device)\n",
        "                src_padding_mask = (src == PAD_IDX).transpose(0, 1).to(device)\n",
        "                tgt_padding_mask = (tgt_input == PAD_IDX).transpose(0, 1).to(device)\n",
        "                logits = model(src, tgt_input, src_mask, tgt_mask, src_padding_mask, tgt_padding_mask)\n",
        "                logits = logits.view(-1, logits.shape[-1])\n",
        "                tgt_output = tgt_output.reshape(-1)\n",
        "                loss = seq2seq_loss_adamw(logits, tgt_output)\n",
        "                total_val_loss += loss.item()\n",
        "\n",
        "\n",
        "        avg_val_loss = total_val_loss / len(val_dataloader)\n",
        "        validation_loss.append(avg_val_loss)\n",
        "        print(f'Epoch {epoch+1}, Training Loss: {avg_train_loss:.4f}, Validation Loss: {avg_val_loss:.4f}')\n",
        "    return training_loss, validation_loss,model\n",
        "training_loss_adamw, validation_loss_adamw,model_adamw = train_and_evaluate(model_adamw, train_dataloader, val_dataloader, test_dataloader, optimizer, vocab_en, vocab_fr, seq2seq_loss_adamw, epochs=10)"
      ],
      "metadata": {
        "colab": {
          "base_uri": "https://localhost:8080/"
        },
        "id": "UAW7M28aCNRN",
        "outputId": "d36da45e-bc13-4378-e0c9-49d87fcc664a"
      },
      "execution_count": null,
      "outputs": [
        {
          "output_type": "stream",
          "name": "stderr",
          "text": [
            "/usr/local/lib/python3.10/dist-packages/torch/nn/functional.py:5109: UserWarning: Support for mismatched key_padding_mask and attn_mask is deprecated. Use same type for both instead.\n",
            "  warnings.warn(\n"
          ]
        },
        {
          "output_type": "stream",
          "name": "stdout",
          "text": [
            "Epoch 1, Training Loss: 5.0098, Validation Loss: 4.4297\n",
            "Epoch 2, Training Loss: 4.2482, Validation Loss: 4.2305\n",
            "Epoch 3, Training Loss: 3.9928, Validation Loss: 4.0139\n",
            "Epoch 4, Training Loss: 3.8060, Validation Loss: 3.8717\n",
            "Epoch 5, Training Loss: 3.6604, Validation Loss: 3.7661\n",
            "Epoch 6, Training Loss: 3.5428, Validation Loss: 3.6701\n",
            "Epoch 7, Training Loss: 3.4472, Validation Loss: 3.6068\n",
            "Epoch 8, Training Loss: 3.3672, Validation Loss: 3.5603\n",
            "Epoch 9, Training Loss: 3.3005, Validation Loss: 3.5214\n",
            "Epoch 10, Training Loss: 3.2415, Validation Loss: 3.4907\n"
          ]
        }
      ]
    },
    {
      "cell_type": "code",
      "source": [
        "import matplotlib.pyplot as plt\n",
        "epochs = range(1, len(training_loss_adamw) + 1)\n",
        "plt.plot(epochs, training_loss_adamw, label='Training Loss')\n",
        "plt.plot(epochs, validation_loss_adamw, label='Validation Loss')\n",
        "plt.xlabel('Epochs')\n",
        "plt.ylabel('Loss')\n",
        "plt.title('Training and Validation Loss')\n",
        "plt.legend()\n",
        "plt.show()"
      ],
      "metadata": {
        "colab": {
          "base_uri": "https://localhost:8080/",
          "height": 472
        },
        "id": "RhdcRgxfHy4-",
        "outputId": "69ef9d2e-653f-4b2a-8db7-4f015423199b"
      },
      "execution_count": null,
      "outputs": [
        {
          "output_type": "display_data",
          "data": {
            "text/plain": [
              "<Figure size 640x480 with 1 Axes>"
            ],
            "image/png": "[encoded data removed]"
          },
          "metadata": {}
        }
      ]
    },
    {
      "cell_type": "code",
      "source": [
        "model_adamw_metrics = {'training_loss': training_loss_adamw, 'validation_loss': validation_loss_adamw}\n",
        "torch.save(model_adamw_metrics, '/content/drive/MyDrive/Adamw/relative_positional_encoding/crossentropyloss/model_adamw_metrics.pkl')"
      ],
      "metadata": {
        "id": "YZx6wy7QH8DU"
      },
      "execution_count": null,
      "outputs": []
    },
    {
      "cell_type": "code",
      "source": [
        "torch.save(model_adamw.state_dict(), '/content/drive/MyDrive/Adamw/relative_positional_encoding/crossentropyloss/model_metrics_adamw.pkl')\n",
        "torch.save(model_adamw, '/content/drive/MyDrive/Adamw/relative_positional_encoding/crossentropyloss/model_adamw.pt')"
      ],
      "metadata": {
        "id": "DObUcWWnIMNO"
      },
      "execution_count": null,
      "outputs": []
    },
    {
      "cell_type": "markdown",
      "source": [
        "##Crossentropywithlabelsmoothning"
      ],
      "metadata": {
        "id": "65HCpAwZmJz-"
      }
    },
    {
      "cell_type": "code",
      "source": [
        "import torch\n",
        "from torch import nn\n",
        "import math\n",
        "class RelativePositionalEncoding(nn.Module):\n",
        "    def __init__(self, emb_size: int, max_len: int = 5000):\n",
        "        super(RelativePositionalEncoding, self).__init__()\n",
        "        self.emb_size = emb_size\n",
        "        self.max_len = max_len\n",
        "        relative_positions = torch.arange(-max_len, max_len + 1, dtype=torch.long)\n",
        "        scales = torch.exp(-torch.arange(0, emb_size, 2) * math.log(10000) / emb_size)\n",
        "        relative_positional_encodings = torch.zeros((2 * max_len + 1, emb_size))\n",
        "        relative_positional_encodings[:, 0::2] = torch.sin(relative_positions.unsqueeze(-1) * scales)\n",
        "        relative_positional_encodings[:, 1::2] = torch.cos(relative_positions.unsqueeze(-1) * scales)\n",
        "        self.register_buffer('relative_positional_encodings', relative_positional_encodings)\n",
        "\n",
        "    def forward(self, length: int):\n",
        "        center_pos = self.max_len\n",
        "        return self.relative_positional_encodings[center_pos - length + 1 : center_pos + 1]\n",
        "\n",
        "class TokenEmbedding(nn.Module):\n",
        "    def __init__(self, vocab_size: int, emb_size: int):\n",
        "        super(TokenEmbedding, self).__init__()\n",
        "        self.embedding = nn.Embedding(vocab_size, emb_size)\n",
        "        self.emb_size = emb_size\n",
        "\n",
        "    def forward(self, tokens: torch.Tensor):\n",
        "        return self.embedding(tokens.long()) * math.sqrt(self.emb_size)\n",
        "\n",
        "class TransformerModel(nn.Module):\n",
        "    def __init__(self, num_tokens_en, num_tokens_fr, embed_size, nhead, dim_feedforward, max_seq_length):\n",
        "        super(TransformerModel, self).__init__()\n",
        "        self.embed_size = embed_size\n",
        "        self.src_tok_emb = TokenEmbedding(num_tokens_en, embed_size)\n",
        "        self.tgt_tok_emb = TokenEmbedding(num_tokens_fr, embed_size)\n",
        "        self.positional_encoding = RelativePositionalEncoding(embed_size, max_len=max_seq_length)\n",
        "\n",
        "        encoder_layer = nn.TransformerEncoderLayer(d_model=embed_size, nhead=nhead, dim_feedforward=dim_feedforward, dropout=0.1)\n",
        "        self.transformer_encoder = nn.TransformerEncoder(encoder_layer, num_layers=3)\n",
        "\n",
        "        decoder_layer = nn.TransformerDecoderLayer(d_model=embed_size, nhead=nhead, dim_feedforward=dim_feedforward, dropout=0.1)\n",
        "        self.transformer_decoder = nn.TransformerDecoder(decoder_layer, num_layers=3)\n",
        "        self.generator = nn.Linear(embed_size, num_tokens_fr)\n",
        "\n",
        "    def encode(self, src, src_mask):\n",
        "        src_emb = self.src_tok_emb(src) + self.positional_encoding(src.size(1))\n",
        "        return self.transformer_encoder(src_emb, src_key_padding_mask=src_mask)\n",
        "\n",
        "    def decode(self, tgt, memory, tgt_mask, tgt_key_padding_mask):\n",
        "        tgt_emb = self.tgt_tok_emb(tgt) + self.positional_encoding(tgt.size(1))\n",
        "        return self.transformer_decoder(tgt_emb, memory, tgt_mask, tgt_key_padding_mask=tgt_key_padding_mask)\n",
        "\n",
        "    def forward(self, src, tgt, src_mask=None, tgt_mask=None, src_padding_mask=None, tgt_padding_mask=None):\n",
        "        memory = self.encode(src, src_padding_mask)\n",
        "        output = self.decode(tgt, memory, tgt_mask, tgt_padding_mask)\n",
        "        return self.generator(output)\n",
        "\n",
        "    def generate_square_subsequent_mask(self, sz):\n",
        "        mask = torch.triu(torch.ones(sz, sz)).transpose(0, 1)\n",
        "        mask = mask.float().masked_fill(mask == 0, float('-inf')).masked_fill(mask == 1, float(0.0))\n",
        "        return mask\n",
        "model_adamw_c = TransformerModel(len(vocab_en), len(vocab_fr), embed_size=64, nhead=8, dim_feedforward=1024, max_seq_length=512)"
      ],
      "metadata": {
        "colab": {
          "base_uri": "https://localhost:8080/"
        },
        "id": "L8wGgQxamSz3",
        "outputId": "126659b0-d4b4-41b2-8fc2-e4450b5e34b2"
      },
      "execution_count": null,
      "outputs": [
        {
          "output_type": "stream",
          "name": "stderr",
          "text": [
            "/usr/local/lib/python3.10/dist-packages/torch/nn/modules/transformer.py:286: UserWarning: enable_nested_tensor is True, but self.use_nested_tensor is False because encoder_layer.self_attn.batch_first was not True(use batch_first for better inference performance)\n",
            "  warnings.warn(f\"enable_nested_tensor is True, but self.use_nested_tensor is False because {why_not_sparsity_fast_path}\")\n"
          ]
        }
      ]
    },
    {
      "cell_type": "code",
      "source": [
        "optimizer = torch.optim.AdamW(model_adamw_c.parameters(), lr=0.001)\n",
        "# scheduler = torch.optim.lr_scheduler.StepLR(optimizer, step_size=1, gamma=0.95)\n",
        "seq2seq_loss_adamw_c = nn.CrossEntropyLoss(ignore_index=PAD_IDX,label_smoothing=0.5)\n",
        "def init_weights(m):\n",
        "    if isinstance(m, nn.Linear):\n",
        "        nn.init.xavier_uniform_(m.weight)\n",
        "        if m.bias is not None:\n",
        "            nn.init.constant_(m.bias, 0)\n",
        "device = torch.device(\"cuda\" if torch.cuda.is_available() else \"cpu\")\n",
        "model_adamw_c.to(device)\n",
        "def train_and_evaluate(model, train_dataloader, val_dataloader, test_dataloader, optimizer, loss_function, vocab_en, vocab_fr, epochs=10):\n",
        "    model.apply(init_weights)\n",
        "    training_loss = []\n",
        "    validation_loss = []\n",
        "    for epoch in range(epochs):\n",
        "        model.train()\n",
        "        total_train_loss = 0\n",
        "\n",
        "        for src, tgt in train_dataloader:\n",
        "            src, tgt = src.to(device), tgt.to(device)\n",
        "            src = src.T\n",
        "            tgt_inp = tgt.T\n",
        "            tgt_input = tgt_inp[:-1, :]\n",
        "            tgt_output = tgt_inp[1:, :]\n",
        "            src_seq_length = src.shape[0]\n",
        "            tgt_seq_length = tgt_input.shape[0]\n",
        "            src_mask = torch.zeros(src_seq_length, src_seq_length).to(device).type(torch.bool)\n",
        "            tgt_mask = model.generate_square_subsequent_mask(tgt_seq_length).to(device)\n",
        "\n",
        "            src_padding_mask = (src == PAD_IDX).transpose(0, 1).to(device)\n",
        "            tgt_padding_mask = (tgt_input == PAD_IDX).transpose(0, 1).to(device)\n",
        "\n",
        "            logits = model(src, tgt_input, src_mask, tgt_mask, src_padding_mask, tgt_padding_mask)\n",
        "            logits = logits.view(-1, logits.shape[-1])\n",
        "            tgt_output = tgt_output.reshape(-1)\n",
        "            loss = seq2seq_loss_adamw_c(logits, tgt_output)\n",
        "            optimizer.zero_grad()\n",
        "            loss.backward()\n",
        "            torch.nn.utils.clip_grad_norm_(model.parameters(), max_norm=1.0)\n",
        "            optimizer.step()\n",
        "            total_train_loss += loss.item() if not torch.isnan(loss) else 0\n",
        "\n",
        "\n",
        "        avg_train_loss = total_train_loss / len(train_dataloader)\n",
        "        training_loss.append(avg_train_loss)\n",
        "        model.eval()\n",
        "        total_val_loss = 0\n",
        "\n",
        "        with torch.no_grad():\n",
        "            for src, tgt in val_dataloader:\n",
        "                src, tgt = src.to(device), tgt.to(device)\n",
        "                src = src.T\n",
        "                tgt_inp = tgt.T\n",
        "                tgt_input = tgt_inp[:-1, :]\n",
        "                tgt_output = tgt_inp[1:, :]\n",
        "                src_seq_length = src.shape[0]\n",
        "                tgt_seq_length = tgt_input.shape[0]\n",
        "                src_mask = torch.zeros(src_seq_length, src_seq_length).to(device).type(torch.bool)\n",
        "                tgt_mask = model.generate_square_subsequent_mask(tgt_seq_length).to(device)\n",
        "                src_padding_mask = (src == PAD_IDX).transpose(0, 1).to(device)\n",
        "                tgt_padding_mask = (tgt_input == PAD_IDX).transpose(0, 1).to(device)\n",
        "                logits = model(src, tgt_input, src_mask, tgt_mask, src_padding_mask, tgt_padding_mask)\n",
        "                logits = logits.view(-1, logits.shape[-1])\n",
        "                tgt_output = tgt_output.reshape(-1)\n",
        "                loss = seq2seq_loss_adamw_c(logits, tgt_output)\n",
        "                total_val_loss += loss.item()\n",
        "\n",
        "\n",
        "        avg_val_loss = total_val_loss / len(val_dataloader)\n",
        "        validation_loss.append(avg_val_loss)\n",
        "        print(f'Epoch {epoch+1}, Training Loss: {avg_train_loss:.4f}, Validation Loss: {avg_val_loss:.4f}')\n",
        "    return training_loss, validation_loss,model\n",
        "training_loss_adamw_c, validation_loss_adamw_c,model_adamw_c = train_and_evaluate(model_adamw_c, train_dataloader, val_dataloader, test_dataloader, optimizer, vocab_en, vocab_fr, seq2seq_loss_adamw_c, epochs=10)"
      ],
      "metadata": {
        "colab": {
          "base_uri": "https://localhost:8080/"
        },
        "id": "Nch3NzZWmj5e",
        "outputId": "23502959-8d79-44b9-ce8f-0857fd2bb0b0"
      },
      "execution_count": null,
      "outputs": [
        {
          "output_type": "stream",
          "name": "stderr",
          "text": [
            "/usr/local/lib/python3.10/dist-packages/torch/nn/functional.py:5109: UserWarning: Support for mismatched key_padding_mask and attn_mask is deprecated. Use same type for both instead.\n",
            "  warnings.warn(\n"
          ]
        },
        {
          "output_type": "stream",
          "name": "stdout",
          "text": [
            "Epoch 1, Training Loss: 8.3707, Validation Loss: 8.1696\n",
            "Epoch 2, Training Loss: 8.0832, Validation Loss: 8.0195\n",
            "Epoch 3, Training Loss: 7.9791, Validation Loss: 7.9210\n",
            "Epoch 4, Training Loss: 7.9039, Validation Loss: 7.8687\n",
            "Epoch 5, Training Loss: 7.8512, Validation Loss: 7.8221\n",
            "Epoch 6, Training Loss: 7.8123, Validation Loss: 7.7859\n",
            "Epoch 7, Training Loss: 7.7807, Validation Loss: 7.7603\n",
            "Epoch 8, Training Loss: 7.7550, Validation Loss: 7.7408\n",
            "Epoch 9, Training Loss: 7.7334, Validation Loss: 7.7281\n",
            "Epoch 10, Training Loss: 7.7150, Validation Loss: 7.7103\n"
          ]
        }
      ]
    },
    {
      "cell_type": "code",
      "source": [
        "import matplotlib.pyplot as plt\n",
        "epochs = range(1, len(training_loss_adamw_c) + 1)\n",
        "plt.plot(epochs, training_loss_adamw_c, 'b', label='Training Loss')\n",
        "plt.plot(epochs, validation_loss_adamw_c, 'r', label='Validation Loss')\n",
        "plt.title('Training and Validation Loss')\n",
        "plt.xlabel('Epochs')\n",
        "plt.ylabel('Loss')\n",
        "plt.legend()\n",
        "plt.show()"
      ],
      "metadata": {
        "colab": {
          "base_uri": "https://localhost:8080/",
          "height": 472
        },
        "id": "zLTrnD2zq6K-",
        "outputId": "ca163246-509c-4623-cf1e-cb3ad2110068"
      },
      "execution_count": null,
      "outputs": [
        {
          "output_type": "display_data",
          "data": {
            "text/plain": [
              "<Figure size 640x480 with 1 Axes>"
            ],
            "image/png": "[encoded data removed]"
          },
          "metadata": {}
        }
      ]
    },
    {
      "cell_type": "code",
      "source": [
        "torch.save(model_adamw_c.state_dict(), '/content/drive/MyDrive/Adamw/relative_positional_encoding/crossentropywithlabelsmoothning/model_state_adamw_c.pkl')\n",
        "torch.save(model_adamw_c, '/content/drive/MyDrive/Adamw/relative_positional_encoding/crossentropywithlabelsmoothning/model_adamw_c.pt')"
      ],
      "metadata": {
        "id": "triCoq5yrBj0"
      },
      "execution_count": null,
      "outputs": []
    },
    {
      "cell_type": "code",
      "source": [
        "model_metrcis_adamw_c = {'training_loss': training_loss_adamw_c, 'validation_loss': validation_loss_adamw_c}\n",
        "torch.save(model_metrcis_adamw_c, '/content/drive/MyDrive/Adamw/relative_positional_encoding/crossentropywithlabelsmoothning/model_metrics_adamw_c.pth')"
      ],
      "metadata": {
        "id": "LuJYfQJlroVs"
      },
      "execution_count": null,
      "outputs": []
    },
    {
      "cell_type": "markdown",
      "source": [
        "##NLLLoss"
      ],
      "metadata": {
        "id": "RMFX91I6suTQ"
      }
    },
    {
      "cell_type": "code",
      "source": [
        "import torch\n",
        "from torch import nn\n",
        "import math\n",
        "class RelativePositionalEncoding(nn.Module):\n",
        "    def __init__(self, emb_size: int, max_len: int = 5000):\n",
        "        super(RelativePositionalEncoding, self).__init__()\n",
        "        self.emb_size = emb_size\n",
        "        self.max_len = max_len\n",
        "        relative_positions = torch.arange(-max_len, max_len + 1, dtype=torch.long)\n",
        "        scales = torch.exp(-torch.arange(0, emb_size, 2) * math.log(10000) / emb_size)\n",
        "        relative_positional_encodings = torch.zeros((2 * max_len + 1, emb_size))\n",
        "        relative_positional_encodings[:, 0::2] = torch.sin(relative_positions.unsqueeze(-1) * scales)\n",
        "        relative_positional_encodings[:, 1::2] = torch.cos(relative_positions.unsqueeze(-1) * scales)\n",
        "        self.register_buffer('relative_positional_encodings', relative_positional_encodings)\n",
        "\n",
        "    def forward(self, length: int):\n",
        "        center_pos = self.max_len\n",
        "        return self.relative_positional_encodings[center_pos - length + 1 : center_pos + 1]\n",
        "\n",
        "class TokenEmbedding(nn.Module):\n",
        "    def __init__(self, vocab_size: int, emb_size: int):\n",
        "        super(TokenEmbedding, self).__init__()\n",
        "        self.embedding = nn.Embedding(vocab_size, emb_size)\n",
        "        self.emb_size = emb_size\n",
        "\n",
        "    def forward(self, tokens: torch.Tensor):\n",
        "        return self.embedding(tokens.long()) * math.sqrt(self.emb_size)\n",
        "\n",
        "class TransformerModel(nn.Module):\n",
        "    def __init__(self, num_tokens_en, num_tokens_fr, embed_size, nhead, dim_feedforward, max_seq_length):\n",
        "        super(TransformerModel, self).__init__()\n",
        "        self.embed_size = embed_size\n",
        "        self.src_tok_emb = TokenEmbedding(num_tokens_en, embed_size)\n",
        "        self.tgt_tok_emb = TokenEmbedding(num_tokens_fr, embed_size)\n",
        "        self.positional_encoding = RelativePositionalEncoding(embed_size, max_len=max_seq_length)\n",
        "\n",
        "        encoder_layer = nn.TransformerEncoderLayer(d_model=embed_size, nhead=nhead, dim_feedforward=dim_feedforward, dropout=0.1)\n",
        "        self.transformer_encoder = nn.TransformerEncoder(encoder_layer, num_layers=3)\n",
        "\n",
        "        decoder_layer = nn.TransformerDecoderLayer(d_model=embed_size, nhead=nhead, dim_feedforward=dim_feedforward, dropout=0.1)\n",
        "        self.transformer_decoder = nn.TransformerDecoder(decoder_layer, num_layers=3)\n",
        "        self.generator = nn.Linear(embed_size, num_tokens_fr)\n",
        "\n",
        "    def encode(self, src, src_mask):\n",
        "        src_emb = self.src_tok_emb(src) + self.positional_encoding(src.size(1))\n",
        "        return self.transformer_encoder(src_emb, src_key_padding_mask=src_mask)\n",
        "\n",
        "    def decode(self, tgt, memory, tgt_mask, tgt_key_padding_mask):\n",
        "        tgt_emb = self.tgt_tok_emb(tgt) + self.positional_encoding(tgt.size(1))\n",
        "        return self.transformer_decoder(tgt_emb, memory, tgt_mask, tgt_key_padding_mask=tgt_key_padding_mask)\n",
        "\n",
        "    def forward(self, src, tgt, src_mask=None, tgt_mask=None, src_padding_mask=None, tgt_padding_mask=None):\n",
        "        memory = self.encode(src, src_padding_mask)\n",
        "        output = self.decode(tgt, memory, tgt_mask, tgt_padding_mask)\n",
        "        return self.generator(output)\n",
        "\n",
        "    def generate_square_subsequent_mask(self, sz):\n",
        "        mask = torch.triu(torch.ones(sz, sz)).transpose(0, 1)\n",
        "        mask = mask.float().masked_fill(mask == 0, float('-inf')).masked_fill(mask == 1, float(0.0))\n",
        "        return mask\n",
        "model_adamw_n = TransformerModel(len(vocab_en), len(vocab_fr), embed_size=64, nhead=8, dim_feedforward=1024, max_seq_length=512)"
      ],
      "metadata": {
        "colab": {
          "base_uri": "https://localhost:8080/"
        },
        "id": "_xFTwDGXtUHM",
        "outputId": "18b12125-8f77-4c99-9c64-b32c40d7aebd"
      },
      "execution_count": null,
      "outputs": [
        {
          "output_type": "stream",
          "name": "stderr",
          "text": [
            "/usr/local/lib/python3.10/dist-packages/torch/nn/modules/transformer.py:286: UserWarning: enable_nested_tensor is True, but self.use_nested_tensor is False because encoder_layer.self_attn.batch_first was not True(use batch_first for better inference performance)\n",
            "  warnings.warn(f\"enable_nested_tensor is True, but self.use_nested_tensor is False because {why_not_sparsity_fast_path}\")\n"
          ]
        }
      ]
    },
    {
      "cell_type": "code",
      "source": [
        "optimizer = torch.optim.AdamW(model_adamw_n.parameters(), lr=0.001)\n",
        "# scheduler = torch.optim.lr_scheduler.StepLR(optimizer, step_size=1, gamma=0.95)\n",
        "seq2seq_loss_adamw_n = nn.NLLLoss(ignore_index=PAD_IDX)\n",
        "def init_weights(m):\n",
        "    if isinstance(m, nn.Linear):\n",
        "        nn.init.xavier_uniform_(m.weight)\n",
        "        if m.bias is not None:\n",
        "            nn.init.constant_(m.bias, 0)\n",
        "device = torch.device(\"cuda\" if torch.cuda.is_available() else \"cpu\")\n",
        "model_adamw_n.to(device)\n",
        "def train_and_evaluate(model, train_dataloader, val_dataloader, test_dataloader, optimizer, loss_function, vocab_en, vocab_fr, epochs=10):\n",
        "    model.apply(init_weights)\n",
        "    training_loss = []\n",
        "    validation_loss = []\n",
        "    for epoch in range(epochs):\n",
        "        model.train()\n",
        "        total_train_loss = 0\n",
        "\n",
        "        for src, tgt in train_dataloader:\n",
        "            src, tgt = src.to(device), tgt.to(device)\n",
        "            src = src.T\n",
        "            tgt_inp = tgt.T\n",
        "            tgt_input = tgt_inp[:-1, :]\n",
        "            tgt_output = tgt_inp[1:, :]\n",
        "            src_seq_length = src.shape[0]\n",
        "            tgt_seq_length = tgt_input.shape[0]\n",
        "            src_mask = torch.zeros(src_seq_length, src_seq_length).to(device).type(torch.bool)\n",
        "            tgt_mask = model.generate_square_subsequent_mask(tgt_seq_length).to(device)\n",
        "\n",
        "            src_padding_mask = (src == PAD_IDX).transpose(0, 1).to(device)\n",
        "            tgt_padding_mask = (tgt_input == PAD_IDX).transpose(0, 1).to(device)\n",
        "\n",
        "            logits = model(src, tgt_input, src_mask, tgt_mask, src_padding_mask, tgt_padding_mask)\n",
        "            logits = logits.view(-1, logits.shape[-1])\n",
        "            logits = F.log_softmax(logits, dim=-1)\n",
        "            tgt_output = tgt_output.reshape(-1)\n",
        "            loss = seq2seq_loss_adamw_n(logits, tgt_output)\n",
        "            optimizer.zero_grad()\n",
        "            loss.backward()\n",
        "            torch.nn.utils.clip_grad_norm_(model.parameters(), max_norm=1.0)\n",
        "            optimizer.step()\n",
        "            total_train_loss += loss.item() if not torch.isnan(loss) else 0\n",
        "\n",
        "\n",
        "        avg_train_loss = total_train_loss / len(train_dataloader)\n",
        "        training_loss.append(avg_train_loss)\n",
        "        model.eval()\n",
        "        total_val_loss = 0\n",
        "\n",
        "        with torch.no_grad():\n",
        "            for src, tgt in val_dataloader:\n",
        "                src, tgt = src.to(device), tgt.to(device)\n",
        "                src = src.T\n",
        "                tgt_inp = tgt.T\n",
        "                tgt_input = tgt_inp[:-1, :]\n",
        "                tgt_output = tgt_inp[1:, :]\n",
        "                src_seq_length = src.shape[0]\n",
        "                tgt_seq_length = tgt_input.shape[0]\n",
        "                src_mask = torch.zeros(src_seq_length, src_seq_length).to(device).type(torch.bool)\n",
        "                tgt_mask = model.generate_square_subsequent_mask(tgt_seq_length).to(device)\n",
        "                src_padding_mask = (src == PAD_IDX).transpose(0, 1).to(device)\n",
        "                tgt_padding_mask = (tgt_input == PAD_IDX).transpose(0, 1).to(device)\n",
        "                logits = model(src, tgt_input, src_mask, tgt_mask, src_padding_mask, tgt_padding_mask)\n",
        "                logits = logits.view(-1, logits.shape[-1])\n",
        "                logits = F.log_softmax(logits, dim=-1)\n",
        "                tgt_output = tgt_output.reshape(-1)\n",
        "                loss = seq2seq_loss_adamw_n(logits, tgt_output)\n",
        "                total_val_loss += loss.item()\n",
        "\n",
        "\n",
        "        avg_val_loss = total_val_loss / len(val_dataloader)\n",
        "        validation_loss.append(avg_val_loss)\n",
        "        print(f'Epoch {epoch+1}, Training Loss: {avg_train_loss:.4f}, Validation Loss: {avg_val_loss:.4f}')\n",
        "    return training_loss, validation_loss,model\n",
        "training_loss_adamw_n, validation_loss_adamw_n,model_adamw_n = train_and_evaluate(model_adamw_n, train_dataloader, val_dataloader, test_dataloader, optimizer, vocab_en, vocab_fr, seq2seq_loss_adamw_n, epochs=10)"
      ],
      "metadata": {
        "colab": {
          "base_uri": "https://localhost:8080/"
        },
        "id": "ItCotPXltbMF",
        "outputId": "eb3dffe7-44ce-4d1b-9338-07c0cfa9a5b7"
      },
      "execution_count": null,
      "outputs": [
        {
          "output_type": "stream",
          "name": "stdout",
          "text": [
            "Epoch 1, Training Loss: 5.0177, Validation Loss: 4.4507\n",
            "Epoch 2, Training Loss: 4.2674, Validation Loss: 4.2116\n",
            "Epoch 3, Training Loss: 4.0120, Validation Loss: 4.0866\n",
            "Epoch 4, Training Loss: 3.8325, Validation Loss: 3.9463\n",
            "Epoch 5, Training Loss: 3.6983, Validation Loss: 3.8586\n",
            "Epoch 6, Training Loss: 3.5904, Validation Loss: 3.7987\n",
            "Epoch 7, Training Loss: 3.5000, Validation Loss: 3.7616\n",
            "Epoch 8, Training Loss: 3.4152, Validation Loss: 3.7398\n",
            "Epoch 9, Training Loss: 3.3428, Validation Loss: 3.7167\n",
            "Epoch 10, Training Loss: 3.2809, Validation Loss: 3.7038\n"
          ]
        }
      ]
    },
    {
      "cell_type": "code",
      "source": [
        "import matplotlib.pyplot as plt\n",
        "epochs = range(1, len(training_loss_adamw_n) + 1)\n",
        "plt.plot(epochs, training_loss_adamw_n, 'b', label='Training Loss')\n",
        "plt.plot(epochs, validation_loss_adamw_n, 'r', label='Validation Loss')\n",
        "plt.title('NLLLoss')\n",
        "plt.xlabel('Epochs')\n",
        "plt.ylabel('Loss')\n",
        "plt.legend()\n",
        "plt.show()"
      ],
      "metadata": {
        "colab": {
          "base_uri": "https://localhost:8080/",
          "height": 472
        },
        "id": "dmOPwLFZvd_O",
        "outputId": "84f8afed-af7b-4498-ed75-ab818dbaba30"
      },
      "execution_count": null,
      "outputs": [
        {
          "output_type": "display_data",
          "data": {
            "text/plain": [
              "<Figure size 640x480 with 1 Axes>"
            ],
            "image/png": "[encoded data removed]"
          },
          "metadata": {}
        }
      ]
    },
    {
      "cell_type": "code",
      "source": [
        "torch.save(model_adamw_n.state_dict(), '/content/drive/MyDrive/Adamw/relative_positional_encoding/sparsecategoricalcrossentropy/model_metrics_adamw_n.pt')\n",
        "torch.save(model_adamw_n, '/content/drive/MyDrive/Adamw/relative_positional_encoding/sparsecategoricalcrossentropy/model_adamw_n.pkl')"
      ],
      "metadata": {
        "id": "ZsN23j8B1mGp"
      },
      "execution_count": null,
      "outputs": []
    },
    {
      "cell_type": "code",
      "source": [
        "model_metrics_adamw_n = {'training_loss':training_loss_adamw_n,'validation_loss':validation_loss_adamw_n}\n",
        "torch.save(model_metrics_adamw_n, '/content/drive/MyDrive/Adamw/relative_positional_encoding/sparsecategoricalcrossentropy/model_adamw_n_metrics.pt')"
      ],
      "metadata": {
        "id": "QZYUxZh81wsY"
      },
      "execution_count": null,
      "outputs": []
    },
    {
      "cell_type": "markdown",
      "source": [
        "##SGD\n",
        "##Cross Entropy Loss"
      ],
      "metadata": {
        "id": "fhryaEASTOU5"
      }
    },
    {
      "cell_type": "code",
      "source": [
        "import torch\n",
        "from torch import nn\n",
        "import math\n",
        "class RelativePositionalEncoding(nn.Module):\n",
        "    def __init__(self, emb_size: int, max_len: int = 5000):\n",
        "        super(RelativePositionalEncoding, self).__init__()\n",
        "        self.emb_size = emb_size\n",
        "        self.max_len = max_len\n",
        "        relative_positions = torch.arange(-max_len, max_len + 1, dtype=torch.long)\n",
        "        scales = torch.exp(-torch.arange(0, emb_size, 2) * math.log(10000) / emb_size)\n",
        "        relative_positional_encodings = torch.zeros((2 * max_len + 1, emb_size))\n",
        "        relative_positional_encodings[:, 0::2] = torch.sin(relative_positions.unsqueeze(-1) * scales)\n",
        "        relative_positional_encodings[:, 1::2] = torch.cos(relative_positions.unsqueeze(-1) * scales)\n",
        "        self.register_buffer('relative_positional_encodings', relative_positional_encodings)\n",
        "\n",
        "    def forward(self, length: int):\n",
        "        center_pos = self.max_len\n",
        "        return self.relative_positional_encodings[center_pos - length + 1 : center_pos + 1]\n",
        "\n",
        "class TokenEmbedding(nn.Module):\n",
        "    def __init__(self, vocab_size: int, emb_size: int):\n",
        "        super(TokenEmbedding, self).__init__()\n",
        "        self.embedding = nn.Embedding(vocab_size, emb_size)\n",
        "        self.emb_size = emb_size\n",
        "\n",
        "    def forward(self, tokens: torch.Tensor):\n",
        "        return self.embedding(tokens.long()) * math.sqrt(self.emb_size)\n",
        "\n",
        "class TransformerModel(nn.Module):\n",
        "    def __init__(self, num_tokens_en, num_tokens_fr, embed_size, nhead, dim_feedforward, max_seq_length):\n",
        "        super(TransformerModel, self).__init__()\n",
        "        self.embed_size = embed_size\n",
        "        self.src_tok_emb = TokenEmbedding(num_tokens_en, embed_size)\n",
        "        self.tgt_tok_emb = TokenEmbedding(num_tokens_fr, embed_size)\n",
        "        self.positional_encoding = RelativePositionalEncoding(embed_size, max_len=max_seq_length)\n",
        "\n",
        "        encoder_layer = nn.TransformerEncoderLayer(d_model=embed_size, nhead=nhead, dim_feedforward=dim_feedforward, dropout=0.1)\n",
        "        self.transformer_encoder = nn.TransformerEncoder(encoder_layer, num_layers=3)\n",
        "\n",
        "        decoder_layer = nn.TransformerDecoderLayer(d_model=embed_size, nhead=nhead, dim_feedforward=dim_feedforward, dropout=0.1)\n",
        "        self.transformer_decoder = nn.TransformerDecoder(decoder_layer, num_layers=3)\n",
        "        self.generator = nn.Linear(embed_size, num_tokens_fr)\n",
        "\n",
        "    def encode(self, src, src_mask):\n",
        "        src_emb = self.src_tok_emb(src) + self.positional_encoding(src.size(1))\n",
        "        return self.transformer_encoder(src_emb, src_key_padding_mask=src_mask)\n",
        "\n",
        "    def decode(self, tgt, memory, tgt_mask, tgt_key_padding_mask):\n",
        "        tgt_emb = self.tgt_tok_emb(tgt) + self.positional_encoding(tgt.size(1))\n",
        "        return self.transformer_decoder(tgt_emb, memory, tgt_mask, tgt_key_padding_mask=tgt_key_padding_mask)\n",
        "\n",
        "    def forward(self, src, tgt, src_mask=None, tgt_mask=None, src_padding_mask=None, tgt_padding_mask=None):\n",
        "        memory = self.encode(src, src_padding_mask)\n",
        "        output = self.decode(tgt, memory, tgt_mask, tgt_padding_mask)\n",
        "        return self.generator(output)\n",
        "\n",
        "    def generate_square_subsequent_mask(self, sz):\n",
        "        mask = torch.triu(torch.ones(sz, sz)).transpose(0, 1)\n",
        "        mask = mask.float().masked_fill(mask == 0, float('-inf')).masked_fill(mask == 1, float(0.0))\n",
        "        return mask\n",
        "model_sgd = TransformerModel(len(vocab_en), len(vocab_fr), embed_size=64, nhead=8, dim_feedforward=1024, max_seq_length=512)"
      ],
      "metadata": {
        "colab": {
          "base_uri": "https://localhost:8080/"
        },
        "id": "Q2XrZtTgTQHe",
        "outputId": "f54ec566-9487-456d-bf9b-69d80b84178d"
      },
      "execution_count": null,
      "outputs": [
        {
          "output_type": "stream",
          "name": "stderr",
          "text": [
            "/usr/local/lib/python3.10/dist-packages/torch/nn/modules/transformer.py:286: UserWarning: enable_nested_tensor is True, but self.use_nested_tensor is False because encoder_layer.self_attn.batch_first was not True(use batch_first for better inference performance)\n",
            "  warnings.warn(f\"enable_nested_tensor is True, but self.use_nested_tensor is False because {why_not_sparsity_fast_path}\")\n"
          ]
        }
      ]
    },
    {
      "cell_type": "code",
      "source": [
        "optimizer = torch.optim.SGD(model_sgd.parameters(), lr=0.001)\n",
        "# scheduler = torch.optim.lr_scheduler.StepLR(optimizer, step_size=1, gamma=0.95)\n",
        "seq2seq_loss_sgd = nn.CrossEntropyLoss(ignore_index=PAD_IDX)\n",
        "def init_weights(m):\n",
        "    if isinstance(m, nn.Linear):\n",
        "        nn.init.xavier_uniform_(m.weight)\n",
        "        if m.bias is not None:\n",
        "            nn.init.constant_(m.bias, 0)\n",
        "device = torch.device(\"cuda\" if torch.cuda.is_available() else \"cpu\")\n",
        "model_sgd.to(device)\n",
        "def train_and_evaluate(model, train_dataloader, val_dataloader, test_dataloader, optimizer, loss_function, vocab_en, vocab_fr, epochs=10):\n",
        "    model.apply(init_weights)\n",
        "    training_loss = []\n",
        "    validation_loss = []\n",
        "    for epoch in range(epochs):\n",
        "        model.train()\n",
        "        total_train_loss = 0\n",
        "\n",
        "        for src, tgt in train_dataloader:\n",
        "            src, tgt = src.to(device), tgt.to(device)\n",
        "            src = src.T\n",
        "            tgt_inp = tgt.T\n",
        "            tgt_input = tgt_inp[:-1, :]\n",
        "            tgt_output = tgt_inp[1:, :]\n",
        "            src_seq_length = src.shape[0]\n",
        "            tgt_seq_length = tgt_input.shape[0]\n",
        "            src_mask = torch.zeros(src_seq_length, src_seq_length).to(device).type(torch.bool)\n",
        "            tgt_mask = model.generate_square_subsequent_mask(tgt_seq_length).to(device)\n",
        "\n",
        "            src_padding_mask = (src == PAD_IDX).transpose(0, 1).to(device)\n",
        "            tgt_padding_mask = (tgt_input == PAD_IDX).transpose(0, 1).to(device)\n",
        "\n",
        "            logits = model(src, tgt_input, src_mask, tgt_mask, src_padding_mask, tgt_padding_mask)\n",
        "            logits = logits.view(-1, logits.shape[-1])\n",
        "            tgt_output = tgt_output.reshape(-1)\n",
        "            loss = seq2seq_loss_sgd(logits, tgt_output)\n",
        "            optimizer.zero_grad()\n",
        "            loss.backward()\n",
        "            torch.nn.utils.clip_grad_norm_(model.parameters(), max_norm=1.0)\n",
        "            optimizer.step()\n",
        "            total_train_loss += loss.item() if not torch.isnan(loss) else 0\n",
        "\n",
        "\n",
        "        avg_train_loss = total_train_loss / len(train_dataloader)\n",
        "        training_loss.append(avg_train_loss)\n",
        "        model.eval()\n",
        "        total_val_loss = 0\n",
        "\n",
        "        with torch.no_grad():\n",
        "            for src, tgt in val_dataloader:\n",
        "                src, tgt = src.to(device), tgt.to(device)\n",
        "                src = src.T\n",
        "                tgt_inp = tgt.T\n",
        "                tgt_input = tgt_inp[:-1, :]\n",
        "                tgt_output = tgt_inp[1:, :]\n",
        "                src_seq_length = src.shape[0]\n",
        "                tgt_seq_length = tgt_input.shape[0]\n",
        "                src_mask = torch.zeros(src_seq_length, src_seq_length).to(device).type(torch.bool)\n",
        "                tgt_mask = model.generate_square_subsequent_mask(tgt_seq_length).to(device)\n",
        "                src_padding_mask = (src == PAD_IDX).transpose(0, 1).to(device)\n",
        "                tgt_padding_mask = (tgt_input == PAD_IDX).transpose(0, 1).to(device)\n",
        "                logits = model(src, tgt_input, src_mask, tgt_mask, src_padding_mask, tgt_padding_mask)\n",
        "                logits = logits.view(-1, logits.shape[-1])\n",
        "                tgt_output = tgt_output.reshape(-1)\n",
        "                loss = seq2seq_loss_sgd(logits, tgt_output)\n",
        "                total_val_loss += loss.item()\n",
        "\n",
        "\n",
        "        avg_val_loss = total_val_loss / len(val_dataloader)\n",
        "        validation_loss.append(avg_val_loss)\n",
        "        print(f'Epoch {epoch+1}, Training Loss: {avg_train_loss:.4f}, Validation Loss: {avg_val_loss:.4f}')\n",
        "    return training_loss, validation_loss,model\n",
        "training_loss_sgd, validation_loss_sgd,model_sgd = train_and_evaluate(model_sgd, train_dataloader, val_dataloader, test_dataloader, optimizer, vocab_en, vocab_fr, seq2seq_loss_sgd, epochs=10)"
      ],
      "metadata": {
        "colab": {
          "base_uri": "https://localhost:8080/"
        },
        "id": "K6JYjY0GTS3m",
        "outputId": "824c46b6-eda6-4b32-f9e2-692ac2587e9a"
      },
      "execution_count": null,
      "outputs": [
        {
          "output_type": "stream",
          "name": "stderr",
          "text": [
            "/usr/local/lib/python3.10/dist-packages/torch/nn/functional.py:5109: UserWarning: Support for mismatched key_padding_mask and attn_mask is deprecated. Use same type for both instead.\n",
            "  warnings.warn(\n"
          ]
        },
        {
          "output_type": "stream",
          "name": "stdout",
          "text": [
            "Epoch 1, Training Loss: 9.9421, Validation Loss: 9.0078\n",
            "Epoch 2, Training Loss: 8.4744, Validation Loss: 8.0482\n",
            "Epoch 3, Training Loss: 7.8379, Validation Loss: 7.6499\n",
            "Epoch 4, Training Loss: 7.5357, Validation Loss: 7.4232\n",
            "Epoch 5, Training Loss: 7.3347, Validation Loss: 7.2388\n",
            "Epoch 6, Training Loss: 7.1598, Validation Loss: 7.0675\n",
            "Epoch 7, Training Loss: 6.9953, Validation Loss: 6.9112\n",
            "Epoch 8, Training Loss: 6.8628, Validation Loss: 6.8033\n",
            "Epoch 9, Training Loss: 6.7689, Validation Loss: 6.7256\n",
            "Epoch 10, Training Loss: 6.6995, Validation Loss: 6.6655\n"
          ]
        }
      ]
    },
    {
      "cell_type": "code",
      "source": [
        "import matplotlib.pyplot as plt\n",
        "epochs = range(1, len(training_loss_sgd) + 1)\n",
        "plt.plot(epochs, training_loss_sgd, 'r', label='Training Loss')\n",
        "plt.plot(epochs, validation_loss_sgd, 'b', label='Validation Loss')\n",
        "plt.title('Training and Validation Loss')\n",
        "plt.xlabel('Epochs')\n",
        "plt.ylabel('Loss')\n",
        "plt.legend()\n",
        "plt.show()"
      ],
      "metadata": {
        "colab": {
          "base_uri": "https://localhost:8080/",
          "height": 472
        },
        "id": "J5LUCah_T-74",
        "outputId": "67d15541-096d-4fec-d44d-b17aad25593a"
      },
      "execution_count": null,
      "outputs": [
        {
          "output_type": "display_data",
          "data": {
            "text/plain": [
              "<Figure size 640x480 with 1 Axes>"
            ],
            "image/png": "[encoded data removed]"
          },
          "metadata": {}
        }
      ]
    },
    {
      "cell_type": "code",
      "source": [
        "model_sgd_metrics = {'training_loss': training_loss_sgd, 'validation_loss': validation_loss_sgd}\n",
        "torch.save(model_sgd_metrics, '/content/drive/MyDrive/SGD/relative_positional_encoding/crossentropyloss/model_sgd_metrics.pkl')"
      ],
      "metadata": {
        "id": "lg3C56I0UCzT"
      },
      "execution_count": null,
      "outputs": []
    },
    {
      "cell_type": "code",
      "source": [
        "torch.save(model_sgd, '/content/drive/MyDrive/SGD/relative_positional_encoding/crossentropyloss/model_sgd.pt')\n",
        "torch.save(model_sgd.state_dict(), '/content/drive/MyDrive/SGD/relative_positional_encoding/crossentropyloss/model_sgd_state.pkl')"
      ],
      "metadata": {
        "id": "zjQouGtMUONQ"
      },
      "execution_count": null,
      "outputs": []
    },
    {
      "cell_type": "markdown",
      "source": [
        "##With Label Smoothning"
      ],
      "metadata": {
        "id": "kEV1Zc5PXbMV"
      }
    },
    {
      "cell_type": "code",
      "source": [
        "import torch\n",
        "from torch import nn\n",
        "import math\n",
        "class RelativePositionalEncoding(nn.Module):\n",
        "    def __init__(self, emb_size: int, max_len: int = 5000):\n",
        "        super(RelativePositionalEncoding, self).__init__()\n",
        "        self.emb_size = emb_size\n",
        "        self.max_len = max_len\n",
        "        relative_positions = torch.arange(-max_len, max_len + 1, dtype=torch.long)\n",
        "        scales = torch.exp(-torch.arange(0, emb_size, 2) * math.log(10000) / emb_size)\n",
        "        relative_positional_encodings = torch.zeros((2 * max_len + 1, emb_size))\n",
        "        relative_positional_encodings[:, 0::2] = torch.sin(relative_positions.unsqueeze(-1) * scales)\n",
        "        relative_positional_encodings[:, 1::2] = torch.cos(relative_positions.unsqueeze(-1) * scales)\n",
        "        self.register_buffer('relative_positional_encodings', relative_positional_encodings)\n",
        "\n",
        "    def forward(self, length: int):\n",
        "        center_pos = self.max_len\n",
        "        return self.relative_positional_encodings[center_pos - length + 1 : center_pos + 1]\n",
        "\n",
        "class TokenEmbedding(nn.Module):\n",
        "    def __init__(self, vocab_size: int, emb_size: int):\n",
        "        super(TokenEmbedding, self).__init__()\n",
        "        self.embedding = nn.Embedding(vocab_size, emb_size)\n",
        "        self.emb_size = emb_size\n",
        "\n",
        "    def forward(self, tokens: torch.Tensor):\n",
        "        return self.embedding(tokens.long()) * math.sqrt(self.emb_size)\n",
        "\n",
        "class TransformerModel(nn.Module):\n",
        "    def __init__(self, num_tokens_en, num_tokens_fr, embed_size, nhead, dim_feedforward, max_seq_length):\n",
        "        super(TransformerModel, self).__init__()\n",
        "        self.embed_size = embed_size\n",
        "        self.src_tok_emb = TokenEmbedding(num_tokens_en, embed_size)\n",
        "        self.tgt_tok_emb = TokenEmbedding(num_tokens_fr, embed_size)\n",
        "        self.positional_encoding = RelativePositionalEncoding(embed_size, max_len=max_seq_length)\n",
        "\n",
        "        encoder_layer = nn.TransformerEncoderLayer(d_model=embed_size, nhead=nhead, dim_feedforward=dim_feedforward, dropout=0.1)\n",
        "        self.transformer_encoder = nn.TransformerEncoder(encoder_layer, num_layers=3)\n",
        "\n",
        "        decoder_layer = nn.TransformerDecoderLayer(d_model=embed_size, nhead=nhead, dim_feedforward=dim_feedforward, dropout=0.1)\n",
        "        self.transformer_decoder = nn.TransformerDecoder(decoder_layer, num_layers=3)\n",
        "        self.generator = nn.Linear(embed_size, num_tokens_fr)\n",
        "\n",
        "    def encode(self, src, src_mask):\n",
        "        src_emb = self.src_tok_emb(src) + self.positional_encoding(src.size(1))\n",
        "        return self.transformer_encoder(src_emb, src_key_padding_mask=src_mask)\n",
        "\n",
        "    def decode(self, tgt, memory, tgt_mask, tgt_key_padding_mask):\n",
        "        tgt_emb = self.tgt_tok_emb(tgt) + self.positional_encoding(tgt.size(1))\n",
        "        return self.transformer_decoder(tgt_emb, memory, tgt_mask, tgt_key_padding_mask=tgt_key_padding_mask)\n",
        "\n",
        "    def forward(self, src, tgt, src_mask=None, tgt_mask=None, src_padding_mask=None, tgt_padding_mask=None):\n",
        "        memory = self.encode(src, src_padding_mask)\n",
        "        output = self.decode(tgt, memory, tgt_mask, tgt_padding_mask)\n",
        "        return self.generator(output)\n",
        "\n",
        "    def generate_square_subsequent_mask(self, sz):\n",
        "        mask = torch.triu(torch.ones(sz, sz)).transpose(0, 1)\n",
        "        mask = mask.float().masked_fill(mask == 0, float('-inf')).masked_fill(mask == 1, float(0.0))\n",
        "        return mask\n",
        "model_sgd_ls = TransformerModel(len(vocab_en), len(vocab_fr), embed_size=64, nhead=8, dim_feedforward=1024, max_seq_length=512)"
      ],
      "metadata": {
        "colab": {
          "base_uri": "https://localhost:8080/"
        },
        "id": "iFxAlGP6Xdaq",
        "outputId": "78655cc8-7c94-4004-a114-357d5a09f26b"
      },
      "execution_count": null,
      "outputs": [
        {
          "output_type": "stream",
          "name": "stderr",
          "text": [
            "/usr/local/lib/python3.10/dist-packages/torch/nn/modules/transformer.py:286: UserWarning: enable_nested_tensor is True, but self.use_nested_tensor is False because encoder_layer.self_attn.batch_first was not True(use batch_first for better inference performance)\n",
            "  warnings.warn(f\"enable_nested_tensor is True, but self.use_nested_tensor is False because {why_not_sparsity_fast_path}\")\n"
          ]
        }
      ]
    },
    {
      "cell_type": "code",
      "source": [
        "optimizer = torch.optim.SGD(model_sgd_ls.parameters(), lr=0.001)\n",
        "# scheduler = torch.optim.lr_scheduler.StepLR(optimizer, step_size=1, gamma=0.95)\n",
        "seq2seq_loss_sgd_ls = nn.CrossEntropyLoss(ignore_index=PAD_IDX,label_smoothing=0.1)\n",
        "def init_weights(m):\n",
        "    if isinstance(m, nn.Linear):\n",
        "        nn.init.xavier_uniform_(m.weight)\n",
        "        if m.bias is not None:\n",
        "            nn.init.constant_(m.bias, 0)\n",
        "device = torch.device(\"cuda\" if torch.cuda.is_available() else \"cpu\")\n",
        "model_sgd_ls.to(device)\n",
        "def train_and_evaluate(model, train_dataloader, val_dataloader, test_dataloader, optimizer, loss_function, vocab_en, vocab_fr, epochs=10):\n",
        "    model.apply(init_weights)\n",
        "    training_loss = []\n",
        "    validation_loss = []\n",
        "    for epoch in range(epochs):\n",
        "        model.train()\n",
        "        total_train_loss = 0\n",
        "\n",
        "        for src, tgt in train_dataloader:\n",
        "            src, tgt = src.to(device), tgt.to(device)\n",
        "            src = src.T\n",
        "            tgt_inp = tgt.T\n",
        "            tgt_input = tgt_inp[:-1, :]\n",
        "            tgt_output = tgt_inp[1:, :]\n",
        "            src_seq_length = src.shape[0]\n",
        "            tgt_seq_length = tgt_input.shape[0]\n",
        "            src_mask = torch.zeros(src_seq_length, src_seq_length).to(device).type(torch.bool)\n",
        "            tgt_mask = model.generate_square_subsequent_mask(tgt_seq_length).to(device)\n",
        "\n",
        "            src_padding_mask = (src == PAD_IDX).transpose(0, 1).to(device)\n",
        "            tgt_padding_mask = (tgt_input == PAD_IDX).transpose(0, 1).to(device)\n",
        "\n",
        "            logits = model(src, tgt_input, src_mask, tgt_mask, src_padding_mask, tgt_padding_mask)\n",
        "            logits = logits.view(-1, logits.shape[-1])\n",
        "            tgt_output = tgt_output.reshape(-1)\n",
        "            loss = seq2seq_loss_sgd_ls(logits, tgt_output)\n",
        "            optimizer.zero_grad()\n",
        "            loss.backward()\n",
        "            torch.nn.utils.clip_grad_norm_(model.parameters(), max_norm=1.0)\n",
        "            optimizer.step()\n",
        "            total_train_loss += loss.item() if not torch.isnan(loss) else 0\n",
        "\n",
        "\n",
        "        avg_train_loss = total_train_loss / len(train_dataloader)\n",
        "        training_loss.append(avg_train_loss)\n",
        "        model.eval()\n",
        "        total_val_loss = 0\n",
        "\n",
        "        with torch.no_grad():\n",
        "            for src, tgt in val_dataloader:\n",
        "                src, tgt = src.to(device), tgt.to(device)\n",
        "                src = src.T\n",
        "                tgt_inp = tgt.T\n",
        "                tgt_input = tgt_inp[:-1, :]\n",
        "                tgt_output = tgt_inp[1:, :]\n",
        "                src_seq_length = src.shape[0]\n",
        "                tgt_seq_length = tgt_input.shape[0]\n",
        "                src_mask = torch.zeros(src_seq_length, src_seq_length).to(device).type(torch.bool)\n",
        "                tgt_mask = model.generate_square_subsequent_mask(tgt_seq_length).to(device)\n",
        "                src_padding_mask = (src == PAD_IDX).transpose(0, 1).to(device)\n",
        "                tgt_padding_mask = (tgt_input == PAD_IDX).transpose(0, 1).to(device)\n",
        "                logits = model(src, tgt_input, src_mask, tgt_mask, src_padding_mask, tgt_padding_mask)\n",
        "                logits = logits.view(-1, logits.shape[-1])\n",
        "                tgt_output = tgt_output.reshape(-1)\n",
        "                loss = seq2seq_loss_sgd_ls(logits, tgt_output)\n",
        "                total_val_loss += loss.item()\n",
        "\n",
        "\n",
        "        avg_val_loss = total_val_loss / len(val_dataloader)\n",
        "        validation_loss.append(avg_val_loss)\n",
        "        print(f'Epoch {epoch+1}, Training Loss: {avg_train_loss:.4f}, Validation Loss: {avg_val_loss:.4f}')\n",
        "    return training_loss, validation_loss,model\n",
        "training_loss_sgd_ls, validation_loss_sgd_ls,model_sgd_ls = train_and_evaluate(model_sgd_ls, train_dataloader, val_dataloader, test_dataloader, optimizer, vocab_en, vocab_fr, seq2seq_loss_sgd_ls, epochs=10)"
      ],
      "metadata": {
        "colab": {
          "base_uri": "https://localhost:8080/"
        },
        "id": "Y2xG9mhYXgCr",
        "outputId": "53f199ce-731d-4da2-9dc4-e20a12636d10"
      },
      "execution_count": null,
      "outputs": [
        {
          "output_type": "stream",
          "name": "stderr",
          "text": [
            "/usr/local/lib/python3.10/dist-packages/torch/nn/functional.py:5109: UserWarning: Support for mismatched key_padding_mask and attn_mask is deprecated. Use same type for both instead.\n",
            "  warnings.warn(\n"
          ]
        },
        {
          "output_type": "stream",
          "name": "stdout",
          "text": [
            "Epoch 1, Training Loss: 10.0613, Validation Loss: 9.2723\n",
            "Epoch 2, Training Loss: 8.7651, Validation Loss: 8.3469\n",
            "Epoch 3, Training Loss: 8.1454, Validation Loss: 7.9676\n",
            "Epoch 4, Training Loss: 7.8697, Validation Loss: 7.7656\n",
            "Epoch 5, Training Loss: 7.6965, Validation Loss: 7.6166\n",
            "Epoch 6, Training Loss: 7.5700, Validation Loss: 7.5104\n",
            "Epoch 7, Training Loss: 7.4754, Validation Loss: 7.4247\n",
            "Epoch 8, Training Loss: 7.3939, Validation Loss: 7.3406\n",
            "Epoch 9, Training Loss: 7.3145, Validation Loss: 7.2593\n",
            "Epoch 10, Training Loss: 7.2456, Validation Loss: 7.2012\n"
          ]
        }
      ]
    },
    {
      "cell_type": "code",
      "source": [
        "import matplotlib.pyplot as plt\n",
        "epochs = range(1, len(training_loss_sgd_ls) + 1)\n",
        "plt.plot(epochs, training_loss_sgd_ls, 'b', label='Training Loss')\n",
        "plt.plot(epochs, validation_loss_sgd_ls, 'r', label='Validation Loss')\n",
        "plt.title('Training and Validation Loss')\n",
        "plt.xlabel('Epochs')\n",
        "plt.ylabel('Loss')\n",
        "plt.legend()\n",
        "plt.show()"
      ],
      "metadata": {
        "colab": {
          "base_uri": "https://localhost:8080/",
          "height": 472
        },
        "id": "udegLca8ZrYJ",
        "outputId": "2161064a-d5ec-4d7b-cac1-1d1e77070874"
      },
      "execution_count": null,
      "outputs": [
        {
          "output_type": "display_data",
          "data": {
            "text/plain": [
              "<Figure size 640x480 with 1 Axes>"
            ],
            "image/png": "[encoded data removed]"
          },
          "metadata": {}
        }
      ]
    },
    {
      "cell_type": "code",
      "source": [
        "torch.save(model_sgd_ls.state_dict(), '/content/drive/MyDrive/SGD/relative_positional_encoding/crossentropywithlabelsmoothning/model_sgd_ls_state.pkl')\n",
        "torch.save(model_sgd_ls, '/content/drive/MyDrive/SGD/relative_positional_encoding/crossentropywithlabelsmoothning/model_sgd_ls.pt')"
      ],
      "metadata": {
        "id": "Ery-Al6CZux-"
      },
      "execution_count": null,
      "outputs": []
    },
    {
      "cell_type": "code",
      "source": [
        "model_sgd_ls_metrics = {'training_loss':training_loss_sgd_ls,'validation_loss':validation_loss_sgd_ls}\n",
        "torch.save(model_sgd_ls_metrics, '/content/drive/MyDrive/SGD/relative_positional_encoding/crossentropywithlabelsmoothning/model_sgd_ls_metrics.pkl')"
      ],
      "metadata": {
        "id": "BzVXRafzaG5f"
      },
      "execution_count": null,
      "outputs": []
    },
    {
      "cell_type": "markdown",
      "source": [
        "##NLLLosss"
      ],
      "metadata": {
        "id": "Dn5z-1ToaRhg"
      }
    },
    {
      "cell_type": "code",
      "source": [
        "import torch\n",
        "from torch import nn\n",
        "import math\n",
        "class RelativePositionalEncoding(nn.Module):\n",
        "    def __init__(self, emb_size: int, max_len: int = 5000):\n",
        "        super(RelativePositionalEncoding, self).__init__()\n",
        "        self.emb_size = emb_size\n",
        "        self.max_len = max_len\n",
        "        relative_positions = torch.arange(-max_len, max_len + 1, dtype=torch.long)\n",
        "        scales = torch.exp(-torch.arange(0, emb_size, 2) * math.log(10000) / emb_size)\n",
        "        relative_positional_encodings = torch.zeros((2 * max_len + 1, emb_size))\n",
        "        relative_positional_encodings[:, 0::2] = torch.sin(relative_positions.unsqueeze(-1) * scales)\n",
        "        relative_positional_encodings[:, 1::2] = torch.cos(relative_positions.unsqueeze(-1) * scales)\n",
        "        self.register_buffer('relative_positional_encodings', relative_positional_encodings)\n",
        "\n",
        "    def forward(self, length: int):\n",
        "        center_pos = self.max_len\n",
        "        return self.relative_positional_encodings[center_pos - length + 1 : center_pos + 1]\n",
        "\n",
        "class TokenEmbedding(nn.Module):\n",
        "    def __init__(self, vocab_size: int, emb_size: int):\n",
        "        super(TokenEmbedding, self).__init__()\n",
        "        self.embedding = nn.Embedding(vocab_size, emb_size)\n",
        "        self.emb_size = emb_size\n",
        "\n",
        "    def forward(self, tokens: torch.Tensor):\n",
        "        return self.embedding(tokens.long()) * math.sqrt(self.emb_size)\n",
        "\n",
        "class TransformerModel(nn.Module):\n",
        "    def __init__(self, num_tokens_en, num_tokens_fr, embed_size, nhead, dim_feedforward, max_seq_length):\n",
        "        super(TransformerModel, self).__init__()\n",
        "        self.embed_size = embed_size\n",
        "        self.src_tok_emb = TokenEmbedding(num_tokens_en, embed_size)\n",
        "        self.tgt_tok_emb = TokenEmbedding(num_tokens_fr, embed_size)\n",
        "        self.positional_encoding = RelativePositionalEncoding(embed_size, max_len=max_seq_length)\n",
        "\n",
        "        encoder_layer = nn.TransformerEncoderLayer(d_model=embed_size, nhead=nhead, dim_feedforward=dim_feedforward, dropout=0.1)\n",
        "        self.transformer_encoder = nn.TransformerEncoder(encoder_layer, num_layers=3)\n",
        "\n",
        "        decoder_layer = nn.TransformerDecoderLayer(d_model=embed_size, nhead=nhead, dim_feedforward=dim_feedforward, dropout=0.1)\n",
        "        self.transformer_decoder = nn.TransformerDecoder(decoder_layer, num_layers=3)\n",
        "        self.generator = nn.Linear(embed_size, num_tokens_fr)\n",
        "\n",
        "    def encode(self, src, src_mask):\n",
        "        src_emb = self.src_tok_emb(src) + self.positional_encoding(src.size(1))\n",
        "        return self.transformer_encoder(src_emb, src_key_padding_mask=src_mask)\n",
        "\n",
        "    def decode(self, tgt, memory, tgt_mask, tgt_key_padding_mask):\n",
        "        tgt_emb = self.tgt_tok_emb(tgt) + self.positional_encoding(tgt.size(1))\n",
        "        return self.transformer_decoder(tgt_emb, memory, tgt_mask, tgt_key_padding_mask=tgt_key_padding_mask)\n",
        "\n",
        "    def forward(self, src, tgt, src_mask=None, tgt_mask=None, src_padding_mask=None, tgt_padding_mask=None):\n",
        "        memory = self.encode(src, src_padding_mask)\n",
        "        output = self.decode(tgt, memory, tgt_mask, tgt_padding_mask)\n",
        "        return self.generator(output)\n",
        "\n",
        "    def generate_square_subsequent_mask(self, sz):\n",
        "        mask = torch.triu(torch.ones(sz, sz)).transpose(0, 1)\n",
        "        mask = mask.float().masked_fill(mask == 0, float('-inf')).masked_fill(mask == 1, float(0.0))\n",
        "        return mask\n",
        "model_sgd_n = TransformerModel(len(vocab_en), len(vocab_fr), embed_size=64, nhead=8, dim_feedforward=1024, max_seq_length=512)"
      ],
      "metadata": {
        "colab": {
          "base_uri": "https://localhost:8080/"
        },
        "id": "wyhjkOPQejVL",
        "outputId": "9ea3d5d6-7e0e-47b8-b707-4c480eff52f7"
      },
      "execution_count": null,
      "outputs": [
        {
          "output_type": "stream",
          "name": "stderr",
          "text": [
            "/usr/local/lib/python3.10/dist-packages/torch/nn/modules/transformer.py:286: UserWarning: enable_nested_tensor is True, but self.use_nested_tensor is False because encoder_layer.self_attn.batch_first was not True(use batch_first for better inference performance)\n",
            "  warnings.warn(f\"enable_nested_tensor is True, but self.use_nested_tensor is False because {why_not_sparsity_fast_path}\")\n"
          ]
        }
      ]
    },
    {
      "cell_type": "code",
      "source": [
        "optimizer = torch.optim.SGD(model_sgd_n.parameters(), lr=0.001)\n",
        "# scheduler = torch.optim.lr_scheduler.StepLR(optimizer, step_size=1, gamma=0.95)\n",
        "seq2seq_loss_sgd_n = nn.NLLLoss(ignore_index=PAD_IDX)\n",
        "def init_weights(m):\n",
        "    if isinstance(m, nn.Linear):\n",
        "        nn.init.xavier_uniform_(m.weight)\n",
        "        if m.bias is not None:\n",
        "            nn.init.constant_(m.bias, 0)\n",
        "device = torch.device(\"cuda\" if torch.cuda.is_available() else \"cpu\")\n",
        "model_sgd_n.to(device)\n",
        "def train_and_evaluate(model, train_dataloader, val_dataloader, test_dataloader, optimizer, loss_function, vocab_en, vocab_fr, epochs=10):\n",
        "    model.apply(init_weights)\n",
        "    training_loss = []\n",
        "    validation_loss = []\n",
        "    for epoch in range(epochs):\n",
        "        model.train()\n",
        "        total_train_loss = 0\n",
        "\n",
        "        for src, tgt in train_dataloader:\n",
        "            src, tgt = src.to(device), tgt.to(device)\n",
        "            src = src.T\n",
        "            tgt_inp = tgt.T\n",
        "            tgt_input = tgt_inp[:-1, :]\n",
        "            tgt_output = tgt_inp[1:, :]\n",
        "            src_seq_length = src.shape[0]\n",
        "            tgt_seq_length = tgt_input.shape[0]\n",
        "            src_mask = torch.zeros(src_seq_length, src_seq_length).to(device).type(torch.bool)\n",
        "            tgt_mask = model.generate_square_subsequent_mask(tgt_seq_length).to(device)\n",
        "\n",
        "            src_padding_mask = (src == PAD_IDX).transpose(0, 1).to(device)\n",
        "            tgt_padding_mask = (tgt_input == PAD_IDX).transpose(0, 1).to(device)\n",
        "\n",
        "            logits = model(src, tgt_input, src_mask, tgt_mask, src_padding_mask, tgt_padding_mask)\n",
        "            logits = logits.view(-1, logits.shape[-1])\n",
        "            logits = F.log_softmax(logits, dim=-1)\n",
        "            tgt_output = tgt_output.reshape(-1)\n",
        "            loss = seq2seq_loss_sgd_n(logits, tgt_output)\n",
        "            optimizer.zero_grad()\n",
        "            loss.backward()\n",
        "            torch.nn.utils.clip_grad_norm_(model.parameters(), max_norm=1.0)\n",
        "            optimizer.step()\n",
        "            total_train_loss += loss.item() if not torch.isnan(loss) else 0\n",
        "\n",
        "\n",
        "        avg_train_loss = total_train_loss / len(train_dataloader)\n",
        "        training_loss.append(avg_train_loss)\n",
        "        model.eval()\n",
        "        total_val_loss = 0\n",
        "\n",
        "        with torch.no_grad():\n",
        "            for src, tgt in val_dataloader:\n",
        "                src, tgt = src.to(device), tgt.to(device)\n",
        "                src = src.T\n",
        "                tgt_inp = tgt.T\n",
        "                tgt_input = tgt_inp[:-1, :]\n",
        "                tgt_output = tgt_inp[1:, :]\n",
        "                src_seq_length = src.shape[0]\n",
        "                tgt_seq_length = tgt_input.shape[0]\n",
        "                src_mask = torch.zeros(src_seq_length, src_seq_length).to(device).type(torch.bool)\n",
        "                tgt_mask = model.generate_square_subsequent_mask(tgt_seq_length).to(device)\n",
        "                src_padding_mask = (src == PAD_IDX).transpose(0, 1).to(device)\n",
        "                tgt_padding_mask = (tgt_input == PAD_IDX).transpose(0, 1).to(device)\n",
        "                logits = model(src, tgt_input, src_mask, tgt_mask, src_padding_mask, tgt_padding_mask)\n",
        "                logits = logits.view(-1, logits.shape[-1])\n",
        "                logits = F.log_softmax(logits, dim=-1)\n",
        "                tgt_output = tgt_output.reshape(-1)\n",
        "                loss = seq2seq_loss_sgd_n(logits, tgt_output)\n",
        "                total_val_loss += loss.item()\n",
        "\n",
        "\n",
        "        avg_val_loss = total_val_loss / len(val_dataloader)\n",
        "        validation_loss.append(avg_val_loss)\n",
        "        print(f'Epoch {epoch+1}, Training Loss: {avg_train_loss:.4f}, Validation Loss: {avg_val_loss:.4f}')\n",
        "    return training_loss, validation_loss,model\n",
        "training_loss_sgd_n, validation_loss_sgd_n,model_sgd_n = train_and_evaluate(model_sgd_n, train_dataloader, val_dataloader, test_dataloader, optimizer, vocab_en, vocab_fr, seq2seq_loss_sgd_n, epochs=10)"
      ],
      "metadata": {
        "colab": {
          "base_uri": "https://localhost:8080/"
        },
        "id": "pxZP8AAteprU",
        "outputId": "6056b3ea-4d65-4dc3-b905-254816b1fd22"
      },
      "execution_count": null,
      "outputs": [
        {
          "output_type": "stream",
          "name": "stderr",
          "text": [
            "/usr/local/lib/python3.10/dist-packages/torch/nn/functional.py:5109: UserWarning: Support for mismatched key_padding_mask and attn_mask is deprecated. Use same type for both instead.\n",
            "  warnings.warn(\n"
          ]
        },
        {
          "output_type": "stream",
          "name": "stdout",
          "text": [
            "Epoch 1, Training Loss: 9.8905, Validation Loss: 8.9482\n",
            "Epoch 2, Training Loss: 8.4311, Validation Loss: 8.0059\n",
            "Epoch 3, Training Loss: 7.8035, Validation Loss: 7.6184\n",
            "Epoch 4, Training Loss: 7.5130, Validation Loss: 7.3973\n",
            "Epoch 5, Training Loss: 7.3143, Validation Loss: 7.2164\n",
            "Epoch 6, Training Loss: 7.1521, Validation Loss: 7.0747\n",
            "Epoch 7, Training Loss: 7.0194, Validation Loss: 6.9455\n",
            "Epoch 8, Training Loss: 6.8915, Validation Loss: 6.8079\n",
            "Epoch 9, Training Loss: 6.7702, Validation Loss: 6.7065\n",
            "Epoch 10, Training Loss: 6.6884, Validation Loss: 6.6442\n"
          ]
        }
      ]
    },
    {
      "cell_type": "code",
      "source": [
        "import matplotlib.pyplot as plt\n",
        "epochs = range(1, len(training_loss_sgd_n) + 1)\n",
        "plt.plot(epochs, training_loss_sgd_n, 'b', label='Training Loss')\n",
        "plt.plot(epochs, validation_loss_sgd_n, 'r', label='Validation Loss')\n",
        "plt.title('NLLLoss')\n",
        "plt.xlabel('Epochs')\n",
        "plt.ylabel('Loss')\n",
        "plt.legend()\n",
        "plt.show()"
      ],
      "metadata": {
        "colab": {
          "base_uri": "https://localhost:8080/",
          "height": 472
        },
        "id": "WRVLCqMJffxG",
        "outputId": "3fcb8eec-8439-48d1-bead-41eec7a52df4"
      },
      "execution_count": null,
      "outputs": [
        {
          "output_type": "display_data",
          "data": {
            "text/plain": [
              "<Figure size 640x480 with 1 Axes>"
            ],
            "image/png": "[encoded data removed]"
          },
          "metadata": {}
        }
      ]
    },
    {
      "cell_type": "code",
      "source": [
        "torch.save(model_sgd_n.state_dict(), '/content/drive/MyDrive/SGD/relative_positional_encoding/sparsecategoricalcrossentropy/model_sgd_n_state.pkl')\n",
        "torch.save(model_sgd_n, '/content/drive/MyDrive/SGD/relative_positional_encoding/sparsecategoricalcrossentropy/model_sgd_n.pt')"
      ],
      "metadata": {
        "id": "RrK_HoeYfmbc"
      },
      "execution_count": null,
      "outputs": []
    },
    {
      "cell_type": "code",
      "source": [
        "model_sgd_n_metrics = {'training loss': training_loss_sgd_n, 'validation loss': validation_loss_sgd_n}\n",
        "torch.save(model_sgd_n_metrics, '/content/drive/MyDrive/SGD/relative_positional_encoding/sparsecategoricalcrossentropy/model_sgd_n_metrics.pkl')"
      ],
      "metadata": {
        "id": "hJ5s8lOagLSP"
      },
      "execution_count": null,
      "outputs": []
    }
  ]
}