{
  "nbformat": 4,
  "nbformat_minor": 0,
  "metadata": {
    "colab": {
      "provenance": [],
      "machine_shape": "hm",
      "gpuType": "A100"
    },
    "kernelspec": {
      "name": "python3",
      "display_name": "Python 3"
    },
    "language_info": {
      "name": "python"
    },
    "accelerator": "GPU",
    "widgets": {
      "application/vnd.jupyter.widget-state+json": {
        "2133e6d0f7b94652b4d92c580cb12f32": {
          "model_module": "@jupyter-widgets/controls",
          "model_name": "HBoxModel",
          "model_module_version": "1.5.0",
          "state": {
            "_dom_classes": [],
            "_model_module": "@jupyter-widgets/controls",
            "_model_module_version": "1.5.0",
            "_model_name": "HBoxModel",
            "_view_count": null,
            "_view_module": "@jupyter-widgets/controls",
            "_view_module_version": "1.5.0",
            "_view_name": "HBoxView",
            "box_style": "",
            "children": [
              "IPY_MODEL_c31a72da057149049ae6cbcdadd86362",
              "IPY_MODEL_1bdbbb6d51e74f478f859dd3f10a3ef5",
              "IPY_MODEL_91d8fa6a79d64736925a48a1f3d4fd25"
            ],
            "layout": "IPY_MODEL_c630e5a38a984805beb59877692247d9"
          }
        },
        "c31a72da057149049ae6cbcdadd86362": {
          "model_module": "@jupyter-widgets/controls",
          "model_name": "HTMLModel",
          "model_module_version": "1.5.0",
          "state": {
            "_dom_classes": [],
            "_model_module": "@jupyter-widgets/controls",
            "_model_module_version": "1.5.0",
            "_model_name": "HTMLModel",
            "_view_count": null,
            "_view_module": "@jupyter-widgets/controls",
            "_view_module_version": "1.5.0",
            "_view_name": "HTMLView",
            "description": "",
            "description_tooltip": null,
            "layout": "IPY_MODEL_be69085945b84c239a3a47417de9b9e2",
            "placeholder": "​",
            "style": "IPY_MODEL_65c26d05c0964d46aab1bd36d30a08d6",
            "value": "Downloading data: 100%"
          }
        },
        "1bdbbb6d51e74f478f859dd3f10a3ef5": {
          "model_module": "@jupyter-widgets/controls",
          "model_name": "FloatProgressModel",
          "model_module_version": "1.5.0",
          "state": {
            "_dom_classes": [],
            "_model_module": "@jupyter-widgets/controls",
            "_model_module_version": "1.5.0",
            "_model_name": "FloatProgressModel",
            "_view_count": null,
            "_view_module": "@jupyter-widgets/controls",
            "_view_module_version": "1.5.0",
            "_view_name": "ProgressView",
            "bar_style": "success",
            "description": "",
            "description_tooltip": null,
            "layout": "IPY_MODEL_434fa6d4aa7d4e869c0bcd9493b632aa",
            "max": 599344244,
            "min": 0,
            "orientation": "horizontal",
            "style": "IPY_MODEL_f79366b1d48542e398c304b634c1f4a5",
            "value": 599344244
          }
        },
        "91d8fa6a79d64736925a48a1f3d4fd25": {
          "model_module": "@jupyter-widgets/controls",
          "model_name": "HTMLModel",
          "model_module_version": "1.5.0",
          "state": {
            "_dom_classes": [],
            "_model_module": "@jupyter-widgets/controls",
            "_model_module_version": "1.5.0",
            "_model_name": "HTMLModel",
            "_view_count": null,
            "_view_module": "@jupyter-widgets/controls",
            "_view_module_version": "1.5.0",
            "_view_name": "HTMLView",
            "description": "",
            "description_tooltip": null,
            "layout": "IPY_MODEL_d1a278fb3a744fe4856346f2e3c94e2d",
            "placeholder": "​",
            "style": "IPY_MODEL_cf9db960f03d4464a52df912ff09cd4a",
            "value": " 599M/599M [00:03&lt;00:00, 197MB/s]"
          }
        },
        "c630e5a38a984805beb59877692247d9": {
          "model_module": "@jupyter-widgets/base",
          "model_name": "LayoutModel",
          "model_module_version": "1.2.0",
          "state": {
            "_model_module": "@jupyter-widgets/base",
            "_model_module_version": "1.2.0",
            "_model_name": "LayoutModel",
            "_view_count": null,
            "_view_module": "@jupyter-widgets/base",
            "_view_module_version": "1.2.0",
            "_view_name": "LayoutView",
            "align_content": null,
            "align_items": null,
            "align_self": null,
            "border": null,
            "bottom": null,
            "display": null,
            "flex": null,
            "flex_flow": null,
            "grid_area": null,
            "grid_auto_columns": null,
            "grid_auto_flow": null,
            "grid_auto_rows": null,
            "grid_column": null,
            "grid_gap": null,
            "grid_row": null,
            "grid_template_areas": null,
            "grid_template_columns": null,
            "grid_template_rows": null,
            "height": null,
            "justify_content": null,
            "justify_items": null,
            "left": null,
            "margin": null,
            "max_height": null,
            "max_width": null,
            "min_height": null,
            "min_width": null,
            "object_fit": null,
            "object_position": null,
            "order": null,
            "overflow": null,
            "overflow_x": null,
            "overflow_y": null,
            "padding": null,
            "right": null,
            "top": null,
            "visibility": null,
            "width": null
          }
        },
        "be69085945b84c239a3a47417de9b9e2": {
          "model_module": "@jupyter-widgets/base",
          "model_name": "LayoutModel",
          "model_module_version": "1.2.0",
          "state": {
            "_model_module": "@jupyter-widgets/base",
            "_model_module_version": "1.2.0",
            "_model_name": "LayoutModel",
            "_view_count": null,
            "_view_module": "@jupyter-widgets/base",
            "_view_module_version": "1.2.0",
            "_view_name": "LayoutView",
            "align_content": null,
            "align_items": null,
            "align_self": null,
            "border": null,
            "bottom": null,
            "display": null,
            "flex": null,
            "flex_flow": null,
            "grid_area": null,
            "grid_auto_columns": null,
            "grid_auto_flow": null,
            "grid_auto_rows": null,
            "grid_column": null,
            "grid_gap": null,
            "grid_row": null,
            "grid_template_areas": null,
            "grid_template_columns": null,
            "grid_template_rows": null,
            "height": null,
            "justify_content": null,
            "justify_items": null,
            "left": null,
            "margin": null,
            "max_height": null,
            "max_width": null,
            "min_height": null,
            "min_width": null,
            "object_fit": null,
            "object_position": null,
            "order": null,
            "overflow": null,
            "overflow_x": null,
            "overflow_y": null,
            "padding": null,
            "right": null,
            "top": null,
            "visibility": null,
            "width": null
          }
        },
        "65c26d05c0964d46aab1bd36d30a08d6": {
          "model_module": "@jupyter-widgets/controls",
          "model_name": "DescriptionStyleModel",
          "model_module_version": "1.5.0",
          "state": {
            "_model_module": "@jupyter-widgets/controls",
            "_model_module_version": "1.5.0",
            "_model_name": "DescriptionStyleModel",
            "_view_count": null,
            "_view_module": "@jupyter-widgets/base",
            "_view_module_version": "1.2.0",
            "_view_name": "StyleView",
            "description_width": ""
          }
        },
        "434fa6d4aa7d4e869c0bcd9493b632aa": {
          "model_module": "@jupyter-widgets/base",
          "model_name": "LayoutModel",
          "model_module_version": "1.2.0",
          "state": {
            "_model_module": "@jupyter-widgets/base",
            "_model_module_version": "1.2.0",
            "_model_name": "LayoutModel",
            "_view_count": null,
            "_view_module": "@jupyter-widgets/base",
            "_view_module_version": "1.2.0",
            "_view_name": "LayoutView",
            "align_content": null,
            "align_items": null,
            "align_self": null,
            "border": null,
            "bottom": null,
            "display": null,
            "flex": null,
            "flex_flow": null,
            "grid_area": null,
            "grid_auto_columns": null,
            "grid_auto_flow": null,
            "grid_auto_rows": null,
            "grid_column": null,
            "grid_gap": null,
            "grid_row": null,
            "grid_template_areas": null,
            "grid_template_columns": null,
            "grid_template_rows": null,
            "height": null,
            "justify_content": null,
            "justify_items": null,
            "left": null,
            "margin": null,
            "max_height": null,
            "max_width": null,
            "min_height": null,
            "min_width": null,
            "object_fit": null,
            "object_position": null,
            "order": null,
            "overflow": null,
            "overflow_x": null,
            "overflow_y": null,
            "padding": null,
            "right": null,
            "top": null,
            "visibility": null,
            "width": null
          }
        },
        "f79366b1d48542e398c304b634c1f4a5": {
          "model_module": "@jupyter-widgets/controls",
          "model_name": "ProgressStyleModel",
          "model_module_version": "1.5.0",
          "state": {
            "_model_module": "@jupyter-widgets/controls",
            "_model_module_version": "1.5.0",
            "_model_name": "ProgressStyleModel",
            "_view_count": null,
            "_view_module": "@jupyter-widgets/base",
            "_view_module_version": "1.2.0",
            "_view_name": "StyleView",
            "bar_color": null,
            "description_width": ""
          }
        },
        "d1a278fb3a744fe4856346f2e3c94e2d": {
          "model_module": "@jupyter-widgets/base",
          "model_name": "LayoutModel",
          "model_module_version": "1.2.0",
          "state": {
            "_model_module": "@jupyter-widgets/base",
            "_model_module_version": "1.2.0",
            "_model_name": "LayoutModel",
            "_view_count": null,
            "_view_module": "@jupyter-widgets/base",
            "_view_module_version": "1.2.0",
            "_view_name": "LayoutView",
            "align_content": null,
            "align_items": null,
            "align_self": null,
            "border": null,
            "bottom": null,
            "display": null,
            "flex": null,
            "flex_flow": null,
            "grid_area": null,
            "grid_auto_columns": null,
            "grid_auto_flow": null,
            "grid_auto_rows": null,
            "grid_column": null,
            "grid_gap": null,
            "grid_row": null,
            "grid_template_areas": null,
            "grid_template_columns": null,
            "grid_template_rows": null,
            "height": null,
            "justify_content": null,
            "justify_items": null,
            "left": null,
            "margin": null,
            "max_height": null,
            "max_width": null,
            "min_height": null,
            "min_width": null,
            "object_fit": null,
            "object_position": null,
            "order": null,
            "overflow": null,
            "overflow_x": null,
            "overflow_y": null,
            "padding": null,
            "right": null,
            "top": null,
            "visibility": null,
            "width": null
          }
        },
        "cf9db960f03d4464a52df912ff09cd4a": {
          "model_module": "@jupyter-widgets/controls",
          "model_name": "DescriptionStyleModel",
          "model_module_version": "1.5.0",
          "state": {
            "_model_module": "@jupyter-widgets/controls",
            "_model_module_version": "1.5.0",
            "_model_name": "DescriptionStyleModel",
            "_view_count": null,
            "_view_module": "@jupyter-widgets/base",
            "_view_module_version": "1.2.0",
            "_view_name": "StyleView",
            "description_width": ""
          }
        },
        "33d6c484e20a40beb6cbd4bc69e5932a": {
          "model_module": "@jupyter-widgets/controls",
          "model_name": "HBoxModel",
          "model_module_version": "1.5.0",
          "state": {
            "_dom_classes": [],
            "_model_module": "@jupyter-widgets/controls",
            "_model_module_version": "1.5.0",
            "_model_name": "HBoxModel",
            "_view_count": null,
            "_view_module": "@jupyter-widgets/controls",
            "_view_module_version": "1.5.0",
            "_view_name": "HBoxView",
            "box_style": "",
            "children": [
              "IPY_MODEL_e10f485ea95b43aba28ed678f2e897e9",
              "IPY_MODEL_7f982e2e02a9416fa795b70efd42d60f",
              "IPY_MODEL_edf36fc121344623ada478c88bb3e5fb"
            ],
            "layout": "IPY_MODEL_e1fc96d1cf264d38aff75241eb72d7ca"
          }
        },
        "e10f485ea95b43aba28ed678f2e897e9": {
          "model_module": "@jupyter-widgets/controls",
          "model_name": "HTMLModel",
          "model_module_version": "1.5.0",
          "state": {
            "_dom_classes": [],
            "_model_module": "@jupyter-widgets/controls",
            "_model_module_version": "1.5.0",
            "_model_name": "HTMLModel",
            "_view_count": null,
            "_view_module": "@jupyter-widgets/controls",
            "_view_module_version": "1.5.0",
            "_view_name": "HTMLView",
            "description": "",
            "description_tooltip": null,
            "layout": "IPY_MODEL_caa01f8928fa40cc914786a3d4b42c06",
            "placeholder": "​",
            "style": "IPY_MODEL_0fec78c6ff2b463fb10d428b6c6a6b69",
            "value": "Generating train split: 100%"
          }
        },
        "7f982e2e02a9416fa795b70efd42d60f": {
          "model_module": "@jupyter-widgets/controls",
          "model_name": "FloatProgressModel",
          "model_module_version": "1.5.0",
          "state": {
            "_dom_classes": [],
            "_model_module": "@jupyter-widgets/controls",
            "_model_module_version": "1.5.0",
            "_model_name": "FloatProgressModel",
            "_view_count": null,
            "_view_module": "@jupyter-widgets/controls",
            "_view_module_version": "1.5.0",
            "_view_name": "ProgressView",
            "bar_style": "success",
            "description": "",
            "description_tooltip": null,
            "layout": "IPY_MODEL_64ef76f5707e414c90a37c3109495f96",
            "max": 1825077,
            "min": 0,
            "orientation": "horizontal",
            "style": "IPY_MODEL_c76a0da2199d438aa0979b23cb5f172b",
            "value": 1825077
          }
        },
        "edf36fc121344623ada478c88bb3e5fb": {
          "model_module": "@jupyter-widgets/controls",
          "model_name": "HTMLModel",
          "model_module_version": "1.5.0",
          "state": {
            "_dom_classes": [],
            "_model_module": "@jupyter-widgets/controls",
            "_model_module_version": "1.5.0",
            "_model_name": "HTMLModel",
            "_view_count": null,
            "_view_module": "@jupyter-widgets/controls",
            "_view_module_version": "1.5.0",
            "_view_name": "HTMLView",
            "description": "",
            "description_tooltip": null,
            "layout": "IPY_MODEL_f0b64fdec8ad495692107775234c1810",
            "placeholder": "​",
            "style": "IPY_MODEL_00d10277ae1d4bbd9fdd9b486072cb98",
            "value": " 1825077/1825077 [00:09&lt;00:00, 199367.98 examples/s]"
          }
        },
        "e1fc96d1cf264d38aff75241eb72d7ca": {
          "model_module": "@jupyter-widgets/base",
          "model_name": "LayoutModel",
          "model_module_version": "1.2.0",
          "state": {
            "_model_module": "@jupyter-widgets/base",
            "_model_module_version": "1.2.0",
            "_model_name": "LayoutModel",
            "_view_count": null,
            "_view_module": "@jupyter-widgets/base",
            "_view_module_version": "1.2.0",
            "_view_name": "LayoutView",
            "align_content": null,
            "align_items": null,
            "align_self": null,
            "border": null,
            "bottom": null,
            "display": null,
            "flex": null,
            "flex_flow": null,
            "grid_area": null,
            "grid_auto_columns": null,
            "grid_auto_flow": null,
            "grid_auto_rows": null,
            "grid_column": null,
            "grid_gap": null,
            "grid_row": null,
            "grid_template_areas": null,
            "grid_template_columns": null,
            "grid_template_rows": null,
            "height": null,
            "justify_content": null,
            "justify_items": null,
            "left": null,
            "margin": null,
            "max_height": null,
            "max_width": null,
            "min_height": null,
            "min_width": null,
            "object_fit": null,
            "object_position": null,
            "order": null,
            "overflow": null,
            "overflow_x": null,
            "overflow_y": null,
            "padding": null,
            "right": null,
            "top": null,
            "visibility": null,
            "width": null
          }
        },
        "caa01f8928fa40cc914786a3d4b42c06": {
          "model_module": "@jupyter-widgets/base",
          "model_name": "LayoutModel",
          "model_module_version": "1.2.0",
          "state": {
            "_model_module": "@jupyter-widgets/base",
            "_model_module_version": "1.2.0",
            "_model_name": "LayoutModel",
            "_view_count": null,
            "_view_module": "@jupyter-widgets/base",
            "_view_module_version": "1.2.0",
            "_view_name": "LayoutView",
            "align_content": null,
            "align_items": null,
            "align_self": null,
            "border": null,
            "bottom": null,
            "display": null,
            "flex": null,
            "flex_flow": null,
            "grid_area": null,
            "grid_auto_columns": null,
            "grid_auto_flow": null,
            "grid_auto_rows": null,
            "grid_column": null,
            "grid_gap": null,
            "grid_row": null,
            "grid_template_areas": null,
            "grid_template_columns": null,
            "grid_template_rows": null,
            "height": null,
            "justify_content": null,
            "justify_items": null,
            "left": null,
            "margin": null,
            "max_height": null,
            "max_width": null,
            "min_height": null,
            "min_width": null,
            "object_fit": null,
            "object_position": null,
            "order": null,
            "overflow": null,
            "overflow_x": null,
            "overflow_y": null,
            "padding": null,
            "right": null,
            "top": null,
            "visibility": null,
            "width": null
          }
        },
        "0fec78c6ff2b463fb10d428b6c6a6b69": {
          "model_module": "@jupyter-widgets/controls",
          "model_name": "DescriptionStyleModel",
          "model_module_version": "1.5.0",
          "state": {
            "_model_module": "@jupyter-widgets/controls",
            "_model_module_version": "1.5.0",
            "_model_name": "DescriptionStyleModel",
            "_view_count": null,
            "_view_module": "@jupyter-widgets/base",
            "_view_module_version": "1.2.0",
            "_view_name": "StyleView",
            "description_width": ""
          }
        },
        "64ef76f5707e414c90a37c3109495f96": {
          "model_module": "@jupyter-widgets/base",
          "model_name": "LayoutModel",
          "model_module_version": "1.2.0",
          "state": {
            "_model_module": "@jupyter-widgets/base",
            "_model_module_version": "1.2.0",
            "_model_name": "LayoutModel",
            "_view_count": null,
            "_view_module": "@jupyter-widgets/base",
            "_view_module_version": "1.2.0",
            "_view_name": "LayoutView",
            "align_content": null,
            "align_items": null,
            "align_self": null,
            "border": null,
            "bottom": null,
            "display": null,
            "flex": null,
            "flex_flow": null,
            "grid_area": null,
            "grid_auto_columns": null,
            "grid_auto_flow": null,
            "grid_auto_rows": null,
            "grid_column": null,
            "grid_gap": null,
            "grid_row": null,
            "grid_template_areas": null,
            "grid_template_columns": null,
            "grid_template_rows": null,
            "height": null,
            "justify_content": null,
            "justify_items": null,
            "left": null,
            "margin": null,
            "max_height": null,
            "max_width": null,
            "min_height": null,
            "min_width": null,
            "object_fit": null,
            "object_position": null,
            "order": null,
            "overflow": null,
            "overflow_x": null,
            "overflow_y": null,
            "padding": null,
            "right": null,
            "top": null,
            "visibility": null,
            "width": null
          }
        },
        "c76a0da2199d438aa0979b23cb5f172b": {
          "model_module": "@jupyter-widgets/controls",
          "model_name": "ProgressStyleModel",
          "model_module_version": "1.5.0",
          "state": {
            "_model_module": "@jupyter-widgets/controls",
            "_model_module_version": "1.5.0",
            "_model_name": "ProgressStyleModel",
            "_view_count": null,
            "_view_module": "@jupyter-widgets/base",
            "_view_module_version": "1.2.0",
            "_view_name": "StyleView",
            "bar_color": null,
            "description_width": ""
          }
        },
        "f0b64fdec8ad495692107775234c1810": {
          "model_module": "@jupyter-widgets/base",
          "model_name": "LayoutModel",
          "model_module_version": "1.2.0",
          "state": {
            "_model_module": "@jupyter-widgets/base",
            "_model_module_version": "1.2.0",
            "_model_name": "LayoutModel",
            "_view_count": null,
            "_view_module": "@jupyter-widgets/base",
            "_view_module_version": "1.2.0",
            "_view_name": "LayoutView",
            "align_content": null,
            "align_items": null,
            "align_self": null,
            "border": null,
            "bottom": null,
            "display": null,
            "flex": null,
            "flex_flow": null,
            "grid_area": null,
            "grid_auto_columns": null,
            "grid_auto_flow": null,
            "grid_auto_rows": null,
            "grid_column": null,
            "grid_gap": null,
            "grid_row": null,
            "grid_template_areas": null,
            "grid_template_columns": null,
            "grid_template_rows": null,
            "height": null,
            "justify_content": null,
            "justify_items": null,
            "left": null,
            "margin": null,
            "max_height": null,
            "max_width": null,
            "min_height": null,
            "min_width": null,
            "object_fit": null,
            "object_position": null,
            "order": null,
            "overflow": null,
            "overflow_x": null,
            "overflow_y": null,
            "padding": null,
            "right": null,
            "top": null,
            "visibility": null,
            "width": null
          }
        },
        "00d10277ae1d4bbd9fdd9b486072cb98": {
          "model_module": "@jupyter-widgets/controls",
          "model_name": "DescriptionStyleModel",
          "model_module_version": "1.5.0",
          "state": {
            "_model_module": "@jupyter-widgets/controls",
            "_model_module_version": "1.5.0",
            "_model_name": "DescriptionStyleModel",
            "_view_count": null,
            "_view_module": "@jupyter-widgets/base",
            "_view_module_version": "1.2.0",
            "_view_name": "StyleView",
            "description_width": ""
          }
        }
      }
    }
  },
  "cells": [
    {
      "cell_type": "code",
      "source": [
        "!pip install transformers\n",
        "!pip install huggingface_hub\n",
        "!pip install datasets"
      ],
      "metadata": {
        "colab": {
          "base_uri": "https://localhost:8080/"
        },
        "id": "jRPxSceKWGqY",
        "outputId": "45e0e8a3-0861-49a4-e681-b4fb10d04dba"
      },
      "execution_count": 1,
      "outputs": [
        {
          "output_type": "stream",
          "name": "stdout",
          "text": [
            "Requirement already satisfied: transformers in /usr/local/lib/python3.10/dist-packages (4.40.2)\n",
            "Requirement already satisfied: filelock in /usr/local/lib/python3.10/dist-packages (from transformers) (3.14.0)\n",
            "Requirement already satisfied: huggingface-hub<1.0,>=0.19.3 in /usr/local/lib/python3.10/dist-packages (from transformers) (0.20.3)\n",
            "Requirement already satisfied: numpy>=1.17 in /usr/local/lib/python3.10/dist-packages (from transformers) (1.25.2)\n",
            "Requirement already satisfied: packaging>=20.0 in /usr/local/lib/python3.10/dist-packages (from transformers) (24.0)\n",
            "Requirement already satisfied: pyyaml>=5.1 in /usr/local/lib/python3.10/dist-packages (from transformers) (6.0.1)\n",
            "Requirement already satisfied: regex!=2019.12.17 in /usr/local/lib/python3.10/dist-packages (from transformers) (2023.12.25)\n",
            "Requirement already satisfied: requests in /usr/local/lib/python3.10/dist-packages (from transformers) (2.31.0)\n",
            "Requirement already satisfied: tokenizers<0.20,>=0.19 in /usr/local/lib/python3.10/dist-packages (from transformers) (0.19.1)\n",
            "Requirement already satisfied: safetensors>=0.4.1 in /usr/local/lib/python3.10/dist-packages (from transformers) (0.4.3)\n",
            "Requirement already satisfied: tqdm>=4.27 in /usr/local/lib/python3.10/dist-packages (from transformers) (4.66.4)\n",
            "Requirement already satisfied: fsspec>=2023.5.0 in /usr/local/lib/python3.10/dist-packages (from huggingface-hub<1.0,>=0.19.3->transformers) (2023.6.0)\n",
            "Requirement already satisfied: typing-extensions>=3.7.4.3 in /usr/local/lib/python3.10/dist-packages (from huggingface-hub<1.0,>=0.19.3->transformers) (4.11.0)\n",
            "Requirement already satisfied: charset-normalizer<4,>=2 in /usr/local/lib/python3.10/dist-packages (from requests->transformers) (3.3.2)\n",
            "Requirement already satisfied: idna<4,>=2.5 in /usr/local/lib/python3.10/dist-packages (from requests->transformers) (3.7)\n",
            "Requirement already satisfied: urllib3<3,>=1.21.1 in /usr/local/lib/python3.10/dist-packages (from requests->transformers) (2.0.7)\n",
            "Requirement already satisfied: certifi>=2017.4.17 in /usr/local/lib/python3.10/dist-packages (from requests->transformers) (2024.2.2)\n",
            "Requirement already satisfied: huggingface_hub in /usr/local/lib/python3.10/dist-packages (0.20.3)\n",
            "Requirement already satisfied: filelock in /usr/local/lib/python3.10/dist-packages (from huggingface_hub) (3.14.0)\n",
            "Requirement already satisfied: fsspec>=2023.5.0 in /usr/local/lib/python3.10/dist-packages (from huggingface_hub) (2023.6.0)\n",
            "Requirement already satisfied: requests in /usr/local/lib/python3.10/dist-packages (from huggingface_hub) (2.31.0)\n",
            "Requirement already satisfied: tqdm>=4.42.1 in /usr/local/lib/python3.10/dist-packages (from huggingface_hub) (4.66.4)\n",
            "Requirement already satisfied: pyyaml>=5.1 in /usr/local/lib/python3.10/dist-packages (from huggingface_hub) (6.0.1)\n",
            "Requirement already satisfied: typing-extensions>=3.7.4.3 in /usr/local/lib/python3.10/dist-packages (from huggingface_hub) (4.11.0)\n",
            "Requirement already satisfied: packaging>=20.9 in /usr/local/lib/python3.10/dist-packages (from huggingface_hub) (24.0)\n",
            "Requirement already satisfied: charset-normalizer<4,>=2 in /usr/local/lib/python3.10/dist-packages (from requests->huggingface_hub) (3.3.2)\n",
            "Requirement already satisfied: idna<4,>=2.5 in /usr/local/lib/python3.10/dist-packages (from requests->huggingface_hub) (3.7)\n",
            "Requirement already satisfied: urllib3<3,>=1.21.1 in /usr/local/lib/python3.10/dist-packages (from requests->huggingface_hub) (2.0.7)\n",
            "Requirement already satisfied: certifi>=2017.4.17 in /usr/local/lib/python3.10/dist-packages (from requests->huggingface_hub) (2024.2.2)\n",
            "Collecting datasets\n",
            "  Downloading datasets-2.19.1-py3-none-any.whl (542 kB)\n",
            "\u001b[2K     \u001b[90m━━━━━━━━━━━━━━━━━━━━━━━━━━━━━━━━━━━━━━━━\u001b[0m \u001b[32m542.0/542.0 kB\u001b[0m \u001b[31m3.3 MB/s\u001b[0m eta \u001b[36m0:00:00\u001b[0m\n",
            "\u001b[?25hRequirement already satisfied: filelock in /usr/local/lib/python3.10/dist-packages (from datasets) (3.14.0)\n",
            "Requirement already satisfied: numpy>=1.17 in /usr/local/lib/python3.10/dist-packages (from datasets) (1.25.2)\n",
            "Requirement already satisfied: pyarrow>=12.0.0 in /usr/local/lib/python3.10/dist-packages (from datasets) (14.0.2)\n",
            "Requirement already satisfied: pyarrow-hotfix in /usr/local/lib/python3.10/dist-packages (from datasets) (0.6)\n",
            "Collecting dill<0.3.9,>=0.3.0 (from datasets)\n",
            "  Downloading dill-0.3.8-py3-none-any.whl (116 kB)\n",
            "\u001b[2K     \u001b[90m━━━━━━━━━━━━━━━━━━━━━━━━━━━━━━━━━━━━━━━━\u001b[0m \u001b[32m116.3/116.3 kB\u001b[0m \u001b[31m16.1 MB/s\u001b[0m eta \u001b[36m0:00:00\u001b[0m\n",
            "\u001b[?25hRequirement already satisfied: pandas in /usr/local/lib/python3.10/dist-packages (from datasets) (2.0.3)\n",
            "Requirement already satisfied: requests>=2.19.0 in /usr/local/lib/python3.10/dist-packages (from datasets) (2.31.0)\n",
            "Requirement already satisfied: tqdm>=4.62.1 in /usr/local/lib/python3.10/dist-packages (from datasets) (4.66.4)\n",
            "Collecting xxhash (from datasets)\n",
            "  Downloading xxhash-3.4.1-cp310-cp310-manylinux_2_17_x86_64.manylinux2014_x86_64.whl (194 kB)\n",
            "\u001b[2K     \u001b[90m━━━━━━━━━━━━━━━━━━━━━━━━━━━━━━━━━━━━━━━━\u001b[0m \u001b[32m194.1/194.1 kB\u001b[0m \u001b[31m17.8 MB/s\u001b[0m eta \u001b[36m0:00:00\u001b[0m\n",
            "\u001b[?25hCollecting multiprocess (from datasets)\n",
            "  Downloading multiprocess-0.70.16-py310-none-any.whl (134 kB)\n",
            "\u001b[2K     \u001b[90m━━━━━━━━━━━━━━━━━━━━━━━━━━━━━━━━━━━━━━━━\u001b[0m \u001b[32m134.8/134.8 kB\u001b[0m \u001b[31m17.6 MB/s\u001b[0m eta \u001b[36m0:00:00\u001b[0m\n",
            "\u001b[?25hRequirement already satisfied: fsspec[http]<=2024.3.1,>=2023.1.0 in /usr/local/lib/python3.10/dist-packages (from datasets) (2023.6.0)\n",
            "Requirement already satisfied: aiohttp in /usr/local/lib/python3.10/dist-packages (from datasets) (3.9.5)\n",
            "Collecting huggingface-hub>=0.21.2 (from datasets)\n",
            "  Downloading huggingface_hub-0.23.0-py3-none-any.whl (401 kB)\n",
            "\u001b[2K     \u001b[90m━━━━━━━━━━━━━━━━━━━━━━━━━━━━━━━━━━━━━━━━\u001b[0m \u001b[32m401.2/401.2 kB\u001b[0m \u001b[31m22.5 MB/s\u001b[0m eta \u001b[36m0:00:00\u001b[0m\n",
            "\u001b[?25hRequirement already satisfied: packaging in /usr/local/lib/python3.10/dist-packages (from datasets) (24.0)\n",
            "Requirement already satisfied: pyyaml>=5.1 in /usr/local/lib/python3.10/dist-packages (from datasets) (6.0.1)\n",
            "Requirement already satisfied: aiosignal>=1.1.2 in /usr/local/lib/python3.10/dist-packages (from aiohttp->datasets) (1.3.1)\n",
            "Requirement already satisfied: attrs>=17.3.0 in /usr/local/lib/python3.10/dist-packages (from aiohttp->datasets) (23.2.0)\n",
            "Requirement already satisfied: frozenlist>=1.1.1 in /usr/local/lib/python3.10/dist-packages (from aiohttp->datasets) (1.4.1)\n",
            "Requirement already satisfied: multidict<7.0,>=4.5 in /usr/local/lib/python3.10/dist-packages (from aiohttp->datasets) (6.0.5)\n",
            "Requirement already satisfied: yarl<2.0,>=1.0 in /usr/local/lib/python3.10/dist-packages (from aiohttp->datasets) (1.9.4)\n",
            "Requirement already satisfied: async-timeout<5.0,>=4.0 in /usr/local/lib/python3.10/dist-packages (from aiohttp->datasets) (4.0.3)\n",
            "Requirement already satisfied: typing-extensions>=3.7.4.3 in /usr/local/lib/python3.10/dist-packages (from huggingface-hub>=0.21.2->datasets) (4.11.0)\n",
            "Requirement already satisfied: charset-normalizer<4,>=2 in /usr/local/lib/python3.10/dist-packages (from requests>=2.19.0->datasets) (3.3.2)\n",
            "Requirement already satisfied: idna<4,>=2.5 in /usr/local/lib/python3.10/dist-packages (from requests>=2.19.0->datasets) (3.7)\n",
            "Requirement already satisfied: urllib3<3,>=1.21.1 in /usr/local/lib/python3.10/dist-packages (from requests>=2.19.0->datasets) (2.0.7)\n",
            "Requirement already satisfied: certifi>=2017.4.17 in /usr/local/lib/python3.10/dist-packages (from requests>=2.19.0->datasets) (2024.2.2)\n",
            "Requirement already satisfied: python-dateutil>=2.8.2 in /usr/local/lib/python3.10/dist-packages (from pandas->datasets) (2.8.2)\n",
            "Requirement already satisfied: pytz>=2020.1 in /usr/local/lib/python3.10/dist-packages (from pandas->datasets) (2023.4)\n",
            "Requirement already satisfied: tzdata>=2022.1 in /usr/local/lib/python3.10/dist-packages (from pandas->datasets) (2024.1)\n",
            "Requirement already satisfied: six>=1.5 in /usr/local/lib/python3.10/dist-packages (from python-dateutil>=2.8.2->pandas->datasets) (1.16.0)\n",
            "Installing collected packages: xxhash, dill, multiprocess, huggingface-hub, datasets\n",
            "  Attempting uninstall: huggingface-hub\n",
            "    Found existing installation: huggingface-hub 0.20.3\n",
            "    Uninstalling huggingface-hub-0.20.3:\n",
            "      Successfully uninstalled huggingface-hub-0.20.3\n",
            "Successfully installed datasets-2.19.1 dill-0.3.8 huggingface-hub-0.23.0 multiprocess-0.70.16 xxhash-3.4.1\n"
          ]
        }
      ]
    },
    {
      "cell_type": "code",
      "source": [
        "!pip install spacy\n",
        "!python -m spacy download fr_core_news_sm"
      ],
      "metadata": {
        "colab": {
          "base_uri": "https://localhost:8080/"
        },
        "id": "scFMev5C8ubm",
        "outputId": "60d717f0-a8ba-46c7-bbf3-6407fccaf8c0"
      },
      "execution_count": 2,
      "outputs": [
        {
          "output_type": "stream",
          "name": "stdout",
          "text": [
            "Requirement already satisfied: spacy in /usr/local/lib/python3.10/dist-packages (3.7.4)\n",
            "Requirement already satisfied: spacy-legacy<3.1.0,>=3.0.11 in /usr/local/lib/python3.10/dist-packages (from spacy) (3.0.12)\n",
            "Requirement already satisfied: spacy-loggers<2.0.0,>=1.0.0 in /usr/local/lib/python3.10/dist-packages (from spacy) (1.0.5)\n",
            "Requirement already satisfied: murmurhash<1.1.0,>=0.28.0 in /usr/local/lib/python3.10/dist-packages (from spacy) (1.0.10)\n",
            "Requirement already satisfied: cymem<2.1.0,>=2.0.2 in /usr/local/lib/python3.10/dist-packages (from spacy) (2.0.8)\n",
            "Requirement already satisfied: preshed<3.1.0,>=3.0.2 in /usr/local/lib/python3.10/dist-packages (from spacy) (3.0.9)\n",
            "Requirement already satisfied: thinc<8.3.0,>=8.2.2 in /usr/local/lib/python3.10/dist-packages (from spacy) (8.2.3)\n",
            "Requirement already satisfied: wasabi<1.2.0,>=0.9.1 in /usr/local/lib/python3.10/dist-packages (from spacy) (1.1.2)\n",
            "Requirement already satisfied: srsly<3.0.0,>=2.4.3 in /usr/local/lib/python3.10/dist-packages (from spacy) (2.4.8)\n",
            "Requirement already satisfied: catalogue<2.1.0,>=2.0.6 in /usr/local/lib/python3.10/dist-packages (from spacy) (2.0.10)\n",
            "Requirement already satisfied: weasel<0.4.0,>=0.1.0 in /usr/local/lib/python3.10/dist-packages (from spacy) (0.3.4)\n",
            "Requirement already satisfied: typer<0.10.0,>=0.3.0 in /usr/local/lib/python3.10/dist-packages (from spacy) (0.9.4)\n",
            "Requirement already satisfied: smart-open<7.0.0,>=5.2.1 in /usr/local/lib/python3.10/dist-packages (from spacy) (6.4.0)\n",
            "Requirement already satisfied: tqdm<5.0.0,>=4.38.0 in /usr/local/lib/python3.10/dist-packages (from spacy) (4.66.4)\n",
            "Requirement already satisfied: requests<3.0.0,>=2.13.0 in /usr/local/lib/python3.10/dist-packages (from spacy) (2.31.0)\n",
            "Requirement already satisfied: pydantic!=1.8,!=1.8.1,<3.0.0,>=1.7.4 in /usr/local/lib/python3.10/dist-packages (from spacy) (2.7.1)\n",
            "Requirement already satisfied: jinja2 in /usr/local/lib/python3.10/dist-packages (from spacy) (3.1.4)\n",
            "Requirement already satisfied: setuptools in /usr/local/lib/python3.10/dist-packages (from spacy) (67.7.2)\n",
            "Requirement already satisfied: packaging>=20.0 in /usr/local/lib/python3.10/dist-packages (from spacy) (24.0)\n",
            "Requirement already satisfied: langcodes<4.0.0,>=3.2.0 in /usr/local/lib/python3.10/dist-packages (from spacy) (3.4.0)\n",
            "Requirement already satisfied: numpy>=1.19.0 in /usr/local/lib/python3.10/dist-packages (from spacy) (1.25.2)\n",
            "Requirement already satisfied: language-data>=1.2 in /usr/local/lib/python3.10/dist-packages (from langcodes<4.0.0,>=3.2.0->spacy) (1.2.0)\n",
            "Requirement already satisfied: annotated-types>=0.4.0 in /usr/local/lib/python3.10/dist-packages (from pydantic!=1.8,!=1.8.1,<3.0.0,>=1.7.4->spacy) (0.6.0)\n",
            "Requirement already satisfied: pydantic-core==2.18.2 in /usr/local/lib/python3.10/dist-packages (from pydantic!=1.8,!=1.8.1,<3.0.0,>=1.7.4->spacy) (2.18.2)\n",
            "Requirement already satisfied: typing-extensions>=4.6.1 in /usr/local/lib/python3.10/dist-packages (from pydantic!=1.8,!=1.8.1,<3.0.0,>=1.7.4->spacy) (4.11.0)\n",
            "Requirement already satisfied: charset-normalizer<4,>=2 in /usr/local/lib/python3.10/dist-packages (from requests<3.0.0,>=2.13.0->spacy) (3.3.2)\n",
            "Requirement already satisfied: idna<4,>=2.5 in /usr/local/lib/python3.10/dist-packages (from requests<3.0.0,>=2.13.0->spacy) (3.7)\n",
            "Requirement already satisfied: urllib3<3,>=1.21.1 in /usr/local/lib/python3.10/dist-packages (from requests<3.0.0,>=2.13.0->spacy) (2.0.7)\n",
            "Requirement already satisfied: certifi>=2017.4.17 in /usr/local/lib/python3.10/dist-packages (from requests<3.0.0,>=2.13.0->spacy) (2024.2.2)\n",
            "Requirement already satisfied: blis<0.8.0,>=0.7.8 in /usr/local/lib/python3.10/dist-packages (from thinc<8.3.0,>=8.2.2->spacy) (0.7.11)\n",
            "Requirement already satisfied: confection<1.0.0,>=0.0.1 in /usr/local/lib/python3.10/dist-packages (from thinc<8.3.0,>=8.2.2->spacy) (0.1.4)\n",
            "Requirement already satisfied: click<9.0.0,>=7.1.1 in /usr/local/lib/python3.10/dist-packages (from typer<0.10.0,>=0.3.0->spacy) (8.1.7)\n",
            "Requirement already satisfied: cloudpathlib<0.17.0,>=0.7.0 in /usr/local/lib/python3.10/dist-packages (from weasel<0.4.0,>=0.1.0->spacy) (0.16.0)\n",
            "Requirement already satisfied: MarkupSafe>=2.0 in /usr/local/lib/python3.10/dist-packages (from jinja2->spacy) (2.1.5)\n",
            "Requirement already satisfied: marisa-trie>=0.7.7 in /usr/local/lib/python3.10/dist-packages (from language-data>=1.2->langcodes<4.0.0,>=3.2.0->spacy) (1.1.1)\n",
            "Collecting fr-core-news-sm==3.7.0\n",
            "  Downloading https://github.com/explosion/spacy-models/releases/download/fr_core_news_sm-3.7.0/fr_core_news_sm-3.7.0-py3-none-any.whl (16.3 MB)\n",
            "\u001b[2K     \u001b[90m━━━━━━━━━━━━━━━━━━━━━━━━━━━━━━━━━━━━━━━━\u001b[0m \u001b[32m16.3/16.3 MB\u001b[0m \u001b[31m36.9 MB/s\u001b[0m eta \u001b[36m0:00:00\u001b[0m\n",
            "\u001b[?25hRequirement already satisfied: spacy<3.8.0,>=3.7.0 in /usr/local/lib/python3.10/dist-packages (from fr-core-news-sm==3.7.0) (3.7.4)\n",
            "Requirement already satisfied: spacy-legacy<3.1.0,>=3.0.11 in /usr/local/lib/python3.10/dist-packages (from spacy<3.8.0,>=3.7.0->fr-core-news-sm==3.7.0) (3.0.12)\n",
            "Requirement already satisfied: spacy-loggers<2.0.0,>=1.0.0 in /usr/local/lib/python3.10/dist-packages (from spacy<3.8.0,>=3.7.0->fr-core-news-sm==3.7.0) (1.0.5)\n",
            "Requirement already satisfied: murmurhash<1.1.0,>=0.28.0 in /usr/local/lib/python3.10/dist-packages (from spacy<3.8.0,>=3.7.0->fr-core-news-sm==3.7.0) (1.0.10)\n",
            "Requirement already satisfied: cymem<2.1.0,>=2.0.2 in /usr/local/lib/python3.10/dist-packages (from spacy<3.8.0,>=3.7.0->fr-core-news-sm==3.7.0) (2.0.8)\n",
            "Requirement already satisfied: preshed<3.1.0,>=3.0.2 in /usr/local/lib/python3.10/dist-packages (from spacy<3.8.0,>=3.7.0->fr-core-news-sm==3.7.0) (3.0.9)\n",
            "Requirement already satisfied: thinc<8.3.0,>=8.2.2 in /usr/local/lib/python3.10/dist-packages (from spacy<3.8.0,>=3.7.0->fr-core-news-sm==3.7.0) (8.2.3)\n",
            "Requirement already satisfied: wasabi<1.2.0,>=0.9.1 in /usr/local/lib/python3.10/dist-packages (from spacy<3.8.0,>=3.7.0->fr-core-news-sm==3.7.0) (1.1.2)\n",
            "Requirement already satisfied: srsly<3.0.0,>=2.4.3 in /usr/local/lib/python3.10/dist-packages (from spacy<3.8.0,>=3.7.0->fr-core-news-sm==3.7.0) (2.4.8)\n",
            "Requirement already satisfied: catalogue<2.1.0,>=2.0.6 in /usr/local/lib/python3.10/dist-packages (from spacy<3.8.0,>=3.7.0->fr-core-news-sm==3.7.0) (2.0.10)\n",
            "Requirement already satisfied: weasel<0.4.0,>=0.1.0 in /usr/local/lib/python3.10/dist-packages (from spacy<3.8.0,>=3.7.0->fr-core-news-sm==3.7.0) (0.3.4)\n",
            "Requirement already satisfied: typer<0.10.0,>=0.3.0 in /usr/local/lib/python3.10/dist-packages (from spacy<3.8.0,>=3.7.0->fr-core-news-sm==3.7.0) (0.9.4)\n",
            "Requirement already satisfied: smart-open<7.0.0,>=5.2.1 in /usr/local/lib/python3.10/dist-packages (from spacy<3.8.0,>=3.7.0->fr-core-news-sm==3.7.0) (6.4.0)\n",
            "Requirement already satisfied: tqdm<5.0.0,>=4.38.0 in /usr/local/lib/python3.10/dist-packages (from spacy<3.8.0,>=3.7.0->fr-core-news-sm==3.7.0) (4.66.4)\n",
            "Requirement already satisfied: requests<3.0.0,>=2.13.0 in /usr/local/lib/python3.10/dist-packages (from spacy<3.8.0,>=3.7.0->fr-core-news-sm==3.7.0) (2.31.0)\n",
            "Requirement already satisfied: pydantic!=1.8,!=1.8.1,<3.0.0,>=1.7.4 in /usr/local/lib/python3.10/dist-packages (from spacy<3.8.0,>=3.7.0->fr-core-news-sm==3.7.0) (2.7.1)\n",
            "Requirement already satisfied: jinja2 in /usr/local/lib/python3.10/dist-packages (from spacy<3.8.0,>=3.7.0->fr-core-news-sm==3.7.0) (3.1.4)\n",
            "Requirement already satisfied: setuptools in /usr/local/lib/python3.10/dist-packages (from spacy<3.8.0,>=3.7.0->fr-core-news-sm==3.7.0) (67.7.2)\n",
            "Requirement already satisfied: packaging>=20.0 in /usr/local/lib/python3.10/dist-packages (from spacy<3.8.0,>=3.7.0->fr-core-news-sm==3.7.0) (24.0)\n",
            "Requirement already satisfied: langcodes<4.0.0,>=3.2.0 in /usr/local/lib/python3.10/dist-packages (from spacy<3.8.0,>=3.7.0->fr-core-news-sm==3.7.0) (3.4.0)\n",
            "Requirement already satisfied: numpy>=1.19.0 in /usr/local/lib/python3.10/dist-packages (from spacy<3.8.0,>=3.7.0->fr-core-news-sm==3.7.0) (1.25.2)\n",
            "Requirement already satisfied: language-data>=1.2 in /usr/local/lib/python3.10/dist-packages (from langcodes<4.0.0,>=3.2.0->spacy<3.8.0,>=3.7.0->fr-core-news-sm==3.7.0) (1.2.0)\n",
            "Requirement already satisfied: annotated-types>=0.4.0 in /usr/local/lib/python3.10/dist-packages (from pydantic!=1.8,!=1.8.1,<3.0.0,>=1.7.4->spacy<3.8.0,>=3.7.0->fr-core-news-sm==3.7.0) (0.6.0)\n",
            "Requirement already satisfied: pydantic-core==2.18.2 in /usr/local/lib/python3.10/dist-packages (from pydantic!=1.8,!=1.8.1,<3.0.0,>=1.7.4->spacy<3.8.0,>=3.7.0->fr-core-news-sm==3.7.0) (2.18.2)\n",
            "Requirement already satisfied: typing-extensions>=4.6.1 in /usr/local/lib/python3.10/dist-packages (from pydantic!=1.8,!=1.8.1,<3.0.0,>=1.7.4->spacy<3.8.0,>=3.7.0->fr-core-news-sm==3.7.0) (4.11.0)\n",
            "Requirement already satisfied: charset-normalizer<4,>=2 in /usr/local/lib/python3.10/dist-packages (from requests<3.0.0,>=2.13.0->spacy<3.8.0,>=3.7.0->fr-core-news-sm==3.7.0) (3.3.2)\n",
            "Requirement already satisfied: idna<4,>=2.5 in /usr/local/lib/python3.10/dist-packages (from requests<3.0.0,>=2.13.0->spacy<3.8.0,>=3.7.0->fr-core-news-sm==3.7.0) (3.7)\n",
            "Requirement already satisfied: urllib3<3,>=1.21.1 in /usr/local/lib/python3.10/dist-packages (from requests<3.0.0,>=2.13.0->spacy<3.8.0,>=3.7.0->fr-core-news-sm==3.7.0) (2.0.7)\n",
            "Requirement already satisfied: certifi>=2017.4.17 in /usr/local/lib/python3.10/dist-packages (from requests<3.0.0,>=2.13.0->spacy<3.8.0,>=3.7.0->fr-core-news-sm==3.7.0) (2024.2.2)\n",
            "Requirement already satisfied: blis<0.8.0,>=0.7.8 in /usr/local/lib/python3.10/dist-packages (from thinc<8.3.0,>=8.2.2->spacy<3.8.0,>=3.7.0->fr-core-news-sm==3.7.0) (0.7.11)\n",
            "Requirement already satisfied: confection<1.0.0,>=0.0.1 in /usr/local/lib/python3.10/dist-packages (from thinc<8.3.0,>=8.2.2->spacy<3.8.0,>=3.7.0->fr-core-news-sm==3.7.0) (0.1.4)\n",
            "Requirement already satisfied: click<9.0.0,>=7.1.1 in /usr/local/lib/python3.10/dist-packages (from typer<0.10.0,>=0.3.0->spacy<3.8.0,>=3.7.0->fr-core-news-sm==3.7.0) (8.1.7)\n",
            "Requirement already satisfied: cloudpathlib<0.17.0,>=0.7.0 in /usr/local/lib/python3.10/dist-packages (from weasel<0.4.0,>=0.1.0->spacy<3.8.0,>=3.7.0->fr-core-news-sm==3.7.0) (0.16.0)\n",
            "Requirement already satisfied: MarkupSafe>=2.0 in /usr/local/lib/python3.10/dist-packages (from jinja2->spacy<3.8.0,>=3.7.0->fr-core-news-sm==3.7.0) (2.1.5)\n",
            "Requirement already satisfied: marisa-trie>=0.7.7 in /usr/local/lib/python3.10/dist-packages (from language-data>=1.2->langcodes<4.0.0,>=3.2.0->spacy<3.8.0,>=3.7.0->fr-core-news-sm==3.7.0) (1.1.1)\n",
            "Installing collected packages: fr-core-news-sm\n",
            "Successfully installed fr-core-news-sm-3.7.0\n",
            "\u001b[38;5;2m✔ Download and installation successful\u001b[0m\n",
            "You can now load the package via spacy.load('fr_core_news_sm')\n",
            "\u001b[38;5;3m⚠ Restart to reload dependencies\u001b[0m\n",
            "If you are in a Jupyter or Colab notebook, you may need to restart Python in\n",
            "order to load all the package's dependencies. You can do this by selecting the\n",
            "'Restart kernel' or 'Restart runtime' option.\n"
          ]
        }
      ]
    },
    {
      "cell_type": "code",
      "source": [
        "# Personal Transformer\n",
        "import spacy\n",
        "from torchtext.data.utils import get_tokenizer\n",
        "from torchtext.vocab import build_vocab_from_iterator\n",
        "from torch.nn.utils.rnn import pad_sequence\n",
        "import torch\n",
        "from torch.utils.data import Dataset, DataLoader\n",
        "from datasets import load_dataset\n",
        "raw_datasets = load_dataset(\"ashwinradhe/dl_dataset\")\n",
        "small_train_dataset = raw_datasets['train'].select(range(100000))\n",
        "SRC_LANGUAGE = \"en\"\n",
        "TRG_LANGUAGE = \"fr\"\n",
        "tokenizer_en = get_tokenizer('spacy', language='en_core_web_sm')\n",
        "tokenizer_fr= get_tokenizer('spacy', language='fr_core_news_sm')\n",
        "UNK_IDX, PAD_IDX, BOS_IDX, EOS_IDX = 0, 1, 2, 3\n",
        "special_symbols = ['<unk>', '<pad>', '<bos>', '<eos>']\n",
        "def tokenize_and_build_vocab(data, tokenizer):\n",
        "    tokenized_data = [tokenizer(sentence) for sentence in data]\n",
        "    vocab = build_vocab_from_iterator(tokenized_data,min_freq=1, specials=special_symbols,special_first=True)\n",
        "    vocab.set_default_index(vocab['<unk>'])\n",
        "    return vocab, tokenized_data\n",
        "vocab_en, tokenized_data_en = tokenize_and_build_vocab(small_train_dataset['English Sentence'], tokenizer_en)\n",
        "vocab_fr, tokenized_data_fr = tokenize_and_build_vocab(small_train_dataset['French Sentence'], tokenizer_fr)\n",
        "def numericalize_and_pad(tokenized_data, vocab):\n",
        "    numericalized_data = [torch.tensor(vocab.lookup_indices(sentence)) for sentence in tokenized_data]\n",
        "    padded_data = pad_sequence(numericalized_data, batch_first=True, padding_value=vocab['<pad>'])\n",
        "    return padded_data\n",
        "padded_data_en = numericalize_and_pad(tokenized_data_en, vocab_en)\n",
        "padded_data_fr = numericalize_and_pad(tokenized_data_fr, vocab_fr)"
      ],
      "metadata": {
        "colab": {
          "base_uri": "https://localhost:8080/",
          "height": 205,
          "referenced_widgets": [
            "2133e6d0f7b94652b4d92c580cb12f32",
            "c31a72da057149049ae6cbcdadd86362",
            "1bdbbb6d51e74f478f859dd3f10a3ef5",
            "91d8fa6a79d64736925a48a1f3d4fd25",
            "c630e5a38a984805beb59877692247d9",
            "be69085945b84c239a3a47417de9b9e2",
            "65c26d05c0964d46aab1bd36d30a08d6",
            "434fa6d4aa7d4e869c0bcd9493b632aa",
            "f79366b1d48542e398c304b634c1f4a5",
            "d1a278fb3a744fe4856346f2e3c94e2d",
            "cf9db960f03d4464a52df912ff09cd4a",
            "33d6c484e20a40beb6cbd4bc69e5932a",
            "e10f485ea95b43aba28ed678f2e897e9",
            "7f982e2e02a9416fa795b70efd42d60f",
            "edf36fc121344623ada478c88bb3e5fb",
            "e1fc96d1cf264d38aff75241eb72d7ca",
            "caa01f8928fa40cc914786a3d4b42c06",
            "0fec78c6ff2b463fb10d428b6c6a6b69",
            "64ef76f5707e414c90a37c3109495f96",
            "c76a0da2199d438aa0979b23cb5f172b",
            "f0b64fdec8ad495692107775234c1810",
            "00d10277ae1d4bbd9fdd9b486072cb98"
          ]
        },
        "id": "Ldtdh2hu8pG5",
        "outputId": "bb154999-d6bd-45ba-ede9-7cd74dc281ce"
      },
      "execution_count": 3,
      "outputs": [
        {
          "output_type": "stream",
          "name": "stderr",
          "text": [
            "/usr/local/lib/python3.10/dist-packages/huggingface_hub/utils/_token.py:89: UserWarning: \n",
            "The secret `HF_TOKEN` does not exist in your Colab secrets.\n",
            "To authenticate with the Hugging Face Hub, create a token in your settings tab (https://huggingface.co/settings/tokens), set it as secret in your Google Colab and restart your session.\n",
            "You will be able to reuse this secret in all of your notebooks.\n",
            "Please note that authentication is recommended but still optional to access public models or datasets.\n",
            "  warnings.warn(\n"
          ]
        },
        {
          "output_type": "display_data",
          "data": {
            "text/plain": [
              "Downloading data:   0%|          | 0.00/599M [00:00<?, ?B/s]"
            ],
            "application/vnd.jupyter.widget-view+json": {
              "version_major": 2,
              "version_minor": 0,
              "model_id": "2133e6d0f7b94652b4d92c580cb12f32"
            }
          },
          "metadata": {}
        },
        {
          "output_type": "display_data",
          "data": {
            "text/plain": [
              "Generating train split:   0%|          | 0/1825077 [00:00<?, ? examples/s]"
            ],
            "application/vnd.jupyter.widget-view+json": {
              "version_major": 2,
              "version_minor": 0,
              "model_id": "33d6c484e20a40beb6cbd4bc69e5932a"
            }
          },
          "metadata": {}
        }
      ]
    },
    {
      "cell_type": "code",
      "source": [
        "from torch.utils.data import random_split\n",
        "from torch.utils.data import DataLoader\n",
        "dataset = torch.utils.data.TensorDataset(padded_data_en, padded_data_fr)\n",
        "total_size = len(dataset)\n",
        "train_size = int(0.8 * total_size)\n",
        "val_size = int(0.1 * total_size)\n",
        "test_size = total_size - train_size - val_size\n",
        "train_dataset, val_dataset, test_dataset = random_split(dataset, [train_size, val_size, test_size])\n",
        "batch_size = 32\n",
        "train_dataloader = DataLoader(train_dataset, batch_size=batch_size, shuffle=True, drop_last=True)\n",
        "val_dataloader = DataLoader(val_dataset, batch_size=batch_size, shuffle=False, drop_last=True)\n",
        "test_dataloader = DataLoader(test_dataset, batch_size=batch_size, shuffle=False, drop_last=True)"
      ],
      "metadata": {
        "id": "RO7ebDU_YNWc"
      },
      "execution_count": 4,
      "outputs": []
    },
    {
      "cell_type": "markdown",
      "source": [
        "##Absolute positional Encoding"
      ],
      "metadata": {
        "id": "GLIxUokrAsaw"
      }
    },
    {
      "cell_type": "code",
      "source": [
        "import torch\n",
        "from torch import nn, Tensor\n",
        "import math\n",
        "class PositionalEncoding(nn.Module):\n",
        "    def __init__(self, emb_size: int, dropout: float, maxlen: int = 5000):\n",
        "        super(PositionalEncoding, self).__init__()\n",
        "        den = torch.exp(-torch.arange(0, emb_size, 2) * math.log(10000) / emb_size)\n",
        "        pos = torch.arange(0, maxlen).reshape(maxlen, 1)\n",
        "        pos_embedding = torch.zeros((maxlen, emb_size))\n",
        "        pos_embedding[:, 0::2] = torch.sin(pos * den)\n",
        "        pos_embedding[:, 1::2] = torch.cos(pos * den)\n",
        "        pos_embedding = pos_embedding.unsqueeze(-2)\n",
        "        self.dropout = nn.Dropout(dropout)\n",
        "        self.register_buffer('pos_embedding', pos_embedding)\n",
        "    def forward(self, token_embedding: Tensor):\n",
        "        return self.dropout(token_embedding + self.pos_embedding[:token_embedding.size(0), :])\n",
        "\n",
        "class TokenEmbedding(nn.Module):\n",
        "    def __init__(self, vocab_size: int, emb_size: int):\n",
        "        super(TokenEmbedding, self).__init__()\n",
        "        self.embedding = nn.Embedding(vocab_size, emb_size)\n",
        "        self.emb_size = emb_size\n",
        "    def forward(self, tokens: Tensor):\n",
        "        return self.embedding(tokens.long()) * math.sqrt(self.emb_size)\n",
        "\n",
        "class TransformerModel(nn.Module):\n",
        "    def __init__(self, num_tokens_en, num_tokens_fr, embed_size, nhead, dim_feedforward, max_seq_length):\n",
        "        super(TransformerModel, self).__init__()\n",
        "        self.embed_size = embed_size\n",
        "        self.src_tok_emb = TokenEmbedding(num_tokens_en, embed_size)\n",
        "        self.tgt_tok_emb = TokenEmbedding(num_tokens_fr, embed_size)\n",
        "        self.positional_encoding = PositionalEncoding(embed_size, dropout=0.1, maxlen=max_seq_length)\n",
        "\n",
        "        encoder_layer = nn.TransformerEncoderLayer(d_model=embed_size, nhead=nhead, dim_feedforward=dim_feedforward, dropout=0.1)\n",
        "        self.transformer_encoder = nn.TransformerEncoder(encoder_layer, num_layers=3)\n",
        "\n",
        "        decoder_layer = nn.TransformerDecoderLayer(d_model=embed_size, nhead=nhead, dim_feedforward=dim_feedforward, dropout=0.1)\n",
        "        self.transformer_decoder = nn.TransformerDecoder(decoder_layer, num_layers=3)\n",
        "        self.generator = nn.Linear(embed_size, num_tokens_fr)\n",
        "\n",
        "    def encode(self, src, src_mask):\n",
        "        src_emb = self.positional_encoding(self.src_tok_emb(src))\n",
        "        return self.transformer_encoder(src_emb, src_key_padding_mask=src_mask)\n",
        "\n",
        "    def decode(self, tgt, memory, tgt_mask, tgt_key_padding_mask):\n",
        "        tgt_emb = self.positional_encoding(self.tgt_tok_emb(tgt))\n",
        "        return self.transformer_decoder(tgt_emb, memory, tgt_mask, tgt_key_padding_mask=tgt_key_padding_mask)\n",
        "\n",
        "    def forward(self, src, tgt, src_mask=None, tgt_mask=None, src_padding_mask=None, tgt_padding_mask=None):\n",
        "        memory = self.encode(src, src_padding_mask)\n",
        "        output = self.decode(tgt, memory, tgt_mask, tgt_padding_mask)\n",
        "        return self.generator(output)\n",
        "\n",
        "    def generate_square_subsequent_mask(self, sz):\n",
        "        mask = torch.triu(torch.ones(sz, sz, device=device)).transpose(0, 1)\n",
        "        mask = mask.float().masked_fill(mask == 0, float('-inf')).masked_fill(mask == 1, float(0.0))\n",
        "        return mask\n",
        "model = TransformerModel(len(vocab_en), len(vocab_fr), embed_size=64, nhead=8, dim_feedforward=1024, max_seq_length=512)"
      ],
      "metadata": {
        "colab": {
          "base_uri": "https://localhost:8080/"
        },
        "id": "cluXGWkZAu4D",
        "outputId": "b17c3cb4-9202-4f4b-9be3-9391a51d3b72"
      },
      "execution_count": null,
      "outputs": [
        {
          "output_type": "stream",
          "name": "stderr",
          "text": [
            "/usr/local/lib/python3.10/dist-packages/torch/nn/modules/transformer.py:286: UserWarning: enable_nested_tensor is True, but self.use_nested_tensor is False because encoder_layer.self_attn.batch_first was not True(use batch_first for better inference performance)\n",
            "  warnings.warn(f\"enable_nested_tensor is True, but self.use_nested_tensor is False because {why_not_sparsity_fast_path}\")\n"
          ]
        }
      ]
    },
    {
      "cell_type": "code",
      "source": [
        "optimizer = torch.optim.Adam(model.parameters(), lr=0.001)\n",
        "# scheduler = torch.optim.lr_scheduler.StepLR(optimizer, step_size=1, gamma=0.95)\n",
        "seq2seq_loss = torch.nn.CrossEntropyLoss(ignore_index=PAD_IDX)\n",
        "def init_weights(m):\n",
        "    if isinstance(m, nn.Linear):\n",
        "        nn.init.xavier_uniform_(m.weight)\n",
        "        if m.bias is not None:\n",
        "            nn.init.constant_(m.bias, 0)\n",
        "device = torch.device(\"cuda\" if torch.cuda.is_available() else \"cpu\")\n",
        "model.to(device)\n",
        "def train_and_evaluate(model, train_dataloader, val_dataloader, test_dataloader, optimizer, loss_fn, vocab_en, vocab_fr, epochs=10):\n",
        "    model.apply(init_weights)\n",
        "    training_loss = []\n",
        "    validation_loss = []\n",
        "    for epoch in range(epochs):\n",
        "        model.train()\n",
        "        total_train_loss = 0\n",
        "\n",
        "        for src, tgt in train_dataloader:\n",
        "            src, tgt = src.to(device), tgt.to(device)\n",
        "            src = src.T\n",
        "            tgt_inp = tgt.T\n",
        "            tgt_input = tgt_inp[:-1, :]\n",
        "            tgt_output = tgt_inp[1:, :]\n",
        "            src_seq_length = src.shape[0]\n",
        "            tgt_seq_length = tgt_input.shape[0]\n",
        "            src_mask = torch.zeros(src_seq_length, src_seq_length).to(device).type(torch.bool)\n",
        "            tgt_mask = model.generate_square_subsequent_mask(tgt_seq_length).to(device)\n",
        "            src_padding_mask = (src == PAD_IDX).transpose(0, 1).to(device)\n",
        "            tgt_padding_mask = (tgt_input == PAD_IDX).transpose(0, 1).to(device)\n",
        "\n",
        "            logits = model(src, tgt_input, src_mask, tgt_mask, src_padding_mask, tgt_padding_mask)\n",
        "            logits = logits.view(-1, logits.shape[-1])\n",
        "            tgt_output = tgt_output.reshape(-1)\n",
        "            loss = seq2seq_loss(logits, tgt_output)\n",
        "            optimizer.zero_grad()\n",
        "            loss.backward()\n",
        "            torch.nn.utils.clip_grad_norm_(model.parameters(), max_norm=1.0)\n",
        "            optimizer.step()\n",
        "            total_train_loss += loss.item() if not torch.isnan(loss) else 0\n",
        "\n",
        "        avg_train_loss = total_train_loss / len(train_dataloader)\n",
        "        training_loss.append(avg_train_loss)\n",
        "        model.eval()\n",
        "        total_val_loss = 0\n",
        "\n",
        "        with torch.no_grad():\n",
        "            for src, tgt in val_dataloader:\n",
        "                src, tgt = src.to(device), tgt.to(device)\n",
        "                src = src.T\n",
        "                tgt_inp = tgt.T\n",
        "                tgt_input = tgt_inp[:-1, :]\n",
        "                tgt_output = tgt_inp[1:, :]\n",
        "                src_seq_length = src.shape[0]\n",
        "                tgt_seq_length = tgt_input.shape[0]\n",
        "                src_mask = torch.zeros(src_seq_length, src_seq_length).to(device).type(torch.bool)\n",
        "                tgt_mask = model.generate_square_subsequent_mask(tgt_seq_length).to(device)\n",
        "                src_padding_mask = (src == PAD_IDX).transpose(0, 1).to(device)\n",
        "                tgt_padding_mask = (tgt_input == PAD_IDX).transpose(0, 1).to(device)\n",
        "                logits = model(src, tgt_input, src_mask, tgt_mask, src_padding_mask, tgt_padding_mask)\n",
        "                logits = logits.view(-1, logits.shape[-1])\n",
        "                tgt_output = tgt_output.reshape(-1)\n",
        "                loss = seq2seq_loss(logits, tgt_output)\n",
        "                total_val_loss += loss.item()\n",
        "\n",
        "\n",
        "        avg_val_loss = total_val_loss / len(val_dataloader)\n",
        "        validation_loss.append(avg_val_loss)\n",
        "        print(f'Epoch {epoch+1}, Training Loss: {avg_train_loss:.4f}, Validation Loss: {avg_val_loss:.4f}')\n",
        "    return training_loss, validation_loss,model\n",
        "training_loss, validation_loss,model = train_and_evaluate(model, train_dataloader, val_dataloader, test_dataloader, optimizer, vocab_en, vocab_fr, seq2seq_loss, epochs=10)"
      ],
      "metadata": {
        "colab": {
          "base_uri": "https://localhost:8080/"
        },
        "id": "Hz8v_vI3Bozf",
        "outputId": "89637103-09ba-4014-cf88-3ba59fbe3596"
      },
      "execution_count": null,
      "outputs": [
        {
          "output_type": "stream",
          "name": "stderr",
          "text": [
            "/usr/local/lib/python3.10/dist-packages/torch/nn/functional.py:5109: UserWarning: Support for mismatched key_padding_mask and attn_mask is deprecated. Use same type for both instead.\n",
            "  warnings.warn(\n"
          ]
        },
        {
          "output_type": "stream",
          "name": "stdout",
          "text": [
            "Epoch 1, Training Loss: 5.0618, Validation Loss: 4.4694\n",
            "Epoch 2, Training Loss: 4.3250, Validation Loss: 4.2085\n",
            "Epoch 3, Training Loss: 4.0804, Validation Loss: 4.0437\n",
            "Epoch 4, Training Loss: 3.9067, Validation Loss: 3.9199\n",
            "Epoch 5, Training Loss: 3.7722, Validation Loss: 3.8520\n",
            "Epoch 6, Training Loss: 3.6624, Validation Loss: 3.7792\n",
            "Epoch 7, Training Loss: 3.5732, Validation Loss: 3.7421\n",
            "Epoch 8, Training Loss: 3.5007, Validation Loss: 3.7064\n",
            "Epoch 9, Training Loss: 3.4402, Validation Loss: 3.7006\n",
            "Epoch 10, Training Loss: 3.3885, Validation Loss: 3.6890\n"
          ]
        }
      ]
    },
    {
      "cell_type": "code",
      "source": [
        "import matplotlib.pyplot as plt\n",
        "epochs = range(1, len(training_loss) + 1)\n",
        "plt.plot(epochs, training_loss, label='Training Loss')\n",
        "plt.plot(epochs, validation_loss, label='Validation Loss')\n",
        "plt.title('Cross Entropy loss with Adam(relative)')\n",
        "plt.xlabel('Epoch')\n",
        "plt.ylabel('Loss')\n",
        "plt.legend()\n",
        "plt.show()"
      ],
      "metadata": {
        "colab": {
          "base_uri": "https://localhost:8080/",
          "height": 472
        },
        "id": "c1ERarxnoSUN",
        "outputId": "9837fb56-a977-4f42-fe30-5b7adcae6c53"
      },
      "execution_count": null,
      "outputs": [
        {
          "output_type": "display_data",
          "data": {
            "text/plain": [
              "<Figure size 640x480 with 1 Axes>"
            ],
            "image/png": "[encoded data removed]"
          },
          "metadata": {}
        }
      ]
    },
    {
      "cell_type": "code",
      "source": [
        "model_metrics = {\"training_loss\": training_loss, \"validation_loss\":validation_loss}\n",
        "torch.save(model_metrics, '/content/drive/MyDrive/Adam/absolute_positional_encoding/crossentropyloss/model_metrics.pkl')"
      ],
      "metadata": {
        "id": "_cG2u-S6m3nf"
      },
      "execution_count": null,
      "outputs": []
    },
    {
      "cell_type": "code",
      "source": [
        "torch.save(model.state_dict(), '/content/drive/MyDrive/Adam/absolute_positional_encoding/crossentropyloss/model_weights.pt')\n",
        "torch.save(model, '/content/drive/MyDrive/Adam/absolute_positional_encoding/crossentropyloss/model.pkl')"
      ],
      "metadata": {
        "id": "LBrNkWre5L3L"
      },
      "execution_count": null,
      "outputs": []
    },
    {
      "cell_type": "markdown",
      "source": [
        "##Cross Entropy Loss with label smoothning"
      ],
      "metadata": {
        "id": "A6SSsU5LzpNc"
      }
    },
    {
      "cell_type": "code",
      "source": [
        "import torch\n",
        "from torch import nn, Tensor\n",
        "import math\n",
        "\n",
        "class PositionalEncoding(nn.Module):\n",
        "    def __init__(self, emb_size: int, dropout: float, maxlen: int = 5000):\n",
        "        super(PositionalEncoding, self).__init__()\n",
        "        den = torch.exp(-torch.arange(0, emb_size, 2) * math.log(10000) / emb_size)\n",
        "        pos = torch.arange(0, maxlen).reshape(maxlen, 1)\n",
        "        pos_embedding = torch.zeros((maxlen, emb_size))\n",
        "        pos_embedding[:, 0::2] = torch.sin(pos * den)\n",
        "        pos_embedding[:, 1::2] = torch.cos(pos * den)\n",
        "        pos_embedding = pos_embedding.unsqueeze(-2)\n",
        "        self.dropout = nn.Dropout(dropout)\n",
        "        self.register_buffer('pos_embedding', pos_embedding)\n",
        "\n",
        "    def forward(self, token_embedding: Tensor):\n",
        "        return self.dropout(token_embedding + self.pos_embedding[:token_embedding.size(0), :])\n",
        "\n",
        "class TokenEmbedding(nn.Module):\n",
        "    def __init__(self, vocab_size: int, emb_size: int):\n",
        "        super(TokenEmbedding, self).__init__()\n",
        "        self.embedding = nn.Embedding(vocab_size, emb_size)\n",
        "        self.emb_size = emb_size\n",
        "\n",
        "    def forward(self, tokens: Tensor):\n",
        "        return self.embedding(tokens.long()) * math.sqrt(self.emb_size)\n",
        "\n",
        "class TransformerModel(nn.Module):\n",
        "    def __init__(self, num_tokens_en, num_tokens_fr, embed_size, nhead, dim_feedforward, max_seq_length):\n",
        "        super(TransformerModel, self).__init__()\n",
        "        self.embed_size = embed_size\n",
        "        self.src_tok_emb = TokenEmbedding(num_tokens_en, embed_size)\n",
        "        self.tgt_tok_emb = TokenEmbedding(num_tokens_fr, embed_size)\n",
        "        self.positional_encoding = PositionalEncoding(embed_size, dropout=0.1, maxlen=max_seq_length)\n",
        "\n",
        "        encoder_layer = nn.TransformerEncoderLayer(d_model=embed_size, nhead=nhead, dim_feedforward=dim_feedforward, dropout=0.1)\n",
        "        self.transformer_encoder = nn.TransformerEncoder(encoder_layer, num_layers=3)\n",
        "\n",
        "        decoder_layer = nn.TransformerDecoderLayer(d_model=embed_size, nhead=nhead, dim_feedforward=dim_feedforward, dropout=0.1)\n",
        "        self.transformer_decoder = nn.TransformerDecoder(decoder_layer, num_layers=3)\n",
        "        self.generator = nn.Linear(embed_size, num_tokens_fr)\n",
        "\n",
        "    def encode(self, src, src_mask):\n",
        "        src_emb = self.positional_encoding(self.src_tok_emb(src))\n",
        "        return self.transformer_encoder(src_emb, src_key_padding_mask=src_mask)\n",
        "\n",
        "    def decode(self, tgt, memory, tgt_mask, tgt_key_padding_mask):\n",
        "        tgt_emb = self.positional_encoding(self.tgt_tok_emb(tgt))\n",
        "        return self.transformer_decoder(tgt_emb, memory, tgt_mask, tgt_key_padding_mask=tgt_key_padding_mask)\n",
        "\n",
        "    def forward(self, src, tgt, src_mask=None, tgt_mask=None, src_padding_mask=None, tgt_padding_mask=None):\n",
        "        memory = self.encode(src, src_padding_mask)\n",
        "        output = self.decode(tgt, memory, tgt_mask, tgt_padding_mask)\n",
        "        return self.generator(output)\n",
        "\n",
        "    def generate_square_subsequent_mask(self, sz):\n",
        "        mask = torch.triu(torch.ones(sz, sz, device=device)).transpose(0, 1)\n",
        "        mask = mask.float().masked_fill(mask == 0, float('-inf')).masked_fill(mask == 1, float(0.0))\n",
        "        return mask\n",
        "model_cel = TransformerModel(len(vocab_en), len(vocab_fr), embed_size=64, nhead=8, dim_feedforward=1024, max_seq_length=512)"
      ],
      "metadata": {
        "colab": {
          "base_uri": "https://localhost:8080/"
        },
        "id": "JQYPk3Ir0LJe",
        "outputId": "242a1cbd-509a-4836-f3ec-eb9afb54c20c"
      },
      "execution_count": null,
      "outputs": [
        {
          "output_type": "stream",
          "name": "stderr",
          "text": [
            "/usr/local/lib/python3.10/dist-packages/torch/nn/modules/transformer.py:286: UserWarning: enable_nested_tensor is True, but self.use_nested_tensor is False because encoder_layer.self_attn.batch_first was not True(use batch_first for better inference performance)\n",
            "  warnings.warn(f\"enable_nested_tensor is True, but self.use_nested_tensor is False because {why_not_sparsity_fast_path}\")\n"
          ]
        }
      ]
    },
    {
      "cell_type": "code",
      "source": [
        "optimizer = torch.optim.Adam(model_cel.parameters(), lr=0.001)\n",
        "# scheduler = torch.optim.lr_scheduler.StepLR(optimizer, step_size=1, gamma=0.95)\n",
        "seq2seq_loss_cel = torch.nn.CrossEntropyLoss(ignore_index=PAD_IDX,label_smoothing=0.5)\n",
        "def init_weights(m):\n",
        "    if isinstance(m, nn.Linear):\n",
        "        nn.init.xavier_uniform_(m.weight)\n",
        "        if m.bias is not None:\n",
        "            nn.init.constant_(m.bias, 0)\n",
        "device = torch.device(\"cuda\" if torch.cuda.is_available() else \"cpu\")\n",
        "model_cel.to(device)\n",
        "def train_and_evaluate(model, train_dataloader, val_dataloader, test_dataloader, optimizer, loss_function, vocab_en, vocab_fr, epochs=10):\n",
        "    model.apply(init_weights)\n",
        "    training_loss = []\n",
        "    validation_loss = []\n",
        "    for epoch in range(epochs):\n",
        "        model.train()\n",
        "        total_train_loss = 0\n",
        "\n",
        "        for src, tgt in train_dataloader:\n",
        "            src, tgt = src.to(device), tgt.to(device)\n",
        "            src = src.T\n",
        "            tgt_inp = tgt.T\n",
        "            tgt_input = tgt_inp[:-1, :]\n",
        "            tgt_output = tgt_inp[1:, :]\n",
        "            src_seq_length = src.shape[0]\n",
        "            tgt_seq_length = tgt_input.shape[0]\n",
        "            src_mask = torch.zeros(src_seq_length, src_seq_length).to(device).type(torch.bool)\n",
        "            tgt_mask = model.generate_square_subsequent_mask(tgt_seq_length).to(device)\n",
        "            src_padding_mask = (src == PAD_IDX).transpose(0, 1).to(device)\n",
        "            tgt_padding_mask = (tgt_input == PAD_IDX).transpose(0, 1).to(device)\n",
        "\n",
        "            logits = model(src, tgt_input, src_mask, tgt_mask, src_padding_mask, tgt_padding_mask)\n",
        "            logits = logits.view(-1, logits.shape[-1])\n",
        "            tgt_output = tgt_output.reshape(-1)\n",
        "            loss = seq2seq_loss_cel(logits, tgt_output)\n",
        "            optimizer.zero_grad()\n",
        "            loss.backward()\n",
        "            torch.nn.utils.clip_grad_norm_(model.parameters(), max_norm=1.0)\n",
        "            optimizer.step()\n",
        "            total_train_loss += loss.item() if not torch.isnan(loss) else 0\n",
        "\n",
        "\n",
        "        avg_train_loss = total_train_loss / len(train_dataloader)\n",
        "        training_loss.append(avg_train_loss)\n",
        "        model.eval()\n",
        "        total_val_loss = 0\n",
        "\n",
        "        with torch.no_grad():\n",
        "            for src, tgt in val_dataloader:\n",
        "                src, tgt = src.to(device), tgt.to(device)\n",
        "                src = src.T\n",
        "                tgt_inp = tgt.T\n",
        "                tgt_input = tgt_inp[:-1, :]\n",
        "                tgt_output = tgt_inp[1:, :]\n",
        "                src_seq_length = src.shape[0]\n",
        "                tgt_seq_length = tgt_input.shape[0]\n",
        "                src_mask = torch.zeros(src_seq_length, src_seq_length).to(device).type(torch.bool)\n",
        "                tgt_mask = model.generate_square_subsequent_mask(tgt_seq_length).to(device)\n",
        "                src_padding_mask = (src == PAD_IDX).transpose(0, 1).to(device)\n",
        "                tgt_padding_mask = (tgt_input == PAD_IDX).transpose(0, 1).to(device)\n",
        "                logits = model(src, tgt_input, src_mask, tgt_mask, src_padding_mask, tgt_padding_mask)\n",
        "                logits = logits.view(-1, logits.shape[-1])\n",
        "                tgt_output = tgt_output.reshape(-1)\n",
        "                loss = seq2seq_loss_cel(logits, tgt_output)\n",
        "                total_val_loss += loss.item()\n",
        "\n",
        "\n",
        "        avg_val_loss = total_val_loss / len(val_dataloader)\n",
        "        validation_loss.append(avg_val_loss)\n",
        "        print(f'Epoch {epoch+1}, Training Loss: {avg_train_loss:.4f}, Validation Loss: {avg_val_loss:.4f}')\n",
        "    return training_loss, validation_loss,model\n",
        "training_loss_cel, validation_loss_cel,model_cel = train_and_evaluate(model_cel, train_dataloader, val_dataloader, test_dataloader, optimizer, vocab_en, vocab_fr, seq2seq_loss_cel, epochs=10)"
      ],
      "metadata": {
        "id": "Ez1elX0mGSot",
        "colab": {
          "base_uri": "https://localhost:8080/"
        },
        "outputId": "8dee76bc-47ee-4a0b-8af6-ddd43da1db54"
      },
      "execution_count": null,
      "outputs": [
        {
          "output_type": "stream",
          "name": "stderr",
          "text": [
            "/usr/local/lib/python3.10/dist-packages/torch/nn/functional.py:5109: UserWarning: Support for mismatched key_padding_mask and attn_mask is deprecated. Use same type for both instead.\n",
            "  warnings.warn(\n"
          ]
        },
        {
          "output_type": "stream",
          "name": "stdout",
          "text": [
            "Epoch 1, Training Loss: 8.3896, Validation Loss: 8.2259\n",
            "Epoch 2, Training Loss: 8.1165, Validation Loss: 8.1102\n",
            "Epoch 3, Training Loss: 8.0286, Validation Loss: 7.9921\n",
            "Epoch 4, Training Loss: 7.9652, Validation Loss: 7.9271\n",
            "Epoch 5, Training Loss: 7.9184, Validation Loss: 7.8850\n",
            "Epoch 6, Training Loss: 7.8825, Validation Loss: 7.8503\n",
            "Epoch 7, Training Loss: 7.8552, Validation Loss: 7.8288\n",
            "Epoch 8, Training Loss: 7.8312, Validation Loss: 7.8147\n",
            "Epoch 9, Training Loss: 7.8085, Validation Loss: 7.8138\n",
            "Epoch 10, Training Loss: 7.7869, Validation Loss: 7.8120\n"
          ]
        }
      ]
    },
    {
      "cell_type": "code",
      "source": [
        "import matplotlib.pyplot as plt\n",
        "epochs = range(1, len(training_loss_cel) + 1)\n",
        "plt.plot(epochs,training_loss_cel, label='Training Loss')\n",
        "plt.plot(epochs,validation_loss_cel, label='Validation Loss')\n",
        "plt.xlabel('Epoch')\n",
        "plt.ylabel('Loss')\n",
        "plt.title('Training and Validation Loss')\n",
        "plt.legend()"
      ],
      "metadata": {
        "colab": {
          "base_uri": "https://localhost:8080/",
          "height": 489
        },
        "id": "YBNWs-q51ljC",
        "outputId": "3d547caf-8659-4fca-8ba8-1bb655eb7bbf"
      },
      "execution_count": null,
      "outputs": [
        {
          "output_type": "execute_result",
          "data": {
            "text/plain": [
              "<matplotlib.legend.Legend at 0x78eb2dce28c0>"
            ]
          },
          "metadata": {},
          "execution_count": 26
        },
        {
          "output_type": "display_data",
          "data": {
            "text/plain": [
              "<Figure size 640x480 with 1 Axes>"
            ],
            "image/png": "[encoded data removed]"
          },
          "metadata": {}
        }
      ]
    },
    {
      "cell_type": "code",
      "source": [
        "model_metrics_cel = {'training_loss':training_loss_cel, 'validation_loss':validation_loss_cel}\n",
        "torch.save(model_metrics_cel, '/content/drive/MyDrive/Adam/absolute_positional_encoding/crossentropywithlabelsmoothning/model_metrics_cel.pkl')"
      ],
      "metadata": {
        "id": "biWU6AP8_x0U"
      },
      "execution_count": null,
      "outputs": []
    },
    {
      "cell_type": "code",
      "source": [
        "torch.save(model_cel, '/content/drive/MyDrive/Adam/absolute_positional_encoding/crossentropywithlabelsmoothning/model_cel.pt')\n",
        "torch.save(model_cel.state_dict(), '/content/drive/MyDrive/Adam/absolute_positional_encoding/crossentropywithlabelsmoothning/model_cel_state_dict.pkl')"
      ],
      "metadata": {
        "id": "kPfMxX6U7LgH"
      },
      "execution_count": null,
      "outputs": []
    },
    {
      "cell_type": "markdown",
      "source": [
        "##Log Softmax + NLLLoss"
      ],
      "metadata": {
        "id": "-x1hW_8x7r77"
      }
    },
    {
      "cell_type": "code",
      "source": [
        "import torch\n",
        "from torch import nn, Tensor\n",
        "import math\n",
        "\n",
        "class PositionalEncoding(nn.Module):\n",
        "    def __init__(self, emb_size: int, dropout: float, maxlen: int = 5000):\n",
        "        super(PositionalEncoding, self).__init__()\n",
        "        den = torch.exp(-torch.arange(0, emb_size, 2) * math.log(10000) / emb_size)\n",
        "        pos = torch.arange(0, maxlen).reshape(maxlen, 1)\n",
        "        pos_embedding = torch.zeros((maxlen, emb_size))\n",
        "        pos_embedding[:, 0::2] = torch.sin(pos * den)\n",
        "        pos_embedding[:, 1::2] = torch.cos(pos * den)\n",
        "        pos_embedding = pos_embedding.unsqueeze(-2)\n",
        "        self.dropout = nn.Dropout(dropout)\n",
        "        self.register_buffer('pos_embedding', pos_embedding)\n",
        "\n",
        "    def forward(self, token_embedding: Tensor):\n",
        "        return self.dropout(token_embedding + self.pos_embedding[:token_embedding.size(0), :])\n",
        "\n",
        "class TokenEmbedding(nn.Module):\n",
        "    def __init__(self, vocab_size: int, emb_size: int):\n",
        "        super(TokenEmbedding, self).__init__()\n",
        "        self.embedding = nn.Embedding(vocab_size, emb_size)\n",
        "        self.emb_size = emb_size\n",
        "\n",
        "    def forward(self, tokens: Tensor):\n",
        "        return self.embedding(tokens.long()) * math.sqrt(self.emb_size)\n",
        "\n",
        "class TransformerModel(nn.Module):\n",
        "    def __init__(self, num_tokens_en, num_tokens_fr, embed_size, nhead, dim_feedforward, max_seq_length):\n",
        "        super(TransformerModel, self).__init__()\n",
        "        self.embed_size = embed_size\n",
        "        self.src_tok_emb = TokenEmbedding(num_tokens_en, embed_size)\n",
        "        self.tgt_tok_emb = TokenEmbedding(num_tokens_fr, embed_size)\n",
        "        self.positional_encoding = PositionalEncoding(embed_size, dropout=0.1, maxlen=max_seq_length)\n",
        "\n",
        "        encoder_layer = nn.TransformerEncoderLayer(d_model=embed_size, nhead=nhead, dim_feedforward=dim_feedforward, dropout=0.1)\n",
        "        self.transformer_encoder = nn.TransformerEncoder(encoder_layer, num_layers=3)\n",
        "\n",
        "        decoder_layer = nn.TransformerDecoderLayer(d_model=embed_size, nhead=nhead, dim_feedforward=dim_feedforward, dropout=0.1)\n",
        "        self.transformer_decoder = nn.TransformerDecoder(decoder_layer, num_layers=3)\n",
        "        self.generator = nn.Linear(embed_size, num_tokens_fr)\n",
        "\n",
        "    def encode(self, src, src_mask):\n",
        "        src_emb = self.positional_encoding(self.src_tok_emb(src))\n",
        "        return self.transformer_encoder(src_emb, src_key_padding_mask=src_mask)\n",
        "\n",
        "    def decode(self, tgt, memory, tgt_mask, tgt_key_padding_mask):\n",
        "        tgt_emb = self.positional_encoding(self.tgt_tok_emb(tgt))\n",
        "        return self.transformer_decoder(tgt_emb, memory, tgt_mask, tgt_key_padding_mask=tgt_key_padding_mask)\n",
        "\n",
        "    def forward(self, src, tgt, src_mask=None, tgt_mask=None, src_padding_mask=None, tgt_padding_mask=None):\n",
        "        memory = self.encode(src, src_padding_mask)\n",
        "        output = self.decode(tgt, memory, tgt_mask, tgt_padding_mask)\n",
        "        return self.generator(output)\n",
        "\n",
        "    def generate_square_subsequent_mask(self, sz):\n",
        "        mask = torch.triu(torch.ones(sz, sz, device=device)).transpose(0, 1)\n",
        "        mask = mask.float().masked_fill(mask == 0, float('-inf')).masked_fill(mask == 1, float(0.0))\n",
        "        return mask\n",
        "model_sc = TransformerModel(len(vocab_en), len(vocab_fr), embed_size=64, nhead=8, dim_feedforward=1024, max_seq_length=512)"
      ],
      "metadata": {
        "colab": {
          "base_uri": "https://localhost:8080/"
        },
        "id": "d4xmfe5-7vNx",
        "outputId": "af39bead-9f1e-4f10-f937-027d459bb743"
      },
      "execution_count": 5,
      "outputs": [
        {
          "output_type": "stream",
          "name": "stderr",
          "text": [
            "/usr/local/lib/python3.10/dist-packages/torch/nn/modules/transformer.py:286: UserWarning: enable_nested_tensor is True, but self.use_nested_tensor is False because encoder_layer.self_attn.batch_first was not True(use batch_first for better inference performance)\n",
            "  warnings.warn(f\"enable_nested_tensor is True, but self.use_nested_tensor is False because {why_not_sparsity_fast_path}\")\n"
          ]
        }
      ]
    },
    {
      "cell_type": "code",
      "source": [
        "optimizer = torch.optim.Adam(model_sc.parameters(), lr=0.001)\n",
        "# scheduler = torch.optim.lr_scheduler.StepLR(optimizer, step_size=1, gamma=0.95)\n",
        "seq2seq_loss_sc = nn.NLLLoss(ignore_index=PAD_IDX)\n",
        "def init_weights(m):\n",
        "    if isinstance(m, nn.Linear):\n",
        "        nn.init.xavier_uniform_(m.weight)\n",
        "        if m.bias is not None:\n",
        "            nn.init.constant_(m.bias, 0)\n",
        "device = torch.device(\"cuda\" if torch.cuda.is_available() else \"cpu\")\n",
        "model_sc.to(device)\n",
        "def train_and_evaluate(model, train_dataloader, val_dataloader, test_dataloader, optimizer, loss_function, vocab_en, vocab_fr, epochs=10):\n",
        "    model.apply(init_weights)\n",
        "    training_loss = []\n",
        "    validation_loss = []\n",
        "    for epoch in range(epochs):\n",
        "        model.train()\n",
        "        total_train_loss = 0\n",
        "\n",
        "        for src, tgt in train_dataloader:\n",
        "            src, tgt = src.to(device), tgt.to(device)\n",
        "            src = src.T\n",
        "            tgt_inp = tgt.T\n",
        "            tgt_input = tgt_inp[:-1, :]\n",
        "            tgt_output = tgt_inp[1:, :]\n",
        "            src_seq_length = src.shape[0]\n",
        "            tgt_seq_length = tgt_input.shape[0]\n",
        "            src_mask = torch.zeros(src_seq_length, src_seq_length).to(device).type(torch.bool)\n",
        "            tgt_mask = model.generate_square_subsequent_mask(tgt_seq_length).to(device)\n",
        "\n",
        "            src_padding_mask = (src == PAD_IDX).transpose(0, 1).to(device)\n",
        "            tgt_padding_mask = (tgt_input == PAD_IDX).transpose(0, 1).to(device)\n",
        "\n",
        "            logits = model(src, tgt_input, src_mask, tgt_mask, src_padding_mask, tgt_padding_mask)\n",
        "            logits = logits.view(-1, logits.shape[-1])\n",
        "            logits = torch.log_softmax(logits, dim=-1)\n",
        "            tgt_output = tgt_output.reshape(-1)\n",
        "            loss = seq2seq_loss_sc(logits, tgt_output)\n",
        "            optimizer.zero_grad()\n",
        "            loss.backward()\n",
        "            torch.nn.utils.clip_grad_norm_(model.parameters(), max_norm=1.0)\n",
        "            optimizer.step()\n",
        "            total_train_loss += loss.item() if not torch.isnan(loss) else 0\n",
        "\n",
        "        avg_train_loss = total_train_loss / len(train_dataloader)\n",
        "        training_loss.append(avg_train_loss)\n",
        "        model.eval()\n",
        "        total_val_loss = 0\n",
        "\n",
        "        with torch.no_grad():\n",
        "            for src, tgt in val_dataloader:\n",
        "                src, tgt = src.to(device), tgt.to(device)\n",
        "                src = src.T\n",
        "                tgt_inp = tgt.T\n",
        "                tgt_input = tgt_inp[:-1, :]\n",
        "                tgt_output = tgt_inp[1:, :]\n",
        "                src_seq_length = src.shape[0]\n",
        "                tgt_seq_length = tgt_input.shape[0]\n",
        "                src_mask = torch.zeros(src_seq_length, src_seq_length).to(device).type(torch.bool)\n",
        "                tgt_mask = model.generate_square_subsequent_mask(tgt_seq_length).to(device)\n",
        "                src_padding_mask = (src == PAD_IDX).transpose(0, 1).to(device)\n",
        "                tgt_padding_mask = (tgt_input == PAD_IDX).transpose(0, 1).to(device)\n",
        "                logits = model(src, tgt_input, src_mask, tgt_mask, src_padding_mask, tgt_padding_mask)\n",
        "                logits = logits.view(-1, logits.shape[-1])\n",
        "                logits = torch.log_softmax(logits, dim=-1)\n",
        "                tgt_output = tgt_output.reshape(-1)\n",
        "                loss = seq2seq_loss_sc(logits, tgt_output)\n",
        "                total_val_loss += loss.item()\n",
        "\n",
        "        avg_val_loss = total_val_loss / len(val_dataloader)\n",
        "        validation_loss.append(avg_val_loss)\n",
        "        print(f'Epoch {epoch+1}, Training Loss: {avg_train_loss:.4f}, Validation Loss: {avg_val_loss:.4f}')\n",
        "    return training_loss, validation_loss,model\n",
        "training_loss_sc, validation_loss_sc,model_sc = train_and_evaluate(model_sc, train_dataloader, val_dataloader, test_dataloader, optimizer, vocab_en, vocab_fr, seq2seq_loss_sc, epochs=10)"
      ],
      "metadata": {
        "colab": {
          "base_uri": "https://localhost:8080/"
        },
        "id": "r5VqwUTe71pc",
        "outputId": "9ad8851a-6d3e-4788-983d-20c376fc062a"
      },
      "execution_count": 6,
      "outputs": [
        {
          "output_type": "stream",
          "name": "stderr",
          "text": [
            "/usr/local/lib/python3.10/dist-packages/torch/nn/functional.py:5109: UserWarning: Support for mismatched key_padding_mask and attn_mask is deprecated. Use same type for both instead.\n",
            "  warnings.warn(\n"
          ]
        },
        {
          "output_type": "stream",
          "name": "stdout",
          "text": [
            "Epoch 1, Training Loss: 5.0580, Validation Loss: 4.4734\n",
            "Epoch 2, Training Loss: 4.3210, Validation Loss: 4.2566\n",
            "Epoch 3, Training Loss: 4.0790, Validation Loss: 4.0528\n",
            "Epoch 4, Training Loss: 3.9112, Validation Loss: 3.9404\n",
            "Epoch 5, Training Loss: 3.7791, Validation Loss: 3.9107\n",
            "Epoch 6, Training Loss: 3.6750, Validation Loss: 3.9133\n",
            "Epoch 7, Training Loss: 3.5887, Validation Loss: 3.8465\n",
            "Epoch 8, Training Loss: 3.5171, Validation Loss: 3.8641\n",
            "Epoch 9, Training Loss: 3.4571, Validation Loss: 3.8583\n",
            "Epoch 10, Training Loss: 3.4049, Validation Loss: 3.8494\n"
          ]
        }
      ]
    },
    {
      "cell_type": "code",
      "source": [
        "import matplotlib.pyplot as plt\n",
        "epochs = range(1, len(training_loss_sc) + 1)\n",
        "plt.plot(epochs, training_loss_sc, 'b', label='Training Loss')\n",
        "plt.plot(epochs, validation_loss_sc, 'r', label='Validation Loss')\n",
        "plt.title('NLLLoss')\n",
        "plt.xlabel('Epochs')\n",
        "plt.ylabel('Loss')\n",
        "plt.legend()\n",
        "plt.show()"
      ],
      "metadata": {
        "colab": {
          "base_uri": "https://localhost:8080/",
          "height": 472
        },
        "id": "ph4IT9F4BSut",
        "outputId": "c1ba8b5d-3594-4587-8756-4798a92c4020"
      },
      "execution_count": 7,
      "outputs": [
        {
          "output_type": "display_data",
          "data": {
            "text/plain": [
              "<Figure size 640x480 with 1 Axes>"
            ],
            "image/png": "[encoded data removed]"
          },
          "metadata": {}
        }
      ]
    },
    {
      "cell_type": "code",
      "source": [
        "model_metrics_sc = {'training_loss':training_loss_sc, 'validation_loss':validation_loss_sc}\n",
        "torch.save(model_metrics_sc, '/content/drive/MyDrive/Adam/absolute_positional_encoding/sparsecategoricalcrossentropy/model_metrics_sc.pkl')"
      ],
      "metadata": {
        "id": "exGlVaMFBwFv"
      },
      "execution_count": 8,
      "outputs": []
    },
    {
      "cell_type": "code",
      "source": [
        "torch.save(model_sc.state_dict(), '/content/drive/MyDrive/Adam/absolute_positional_encoding/sparsecategoricalcrossentropy/model_weights_sc.pkl')\n",
        "torch.save(model_sc, '/content/drive/MyDrive/Adam/absolute_positional_encoding/sparsecategoricalcrossentropy/model_sc.pt')"
      ],
      "metadata": {
        "id": "0jl424MTBaRf"
      },
      "execution_count": 9,
      "outputs": []
    },
    {
      "cell_type": "markdown",
      "source": [
        "##Optimizer AdamW\n",
        "##Cross Entropy Loss"
      ],
      "metadata": {
        "id": "cqZO3G1CCDRI"
      }
    },
    {
      "cell_type": "code",
      "source": [
        "import torch\n",
        "from torch import nn, Tensor\n",
        "import math\n",
        "\n",
        "class PositionalEncoding(nn.Module):\n",
        "    def __init__(self, emb_size: int, dropout: float, maxlen: int = 5000):\n",
        "        super(PositionalEncoding, self).__init__()\n",
        "        den = torch.exp(-torch.arange(0, emb_size, 2) * math.log(10000) / emb_size)\n",
        "        pos = torch.arange(0, maxlen).reshape(maxlen, 1)\n",
        "        pos_embedding = torch.zeros((maxlen, emb_size))\n",
        "        pos_embedding[:, 0::2] = torch.sin(pos * den)\n",
        "        pos_embedding[:, 1::2] = torch.cos(pos * den)\n",
        "        pos_embedding = pos_embedding.unsqueeze(-2)\n",
        "        self.dropout = nn.Dropout(dropout)\n",
        "        self.register_buffer('pos_embedding', pos_embedding)\n",
        "\n",
        "    def forward(self, token_embedding: Tensor):\n",
        "        return self.dropout(token_embedding + self.pos_embedding[:token_embedding.size(0), :])\n",
        "\n",
        "class TokenEmbedding(nn.Module):\n",
        "    def __init__(self, vocab_size: int, emb_size: int):\n",
        "        super(TokenEmbedding, self).__init__()\n",
        "        self.embedding = nn.Embedding(vocab_size, emb_size)\n",
        "        self.emb_size = emb_size\n",
        "\n",
        "    def forward(self, tokens: Tensor):\n",
        "        return self.embedding(tokens.long()) * math.sqrt(self.emb_size)\n",
        "\n",
        "class TransformerModel(nn.Module):\n",
        "    def __init__(self, num_tokens_en, num_tokens_fr, embed_size, nhead, dim_feedforward, max_seq_length):\n",
        "        super(TransformerModel, self).__init__()\n",
        "        self.embed_size = embed_size\n",
        "        self.src_tok_emb = TokenEmbedding(num_tokens_en, embed_size)\n",
        "        self.tgt_tok_emb = TokenEmbedding(num_tokens_fr, embed_size)\n",
        "        self.positional_encoding = PositionalEncoding(embed_size, dropout=0.1, maxlen=max_seq_length)\n",
        "\n",
        "        encoder_layer = nn.TransformerEncoderLayer(d_model=embed_size, nhead=nhead, dim_feedforward=dim_feedforward, dropout=0.1)\n",
        "        self.transformer_encoder = nn.TransformerEncoder(encoder_layer, num_layers=3)\n",
        "\n",
        "        decoder_layer = nn.TransformerDecoderLayer(d_model=embed_size, nhead=nhead, dim_feedforward=dim_feedforward, dropout=0.1)\n",
        "        self.transformer_decoder = nn.TransformerDecoder(decoder_layer, num_layers=3)\n",
        "        self.generator = nn.Linear(embed_size, num_tokens_fr)\n",
        "\n",
        "    def encode(self, src, src_mask):\n",
        "        src_emb = self.positional_encoding(self.src_tok_emb(src))\n",
        "        return self.transformer_encoder(src_emb, src_key_padding_mask=src_mask)\n",
        "\n",
        "    def decode(self, tgt, memory, tgt_mask, tgt_key_padding_mask):\n",
        "        tgt_emb = self.positional_encoding(self.tgt_tok_emb(tgt))\n",
        "        return self.transformer_decoder(tgt_emb, memory, tgt_mask, tgt_key_padding_mask=tgt_key_padding_mask)\n",
        "\n",
        "    def forward(self, src, tgt, src_mask=None, tgt_mask=None, src_padding_mask=None, tgt_padding_mask=None):\n",
        "        memory = self.encode(src, src_padding_mask)\n",
        "        output = self.decode(tgt, memory, tgt_mask, tgt_padding_mask)\n",
        "        return self.generator(output)\n",
        "\n",
        "    def generate_square_subsequent_mask(self, sz):\n",
        "        mask = torch.triu(torch.ones(sz, sz, device=device)).transpose(0, 1)\n",
        "        mask = mask.float().masked_fill(mask == 0, float('-inf')).masked_fill(mask == 1, float(0.0))\n",
        "        return mask\n",
        "model_adamw = TransformerModel(len(vocab_en), len(vocab_fr), embed_size=64, nhead=8, dim_feedforward=1024, max_seq_length=512)"
      ],
      "metadata": {
        "colab": {
          "base_uri": "https://localhost:8080/"
        },
        "id": "2OHxqK97CGNz",
        "outputId": "014a3482-c56c-49c1-b827-aa4549ff6544"
      },
      "execution_count": 20,
      "outputs": [
        {
          "output_type": "stream",
          "name": "stderr",
          "text": [
            "/usr/local/lib/python3.10/dist-packages/torch/nn/modules/transformer.py:286: UserWarning: enable_nested_tensor is True, but self.use_nested_tensor is False because encoder_layer.self_attn.batch_first was not True(use batch_first for better inference performance)\n",
            "  warnings.warn(f\"enable_nested_tensor is True, but self.use_nested_tensor is False because {why_not_sparsity_fast_path}\")\n"
          ]
        }
      ]
    },
    {
      "cell_type": "code",
      "source": [
        "optimizer = torch.optim.AdamW(model_adamw.parameters(), lr=0.001)\n",
        "# scheduler = torch.optim.lr_scheduler.StepLR(optimizer, step_size=1, gamma=0.95)\n",
        "seq2seq_loss_adamw = nn.CrossEntropyLoss(ignore_index=PAD_IDX)\n",
        "def init_weights(m):\n",
        "    if isinstance(m, nn.Linear):\n",
        "        nn.init.xavier_uniform_(m.weight)\n",
        "        if m.bias is not None:\n",
        "            nn.init.constant_(m.bias, 0)\n",
        "device = torch.device(\"cuda\" if torch.cuda.is_available() else \"cpu\")\n",
        "model_adamw.to(device)\n",
        "def train_and_evaluate(model, train_dataloader, val_dataloader, test_dataloader, optimizer, loss_function, vocab_en, vocab_fr, epochs=10):\n",
        "    model.apply(init_weights)\n",
        "    training_loss = []\n",
        "    validation_loss = []\n",
        "    for epoch in range(epochs):\n",
        "        model.train()\n",
        "        total_train_loss = 0\n",
        "\n",
        "        for src, tgt in train_dataloader:\n",
        "            src, tgt = src.to(device), tgt.to(device)\n",
        "            src = src.T\n",
        "            tgt_inp = tgt.T\n",
        "            tgt_input = tgt_inp[:-1, :]\n",
        "            tgt_output = tgt_inp[1:, :]\n",
        "            src_seq_length = src.shape[0]\n",
        "            tgt_seq_length = tgt_input.shape[0]\n",
        "            src_mask = torch.zeros(src_seq_length, src_seq_length).to(device).type(torch.bool)\n",
        "            tgt_mask = model.generate_square_subsequent_mask(tgt_seq_length).to(device)\n",
        "\n",
        "            src_padding_mask = (src == PAD_IDX).transpose(0, 1).to(device)\n",
        "            tgt_padding_mask = (tgt_input == PAD_IDX).transpose(0, 1).to(device)\n",
        "\n",
        "            logits = model(src, tgt_input, src_mask, tgt_mask, src_padding_mask, tgt_padding_mask)\n",
        "            logits = logits.view(-1, logits.shape[-1])\n",
        "            tgt_output = tgt_output.reshape(-1)\n",
        "            loss = seq2seq_loss_adamw(logits, tgt_output)\n",
        "            optimizer.zero_grad()\n",
        "            loss.backward()\n",
        "            torch.nn.utils.clip_grad_norm_(model.parameters(), max_norm=1.0)\n",
        "            optimizer.step()\n",
        "            total_train_loss += loss.item() if not torch.isnan(loss) else 0\n",
        "\n",
        "        avg_train_loss = total_train_loss / len(train_dataloader)\n",
        "        training_loss.append(avg_train_loss)\n",
        "        model.eval()\n",
        "        total_val_loss = 0\n",
        "\n",
        "        with torch.no_grad():\n",
        "            for src, tgt in val_dataloader:\n",
        "                src, tgt = src.to(device), tgt.to(device)\n",
        "                src = src.T\n",
        "                tgt_inp = tgt.T\n",
        "                tgt_input = tgt_inp[:-1, :]\n",
        "                tgt_output = tgt_inp[1:, :]\n",
        "                src_seq_length = src.shape[0]\n",
        "                tgt_seq_length = tgt_input.shape[0]\n",
        "                src_mask = torch.zeros(src_seq_length, src_seq_length).to(device).type(torch.bool)\n",
        "                tgt_mask = model.generate_square_subsequent_mask(tgt_seq_length).to(device)\n",
        "                src_padding_mask = (src == PAD_IDX).transpose(0, 1).to(device)\n",
        "                tgt_padding_mask = (tgt_input == PAD_IDX).transpose(0, 1).to(device)\n",
        "                logits = model(src, tgt_input, src_mask, tgt_mask, src_padding_mask, tgt_padding_mask)\n",
        "                logits = logits.view(-1, logits.shape[-1])\n",
        "                tgt_output = tgt_output.reshape(-1)\n",
        "                loss = seq2seq_loss_adamw(logits, tgt_output)\n",
        "                total_val_loss += loss.item()\n",
        "\n",
        "        avg_val_loss = total_val_loss / len(val_dataloader)\n",
        "        validation_loss.append(avg_val_loss)\n",
        "        print(f'Epoch {epoch+1}, Training Loss: {avg_train_loss:.4f}, Validation Loss: {avg_val_loss:.4f}')\n",
        "    return training_loss, validation_loss,model\n",
        "training_loss_adamw, validation_loss_adamw,model_adamw = train_and_evaluate(model_adamw, train_dataloader, val_dataloader, test_dataloader, optimizer, vocab_en, vocab_fr, seq2seq_loss_adamw, epochs=10)"
      ],
      "metadata": {
        "colab": {
          "base_uri": "https://localhost:8080/"
        },
        "id": "UAW7M28aCNRN",
        "outputId": "2418e7e2-9048-4c53-89bf-d9bc83c93230"
      },
      "execution_count": 21,
      "outputs": [
        {
          "output_type": "stream",
          "name": "stderr",
          "text": [
            "/usr/local/lib/python3.10/dist-packages/torch/nn/functional.py:5109: UserWarning: Support for mismatched key_padding_mask and attn_mask is deprecated. Use same type for both instead.\n",
            "  warnings.warn(\n"
          ]
        },
        {
          "output_type": "stream",
          "name": "stdout",
          "text": [
            "Epoch 1, Training Loss: 5.0626, Validation Loss: 4.4610\n",
            "Epoch 2, Training Loss: 4.3176, Validation Loss: 4.1961\n",
            "Epoch 3, Training Loss: 4.0627, Validation Loss: 4.0047\n",
            "Epoch 4, Training Loss: 3.8816, Validation Loss: 3.8575\n",
            "Epoch 5, Training Loss: 3.7425, Validation Loss: 3.7609\n",
            "Epoch 6, Training Loss: 3.6354, Validation Loss: 3.6972\n",
            "Epoch 7, Training Loss: 3.5489, Validation Loss: 3.6466\n",
            "Epoch 8, Training Loss: 3.4781, Validation Loss: 3.5991\n",
            "Epoch 9, Training Loss: 3.4148, Validation Loss: 3.5743\n",
            "Epoch 10, Training Loss: 3.3609, Validation Loss: 3.5234\n"
          ]
        }
      ]
    },
    {
      "cell_type": "code",
      "source": [
        "import matplotlib.pyplot as plt\n",
        "epochs = range(1, len(training_loss_adamw) + 1)\n",
        "plt.plot(epochs, training_loss_adamw, label='Training Loss')\n",
        "plt.plot(epochs, validation_loss_adamw, label='Validation Loss')\n",
        "plt.xlabel('Epochs')\n",
        "plt.ylabel('Loss')\n",
        "plt.title('Training and Validation Loss')\n",
        "plt.legend()\n",
        "plt.show()"
      ],
      "metadata": {
        "colab": {
          "base_uri": "https://localhost:8080/",
          "height": 472
        },
        "id": "RhdcRgxfHy4-",
        "outputId": "377661e8-51b1-477e-aaec-6eb886c1ff1a"
      },
      "execution_count": 22,
      "outputs": [
        {
          "output_type": "display_data",
          "data": {
            "text/plain": [
              "<Figure size 640x480 with 1 Axes>"
            ],
            "image/png": "[encoded data removed]"
          },
          "metadata": {}
        }
      ]
    },
    {
      "cell_type": "code",
      "source": [
        "model_adamw_metrics = {'training_loss': training_loss_adamw, 'validation_loss': validation_loss_adamw}\n",
        "torch.save(model_adamw_metrics, '/content/drive/MyDrive/Adamw/absolute_positional_encoding/crossentropyloss/model_adamw_metrics.pkl')"
      ],
      "metadata": {
        "id": "YZx6wy7QH8DU"
      },
      "execution_count": 23,
      "outputs": []
    },
    {
      "cell_type": "code",
      "source": [
        "torch.save(model_adamw.state_dict(), '/content/drive/MyDrive/Adamw/absolute_positional_encoding/crossentropyloss/model_metrics_adamw.pkl')\n",
        "torch.save(model_adamw, '/content/drive/MyDrive/Adamw/absolute_positional_encoding/crossentropyloss/model_adamw.pt')\n"
      ],
      "metadata": {
        "id": "DObUcWWnIMNO"
      },
      "execution_count": 24,
      "outputs": []
    },
    {
      "cell_type": "markdown",
      "source": [
        "##Crossentropywithlabelsmoothning"
      ],
      "metadata": {
        "id": "65HCpAwZmJz-"
      }
    },
    {
      "cell_type": "code",
      "source": [
        "import torch\n",
        "from torch import nn, Tensor\n",
        "import math\n",
        "\n",
        "class PositionalEncoding(nn.Module):\n",
        "    def __init__(self, emb_size: int, dropout: float, maxlen: int = 5000):\n",
        "        super(PositionalEncoding, self).__init__()\n",
        "        den = torch.exp(-torch.arange(0, emb_size, 2) * math.log(10000) / emb_size)\n",
        "        pos = torch.arange(0, maxlen).reshape(maxlen, 1)\n",
        "        pos_embedding = torch.zeros((maxlen, emb_size))\n",
        "        pos_embedding[:, 0::2] = torch.sin(pos * den)\n",
        "        pos_embedding[:, 1::2] = torch.cos(pos * den)\n",
        "        pos_embedding = pos_embedding.unsqueeze(-2)\n",
        "        self.dropout = nn.Dropout(dropout)\n",
        "        self.register_buffer('pos_embedding', pos_embedding)\n",
        "\n",
        "    def forward(self, token_embedding: Tensor):\n",
        "        return self.dropout(token_embedding + self.pos_embedding[:token_embedding.size(0), :])\n",
        "\n",
        "class TokenEmbedding(nn.Module):\n",
        "    def __init__(self, vocab_size: int, emb_size: int):\n",
        "        super(TokenEmbedding, self).__init__()\n",
        "        self.embedding = nn.Embedding(vocab_size, emb_size)\n",
        "        self.emb_size = emb_size\n",
        "\n",
        "    def forward(self, tokens: Tensor):\n",
        "        return self.embedding(tokens.long()) * math.sqrt(self.emb_size)\n",
        "\n",
        "class TransformerModel(nn.Module):\n",
        "    def __init__(self, num_tokens_en, num_tokens_fr, embed_size, nhead, dim_feedforward, max_seq_length):\n",
        "        super(TransformerModel, self).__init__()\n",
        "        self.embed_size = embed_size\n",
        "        self.src_tok_emb = TokenEmbedding(num_tokens_en, embed_size)\n",
        "        self.tgt_tok_emb = TokenEmbedding(num_tokens_fr, embed_size)\n",
        "        self.positional_encoding = PositionalEncoding(embed_size, dropout=0.1, maxlen=max_seq_length)\n",
        "\n",
        "        encoder_layer = nn.TransformerEncoderLayer(d_model=embed_size, nhead=nhead, dim_feedforward=dim_feedforward, dropout=0.1)\n",
        "        self.transformer_encoder = nn.TransformerEncoder(encoder_layer, num_layers=3)\n",
        "\n",
        "        decoder_layer = nn.TransformerDecoderLayer(d_model=embed_size, nhead=nhead, dim_feedforward=dim_feedforward, dropout=0.1)\n",
        "        self.transformer_decoder = nn.TransformerDecoder(decoder_layer, num_layers=3)\n",
        "        self.generator = nn.Linear(embed_size, num_tokens_fr)\n",
        "\n",
        "    def encode(self, src, src_mask):\n",
        "        src_emb = self.positional_encoding(self.src_tok_emb(src))\n",
        "        return self.transformer_encoder(src_emb, src_key_padding_mask=src_mask)\n",
        "\n",
        "    def decode(self, tgt, memory, tgt_mask, tgt_key_padding_mask):\n",
        "        tgt_emb = self.positional_encoding(self.tgt_tok_emb(tgt))\n",
        "        return self.transformer_decoder(tgt_emb, memory, tgt_mask, tgt_key_padding_mask=tgt_key_padding_mask)\n",
        "\n",
        "    def forward(self, src, tgt, src_mask=None, tgt_mask=None, src_padding_mask=None, tgt_padding_mask=None):\n",
        "        memory = self.encode(src, src_padding_mask)\n",
        "        output = self.decode(tgt, memory, tgt_mask, tgt_padding_mask)\n",
        "        return self.generator(output)\n",
        "\n",
        "    def generate_square_subsequent_mask(self, sz):\n",
        "        mask = torch.triu(torch.ones(sz, sz, device=device)).transpose(0, 1)\n",
        "        mask = mask.float().masked_fill(mask == 0, float('-inf')).masked_fill(mask == 1, float(0.0))\n",
        "        return mask\n",
        "model_adamw_c = TransformerModel(len(vocab_en), len(vocab_fr), embed_size=64, nhead=8, dim_feedforward=1024, max_seq_length=512)"
      ],
      "metadata": {
        "colab": {
          "base_uri": "https://localhost:8080/"
        },
        "id": "L8wGgQxamSz3",
        "outputId": "ce4ed181-8c8a-4dd0-9c24-58d2a02c2509"
      },
      "execution_count": null,
      "outputs": [
        {
          "output_type": "stream",
          "name": "stderr",
          "text": [
            "/usr/local/lib/python3.10/dist-packages/torch/nn/modules/transformer.py:286: UserWarning: enable_nested_tensor is True, but self.use_nested_tensor is False because encoder_layer.self_attn.batch_first was not True(use batch_first for better inference performance)\n",
            "  warnings.warn(f\"enable_nested_tensor is True, but self.use_nested_tensor is False because {why_not_sparsity_fast_path}\")\n"
          ]
        }
      ]
    },
    {
      "cell_type": "code",
      "source": [
        "optimizer = torch.optim.AdamW(model_adamw_c.parameters(), lr=0.001)\n",
        "# scheduler = torch.optim.lr_scheduler.StepLR(optimizer, step_size=1, gamma=0.95)\n",
        "seq2seq_loss_adamw_c = nn.CrossEntropyLoss(ignore_index=PAD_IDX,label_smoothing=0.5)\n",
        "def init_weights(m):\n",
        "    if isinstance(m, nn.Linear):\n",
        "        nn.init.xavier_uniform_(m.weight)\n",
        "        if m.bias is not None:\n",
        "            nn.init.constant_(m.bias, 0)\n",
        "device = torch.device(\"cuda\" if torch.cuda.is_available() else \"cpu\")\n",
        "model_adamw_c.to(device)\n",
        "def train_and_evaluate(model, train_dataloader, val_dataloader, test_dataloader, optimizer, loss_function, vocab_en, vocab_fr, epochs=10):\n",
        "    model.apply(init_weights)\n",
        "    training_loss = []\n",
        "    validation_loss = []\n",
        "    for epoch in range(epochs):\n",
        "        model.train()\n",
        "        total_train_loss = 0\n",
        "\n",
        "        for src, tgt in train_dataloader:\n",
        "            src, tgt = src.to(device), tgt.to(device)\n",
        "            src = src.T\n",
        "            tgt_inp = tgt.T\n",
        "            tgt_input = tgt_inp[:-1, :]\n",
        "            tgt_output = tgt_inp[1:, :]\n",
        "            src_seq_length = src.shape[0]\n",
        "            tgt_seq_length = tgt_input.shape[0]\n",
        "            src_mask = torch.zeros(src_seq_length, src_seq_length).to(device).type(torch.bool)\n",
        "            tgt_mask = model.generate_square_subsequent_mask(tgt_seq_length).to(device)\n",
        "\n",
        "\n",
        "            src_padding_mask = (src == PAD_IDX).transpose(0, 1).to(device)\n",
        "            tgt_padding_mask = (tgt_input == PAD_IDX).transpose(0, 1).to(device)\n",
        "\n",
        "            logits = model(src, tgt_input, src_mask, tgt_mask, src_padding_mask, tgt_padding_mask)\n",
        "            logits = logits.view(-1, logits.shape[-1])\n",
        "            tgt_output = tgt_output.reshape(-1)\n",
        "            loss = seq2seq_loss_adamw_c(logits, tgt_output)\n",
        "            optimizer.zero_grad()\n",
        "            loss.backward()\n",
        "            torch.nn.utils.clip_grad_norm_(model.parameters(), max_norm=1.0)\n",
        "            optimizer.step()\n",
        "            total_train_loss += loss.item() if not torch.isnan(loss) else 0\n",
        "\n",
        "\n",
        "        avg_train_loss = total_train_loss / len(train_dataloader)\n",
        "        training_loss.append(avg_train_loss)\n",
        "        model.eval()\n",
        "        total_val_loss = 0\n",
        "\n",
        "        with torch.no_grad():\n",
        "            for src, tgt in val_dataloader:\n",
        "                src, tgt = src.to(device), tgt.to(device)\n",
        "                src = src.T\n",
        "                tgt_inp = tgt.T\n",
        "                tgt_input = tgt_inp[:-1, :]\n",
        "                tgt_output = tgt_inp[1:, :]\n",
        "                src_seq_length = src.shape[0]\n",
        "                tgt_seq_length = tgt_input.shape[0]\n",
        "                src_mask = torch.zeros(src_seq_length, src_seq_length).to(device).type(torch.bool)\n",
        "                tgt_mask = model.generate_square_subsequent_mask(tgt_seq_length).to(device)\n",
        "                src_padding_mask = (src == PAD_IDX).transpose(0, 1).to(device)\n",
        "                tgt_padding_mask = (tgt_input == PAD_IDX).transpose(0, 1).to(device)\n",
        "                logits = model(src, tgt_input, src_mask, tgt_mask, src_padding_mask, tgt_padding_mask)\n",
        "                logits = logits.view(-1, logits.shape[-1])\n",
        "                tgt_output = tgt_output.reshape(-1)\n",
        "                loss = seq2seq_loss_adamw_c(logits, tgt_output)\n",
        "                total_val_loss += loss.item()\n",
        "\n",
        "\n",
        "        avg_val_loss = total_val_loss / len(val_dataloader)\n",
        "        validation_loss.append(avg_val_loss)\n",
        "        print(f'Epoch {epoch+1}, Training Loss: {avg_train_loss:.4f}, Validation Loss: {avg_val_loss:.4f}')\n",
        "    return training_loss, validation_loss,model\n",
        "training_loss_adamw_c, validation_loss_adamw_c,model_adamw_c = train_and_evaluate(model_adamw_c, train_dataloader, val_dataloader, test_dataloader, optimizer, vocab_en, vocab_fr, seq2seq_loss_adamw_c, epochs=10)"
      ],
      "metadata": {
        "colab": {
          "base_uri": "https://localhost:8080/"
        },
        "id": "Nch3NzZWmj5e",
        "outputId": "02f0a487-37b5-47bb-baa2-9e7bc9db830c"
      },
      "execution_count": null,
      "outputs": [
        {
          "output_type": "stream",
          "name": "stderr",
          "text": [
            "/usr/local/lib/python3.10/dist-packages/torch/nn/functional.py:5109: UserWarning: Support for mismatched key_padding_mask and attn_mask is deprecated. Use same type for both instead.\n",
            "  warnings.warn(\n"
          ]
        },
        {
          "output_type": "stream",
          "name": "stdout",
          "text": [
            "Epoch 1, Training Loss: 8.3907, Validation Loss: 8.1435\n",
            "Epoch 2, Training Loss: 8.1149, Validation Loss: 8.0282\n",
            "Epoch 3, Training Loss: 8.0165, Validation Loss: 7.9373\n",
            "Epoch 4, Training Loss: 7.9435, Validation Loss: 7.8801\n",
            "Epoch 5, Training Loss: 7.8930, Validation Loss: 7.8346\n",
            "Epoch 6, Training Loss: 7.8543, Validation Loss: 7.8023\n",
            "Epoch 7, Training Loss: 7.8234, Validation Loss: 7.7761\n",
            "Epoch 8, Training Loss: 7.7985, Validation Loss: 7.7524\n",
            "Epoch 9, Training Loss: 7.7775, Validation Loss: 7.7359\n",
            "Epoch 10, Training Loss: 7.7585, Validation Loss: 7.7221\n"
          ]
        }
      ]
    },
    {
      "cell_type": "code",
      "source": [
        "import matplotlib.pyplot as plt\n",
        "epochs = range(1, len(training_loss_adamw_c) + 1)\n",
        "plt.plot(epochs, training_loss_adamw_c, 'b', label='Training Loss')\n",
        "plt.plot(epochs, validation_loss_adamw_c, 'r', label='Validation Loss')\n",
        "plt.title('Training and Validation Loss')\n",
        "plt.xlabel('Epochs')\n",
        "plt.ylabel('Loss')\n",
        "plt.legend()\n",
        "plt.show()"
      ],
      "metadata": {
        "colab": {
          "base_uri": "https://localhost:8080/",
          "height": 472
        },
        "id": "zLTrnD2zq6K-",
        "outputId": "512df06a-3987-4296-83c7-9b62e82a070e"
      },
      "execution_count": null,
      "outputs": [
        {
          "output_type": "display_data",
          "data": {
            "text/plain": [
              "<Figure size 640x480 with 1 Axes>"
            ],
            "image/png": "[encoded data removed]"
          },
          "metadata": {}
        }
      ]
    },
    {
      "cell_type": "code",
      "source": [
        "model_metrcis_adamw_c = {'training_loss': training_loss_adamw_c, 'validation_loss': validation_loss_adamw_c}\n",
        "torch.save(model_metrcis_adamw_c, '/content/drive/MyDrive/Adamw/absolute_positional_encoding/crossentropywithlabelsmoothning/model_metrics_adamw_c.pkl')"
      ],
      "metadata": {
        "id": "LuJYfQJlroVs"
      },
      "execution_count": null,
      "outputs": []
    },
    {
      "cell_type": "code",
      "source": [
        "torch.save(model_adamw_c.state_dict(), '/content/drive/MyDrive/Adamw/absolute_positional_encoding/crossentropywithlabelsmoothning/model_state_adamw_c.pkl')\n",
        "torch.save(model_adamw_c, '/content/drive/MyDrive/Adamw/absolute_positional_encoding/crossentropywithlabelsmoothning/model_adamw_c.pt')"
      ],
      "metadata": {
        "id": "triCoq5yrBj0"
      },
      "execution_count": null,
      "outputs": []
    },
    {
      "cell_type": "markdown",
      "source": [
        "##NLLLoss"
      ],
      "metadata": {
        "id": "RMFX91I6suTQ"
      }
    },
    {
      "cell_type": "code",
      "source": [
        "import torch\n",
        "from torch import nn, Tensor\n",
        "import math\n",
        "\n",
        "class PositionalEncoding(nn.Module):\n",
        "    def __init__(self, emb_size: int, dropout: float, maxlen: int = 5000):\n",
        "        super(PositionalEncoding, self).__init__()\n",
        "        den = torch.exp(-torch.arange(0, emb_size, 2) * math.log(10000) / emb_size)\n",
        "        pos = torch.arange(0, maxlen).reshape(maxlen, 1)\n",
        "        pos_embedding = torch.zeros((maxlen, emb_size))\n",
        "        pos_embedding[:, 0::2] = torch.sin(pos * den)\n",
        "        pos_embedding[:, 1::2] = torch.cos(pos * den)\n",
        "        pos_embedding = pos_embedding.unsqueeze(-2)\n",
        "        self.dropout = nn.Dropout(dropout)\n",
        "        self.register_buffer('pos_embedding', pos_embedding)\n",
        "\n",
        "    def forward(self, token_embedding: Tensor):\n",
        "        return self.dropout(token_embedding + self.pos_embedding[:token_embedding.size(0), :])\n",
        "\n",
        "class TokenEmbedding(nn.Module):\n",
        "    def __init__(self, vocab_size: int, emb_size: int):\n",
        "        super(TokenEmbedding, self).__init__()\n",
        "        self.embedding = nn.Embedding(vocab_size, emb_size)\n",
        "        self.emb_size = emb_size\n",
        "\n",
        "    def forward(self, tokens: Tensor):\n",
        "        return self.embedding(tokens.long()) * math.sqrt(self.emb_size)\n",
        "\n",
        "class TransformerModel(nn.Module):\n",
        "    def __init__(self, num_tokens_en, num_tokens_fr, embed_size, nhead, dim_feedforward, max_seq_length):\n",
        "        super(TransformerModel, self).__init__()\n",
        "        self.embed_size = embed_size\n",
        "        self.src_tok_emb = TokenEmbedding(num_tokens_en, embed_size)\n",
        "        self.tgt_tok_emb = TokenEmbedding(num_tokens_fr, embed_size)\n",
        "        self.positional_encoding = PositionalEncoding(embed_size, dropout=0.1, maxlen=max_seq_length)\n",
        "\n",
        "        encoder_layer = nn.TransformerEncoderLayer(d_model=embed_size, nhead=nhead, dim_feedforward=dim_feedforward, dropout=0.1)\n",
        "        self.transformer_encoder = nn.TransformerEncoder(encoder_layer, num_layers=3)\n",
        "\n",
        "        decoder_layer = nn.TransformerDecoderLayer(d_model=embed_size, nhead=nhead, dim_feedforward=dim_feedforward, dropout=0.1)\n",
        "        self.transformer_decoder = nn.TransformerDecoder(decoder_layer, num_layers=3)\n",
        "        self.generator = nn.Linear(embed_size, num_tokens_fr)\n",
        "\n",
        "    def encode(self, src, src_mask):\n",
        "        src_emb = self.positional_encoding(self.src_tok_emb(src))\n",
        "        return self.transformer_encoder(src_emb, src_key_padding_mask=src_mask)\n",
        "\n",
        "    def decode(self, tgt, memory, tgt_mask, tgt_key_padding_mask):\n",
        "        tgt_emb = self.positional_encoding(self.tgt_tok_emb(tgt))\n",
        "        return self.transformer_decoder(tgt_emb, memory, tgt_mask, tgt_key_padding_mask=tgt_key_padding_mask)\n",
        "\n",
        "    def forward(self, src, tgt, src_mask=None, tgt_mask=None, src_padding_mask=None, tgt_padding_mask=None):\n",
        "        memory = self.encode(src, src_padding_mask)\n",
        "        output = self.decode(tgt, memory, tgt_mask, tgt_padding_mask)\n",
        "        return self.generator(output)\n",
        "\n",
        "    def generate_square_subsequent_mask(self, sz):\n",
        "        mask = torch.triu(torch.ones(sz, sz, device=device)).transpose(0, 1)\n",
        "        mask = mask.float().masked_fill(mask == 0, float('-inf')).masked_fill(mask == 1, float(0.0))\n",
        "        return mask\n",
        "model_adamw_n = TransformerModel(len(vocab_en), len(vocab_fr), embed_size=64, nhead=8, dim_feedforward=1024, max_seq_length=512)"
      ],
      "metadata": {
        "colab": {
          "base_uri": "https://localhost:8080/"
        },
        "id": "_xFTwDGXtUHM",
        "outputId": "f6bf52b0-ff5a-41a7-f852-b9f5ced708db"
      },
      "execution_count": 10,
      "outputs": [
        {
          "output_type": "stream",
          "name": "stderr",
          "text": [
            "/usr/local/lib/python3.10/dist-packages/torch/nn/modules/transformer.py:286: UserWarning: enable_nested_tensor is True, but self.use_nested_tensor is False because encoder_layer.self_attn.batch_first was not True(use batch_first for better inference performance)\n",
            "  warnings.warn(f\"enable_nested_tensor is True, but self.use_nested_tensor is False because {why_not_sparsity_fast_path}\")\n"
          ]
        }
      ]
    },
    {
      "cell_type": "code",
      "source": [
        "optimizer = torch.optim.AdamW(model_adamw_n.parameters(), lr=0.001)\n",
        "# scheduler = torch.optim.lr_scheduler.StepLR(optimizer, step_size=1, gamma=0.95)\n",
        "seq2seq_loss_adamw_n = nn.NLLLoss(ignore_index=PAD_IDX)\n",
        "def init_weights(m):\n",
        "    if isinstance(m, nn.Linear):\n",
        "        nn.init.xavier_uniform_(m.weight)\n",
        "        if m.bias is not None:\n",
        "            nn.init.constant_(m.bias, 0)\n",
        "device = torch.device(\"cuda\" if torch.cuda.is_available() else \"cpu\")\n",
        "model_adamw_n.to(device)\n",
        "def train_and_evaluate(model, train_dataloader, val_dataloader, test_dataloader, optimizer, loss_function, vocab_en, vocab_fr, epochs=10):\n",
        "    model.apply(init_weights)\n",
        "    training_loss = []\n",
        "    validation_loss = []\n",
        "    for epoch in range(epochs):\n",
        "        model.train()\n",
        "        total_train_loss = 0\n",
        "\n",
        "        for src, tgt in train_dataloader:\n",
        "            src, tgt = src.to(device), tgt.to(device)\n",
        "            src = src.T\n",
        "            tgt_inp = tgt.T\n",
        "            tgt_input = tgt_inp[:-1, :]\n",
        "            tgt_output = tgt_inp[1:, :]\n",
        "            src_seq_length = src.shape[0]\n",
        "            tgt_seq_length = tgt_input.shape[0]\n",
        "            src_mask = torch.zeros(src_seq_length, src_seq_length).to(device).type(torch.bool)\n",
        "            tgt_mask = model.generate_square_subsequent_mask(tgt_seq_length).to(device)\n",
        "\n",
        "            src_padding_mask = (src == PAD_IDX).transpose(0, 1).to(device)\n",
        "            tgt_padding_mask = (tgt_input == PAD_IDX).transpose(0, 1).to(device)\n",
        "\n",
        "            logits = model(src, tgt_input, src_mask, tgt_mask, src_padding_mask, tgt_padding_mask)\n",
        "            logits = logits.view(-1, logits.shape[-1])\n",
        "            logits = torch.log_softmax(logits, dim=-1)\n",
        "            tgt_output = tgt_output.reshape(-1)\n",
        "            loss = seq2seq_loss_adamw_n(logits, tgt_output)\n",
        "            optimizer.zero_grad()\n",
        "            loss.backward()\n",
        "            torch.nn.utils.clip_grad_norm_(model.parameters(), max_norm=1.0)\n",
        "            optimizer.step()\n",
        "            total_train_loss += loss.item() if not torch.isnan(loss) else 0\n",
        "\n",
        "\n",
        "        avg_train_loss = total_train_loss / len(train_dataloader)\n",
        "        training_loss.append(avg_train_loss)\n",
        "        model.eval()\n",
        "        total_val_loss = 0\n",
        "\n",
        "        with torch.no_grad():\n",
        "            for src, tgt in val_dataloader:\n",
        "                src, tgt = src.to(device), tgt.to(device)\n",
        "                src = src.T\n",
        "                tgt_inp = tgt.T\n",
        "                tgt_input = tgt_inp[:-1, :]\n",
        "                tgt_output = tgt_inp[1:, :]\n",
        "                src_seq_length = src.shape[0]\n",
        "                tgt_seq_length = tgt_input.shape[0]\n",
        "                src_mask = torch.zeros(src_seq_length, src_seq_length).to(device).type(torch.bool)\n",
        "                tgt_mask = model.generate_square_subsequent_mask(tgt_seq_length).to(device)\n",
        "                src_padding_mask = (src == PAD_IDX).transpose(0, 1).to(device)\n",
        "                tgt_padding_mask = (tgt_input == PAD_IDX).transpose(0, 1).to(device)\n",
        "                logits = model(src, tgt_input, src_mask, tgt_mask, src_padding_mask, tgt_padding_mask)\n",
        "                logits = logits.view(-1, logits.shape[-1])\n",
        "                logits = torch.log_softmax(logits, dim=-1)\n",
        "                tgt_output = tgt_output.reshape(-1)\n",
        "                loss = seq2seq_loss_adamw_n(logits, tgt_output)\n",
        "                total_val_loss += loss.item()\n",
        "\n",
        "        avg_val_loss = total_val_loss / len(val_dataloader)\n",
        "        validation_loss.append(avg_val_loss)\n",
        "        print(f'Epoch {epoch+1}, Training Loss: {avg_train_loss:.4f}, Validation Loss: {avg_val_loss:.4f}')\n",
        "    return training_loss, validation_loss,model\n",
        "training_loss_adamw_n, validation_loss_adamw_n,model_adamw_n = train_and_evaluate(model_adamw_n, train_dataloader, val_dataloader, test_dataloader, optimizer, vocab_en, vocab_fr, seq2seq_loss_adamw_n, epochs=10)"
      ],
      "metadata": {
        "colab": {
          "base_uri": "https://localhost:8080/"
        },
        "id": "ItCotPXltbMF",
        "outputId": "2b544280-79c4-4c98-8bc5-3ccf83154920"
      },
      "execution_count": 11,
      "outputs": [
        {
          "output_type": "stream",
          "name": "stderr",
          "text": [
            "/usr/local/lib/python3.10/dist-packages/torch/nn/functional.py:5109: UserWarning: Support for mismatched key_padding_mask and attn_mask is deprecated. Use same type for both instead.\n",
            "  warnings.warn(\n"
          ]
        },
        {
          "output_type": "stream",
          "name": "stdout",
          "text": [
            "Epoch 1, Training Loss: 5.0551, Validation Loss: 4.4479\n",
            "Epoch 2, Training Loss: 4.3120, Validation Loss: 4.1679\n",
            "Epoch 3, Training Loss: 4.0525, Validation Loss: 4.0123\n",
            "Epoch 4, Training Loss: 3.8660, Validation Loss: 3.9337\n",
            "Epoch 5, Training Loss: 3.7231, Validation Loss: 3.9439\n",
            "Epoch 6, Training Loss: 3.6124, Validation Loss: 3.8991\n",
            "Epoch 7, Training Loss: 3.5246, Validation Loss: 3.8740\n",
            "Epoch 8, Training Loss: 3.4529, Validation Loss: 3.8582\n",
            "Epoch 9, Training Loss: 3.3939, Validation Loss: 3.8466\n",
            "Epoch 10, Training Loss: 3.3433, Validation Loss: 3.8359\n"
          ]
        }
      ]
    },
    {
      "cell_type": "code",
      "source": [
        "import matplotlib.pyplot as plt\n",
        "epochs = range(1, len(training_loss_adamw_n) + 1)\n",
        "plt.plot(epochs, training_loss_adamw_n, 'b', label='Training Loss')\n",
        "plt.plot(epochs, validation_loss_adamw_n, 'r', label='Validation Loss')\n",
        "plt.title('Training and Validation Loss using Log Softmax + NLLLoss')\n",
        "plt.xlabel('Epochs')\n",
        "plt.ylabel('Loss')\n",
        "plt.legend()\n",
        "plt.show()"
      ],
      "metadata": {
        "colab": {
          "base_uri": "https://localhost:8080/",
          "height": 472
        },
        "id": "dmOPwLFZvd_O",
        "outputId": "fa583053-47c6-44ab-bf97-17410dcfbb70"
      },
      "execution_count": 12,
      "outputs": [
        {
          "output_type": "display_data",
          "data": {
            "text/plain": [
              "<Figure size 640x480 with 1 Axes>"
            ],
            "image/png": "[encoded data removed]"
          },
          "metadata": {}
        }
      ]
    },
    {
      "cell_type": "code",
      "source": [
        "torch.save(model_adamw_n.state_dict(), '/content/drive/MyDrive/Adamw/absolute_positional_encoding/sparsecategoricalcrossentropy/model_metrics_adamw_n.pt')\n",
        "torch.save(model_adamw_n, '/content/drive/MyDrive/Adamw/absolute_positional_encoding/sparsecategoricalcrossentropy/model_adamw_n.pkl')"
      ],
      "metadata": {
        "id": "ZsN23j8B1mGp"
      },
      "execution_count": 13,
      "outputs": []
    },
    {
      "cell_type": "code",
      "source": [
        "model_metrics_adamw_n = {'training_loss':training_loss_adamw_n,'validation_loss':validation_loss_adamw_n}\n",
        "torch.save(model_metrics_adamw_n, '/content/drive/MyDrive/Adamw/absolute_positional_encoding/sparsecategoricalcrossentropy/model_adamw_n_metrics.pt')"
      ],
      "metadata": {
        "id": "QZYUxZh81wsY"
      },
      "execution_count": 14,
      "outputs": []
    },
    {
      "cell_type": "markdown",
      "source": [
        "##SGD"
      ],
      "metadata": {
        "id": "fhryaEASTOU5"
      }
    },
    {
      "cell_type": "markdown",
      "source": [
        "##Cross Entropy Loss"
      ],
      "metadata": {
        "id": "y1CtMz4Z1x9b"
      }
    },
    {
      "cell_type": "code",
      "source": [
        "import torch\n",
        "from torch import nn, Tensor\n",
        "import math\n",
        "\n",
        "class PositionalEncoding(nn.Module):\n",
        "    def __init__(self, emb_size: int, dropout: float, maxlen: int = 5000):\n",
        "        super(PositionalEncoding, self).__init__()\n",
        "        den = torch.exp(-torch.arange(0, emb_size, 2) * math.log(10000) / emb_size)\n",
        "        pos = torch.arange(0, maxlen).reshape(maxlen, 1)\n",
        "        pos_embedding = torch.zeros((maxlen, emb_size))\n",
        "        pos_embedding[:, 0::2] = torch.sin(pos * den)\n",
        "        pos_embedding[:, 1::2] = torch.cos(pos * den)\n",
        "        pos_embedding = pos_embedding.unsqueeze(-2)\n",
        "        self.dropout = nn.Dropout(dropout)\n",
        "        self.register_buffer('pos_embedding', pos_embedding)\n",
        "\n",
        "    def forward(self, token_embedding: Tensor):\n",
        "        return self.dropout(token_embedding + self.pos_embedding[:token_embedding.size(0), :])\n",
        "\n",
        "class TokenEmbedding(nn.Module):\n",
        "    def __init__(self, vocab_size: int, emb_size: int):\n",
        "        super(TokenEmbedding, self).__init__()\n",
        "        self.embedding = nn.Embedding(vocab_size, emb_size)\n",
        "        self.emb_size = emb_size\n",
        "\n",
        "    def forward(self, tokens: Tensor):\n",
        "        return self.embedding(tokens.long()) * math.sqrt(self.emb_size)\n",
        "\n",
        "class TransformerModel(nn.Module):\n",
        "    def __init__(self, num_tokens_en, num_tokens_fr, embed_size, nhead, dim_feedforward, max_seq_length):\n",
        "        super(TransformerModel, self).__init__()\n",
        "        self.embed_size = embed_size\n",
        "        self.src_tok_emb = TokenEmbedding(num_tokens_en, embed_size)\n",
        "        self.tgt_tok_emb = TokenEmbedding(num_tokens_fr, embed_size)\n",
        "        self.positional_encoding = PositionalEncoding(embed_size, dropout=0.1, maxlen=max_seq_length)\n",
        "\n",
        "        encoder_layer = nn.TransformerEncoderLayer(d_model=embed_size, nhead=nhead, dim_feedforward=dim_feedforward, dropout=0.1)\n",
        "        self.transformer_encoder = nn.TransformerEncoder(encoder_layer, num_layers=3)\n",
        "\n",
        "        decoder_layer = nn.TransformerDecoderLayer(d_model=embed_size, nhead=nhead, dim_feedforward=dim_feedforward, dropout=0.1)\n",
        "        self.transformer_decoder = nn.TransformerDecoder(decoder_layer, num_layers=3)\n",
        "        self.generator = nn.Linear(embed_size, num_tokens_fr)\n",
        "\n",
        "    def encode(self, src, src_mask):\n",
        "        src_emb = self.positional_encoding(self.src_tok_emb(src))\n",
        "        return self.transformer_encoder(src_emb, src_key_padding_mask=src_mask)\n",
        "\n",
        "    def decode(self, tgt, memory, tgt_mask, tgt_key_padding_mask):\n",
        "        tgt_emb = self.positional_encoding(self.tgt_tok_emb(tgt))\n",
        "        return self.transformer_decoder(tgt_emb, memory, tgt_mask, tgt_key_padding_mask=tgt_key_padding_mask)\n",
        "\n",
        "    def forward(self, src, tgt, src_mask=None, tgt_mask=None, src_padding_mask=None, tgt_padding_mask=None):\n",
        "        memory = self.encode(src, src_padding_mask)\n",
        "        output = self.decode(tgt, memory, tgt_mask, tgt_padding_mask)\n",
        "        return self.generator(output)\n",
        "\n",
        "    def generate_square_subsequent_mask(self, sz):\n",
        "        mask = torch.triu(torch.ones(sz, sz, device=device)).transpose(0, 1)\n",
        "        mask = mask.float().masked_fill(mask == 0, float('-inf')).masked_fill(mask == 1, float(0.0))\n",
        "        return mask\n",
        "model_sgd = TransformerModel(len(vocab_en), len(vocab_fr), embed_size=64, nhead=8, dim_feedforward=1024, max_seq_length=512)"
      ],
      "metadata": {
        "colab": {
          "base_uri": "https://localhost:8080/"
        },
        "id": "Q2XrZtTgTQHe",
        "outputId": "7a5eb7f9-2bd8-4b29-c91d-0397b963a985"
      },
      "execution_count": null,
      "outputs": [
        {
          "output_type": "stream",
          "name": "stderr",
          "text": [
            "/usr/local/lib/python3.10/dist-packages/torch/nn/modules/transformer.py:286: UserWarning: enable_nested_tensor is True, but self.use_nested_tensor is False because encoder_layer.self_attn.batch_first was not True(use batch_first for better inference performance)\n",
            "  warnings.warn(f\"enable_nested_tensor is True, but self.use_nested_tensor is False because {why_not_sparsity_fast_path}\")\n"
          ]
        }
      ]
    },
    {
      "cell_type": "code",
      "source": [
        "optimizer = torch.optim.SGD(model_sgd.parameters(), lr=0.001)\n",
        "# scheduler = torch.optim.lr_scheduler.StepLR(optimizer, step_size=1, gamma=0.95)\n",
        "seq2seq_loss_sgd = nn.CrossEntropyLoss(ignore_index=PAD_IDX)\n",
        "def init_weights(m):\n",
        "    if isinstance(m, nn.Linear):\n",
        "        nn.init.xavier_uniform_(m.weight)\n",
        "        if m.bias is not None:\n",
        "            nn.init.constant_(m.bias, 0)\n",
        "device = torch.device(\"cuda\" if torch.cuda.is_available() else \"cpu\")\n",
        "model_sgd.to(device)\n",
        "def train_and_evaluate(model, train_dataloader, val_dataloader, test_dataloader, optimizer, loss_function, vocab_en, vocab_fr, epochs=10):\n",
        "    model.apply(init_weights)\n",
        "    training_loss = []\n",
        "    validation_loss = []\n",
        "    for epoch in range(epochs):\n",
        "        model.train()\n",
        "        total_train_loss = 0\n",
        "\n",
        "        for src, tgt in train_dataloader:\n",
        "            src, tgt = src.to(device), tgt.to(device)\n",
        "            src = src.T\n",
        "            tgt_inp = tgt.T\n",
        "            tgt_input = tgt_inp[:-1, :]\n",
        "            tgt_output = tgt_inp[1:, :]\n",
        "            src_seq_length = src.shape[0]\n",
        "            tgt_seq_length = tgt_input.shape[0]\n",
        "            src_mask = torch.zeros(src_seq_length, src_seq_length).to(device).type(torch.bool)\n",
        "            tgt_mask = model.generate_square_subsequent_mask(tgt_seq_length).to(device)\n",
        "\n",
        "            src_padding_mask = (src == PAD_IDX).transpose(0, 1).to(device)\n",
        "            tgt_padding_mask = (tgt_input == PAD_IDX).transpose(0, 1).to(device)\n",
        "\n",
        "            logits = model(src, tgt_input, src_mask, tgt_mask, src_padding_mask, tgt_padding_mask)\n",
        "            logits = logits.view(-1, logits.shape[-1])\n",
        "            tgt_output = tgt_output.reshape(-1)\n",
        "            loss = seq2seq_loss_sgd(logits, tgt_output)\n",
        "            optimizer.zero_grad()\n",
        "            loss.backward()\n",
        "            torch.nn.utils.clip_grad_norm_(model.parameters(), max_norm=1.0)\n",
        "            optimizer.step()\n",
        "            total_train_loss += loss.item() if not torch.isnan(loss) else 0\n",
        "\n",
        "\n",
        "        avg_train_loss = total_train_loss / len(train_dataloader)\n",
        "        training_loss.append(avg_train_loss)\n",
        "        model.eval()\n",
        "        total_val_loss = 0\n",
        "\n",
        "        with torch.no_grad():\n",
        "            for src, tgt in val_dataloader:\n",
        "                src, tgt = src.to(device), tgt.to(device)\n",
        "                src = src.T\n",
        "                tgt_inp = tgt.T\n",
        "                tgt_input = tgt_inp[:-1, :]\n",
        "                tgt_output = tgt_inp[1:, :]\n",
        "                src_seq_length = src.shape[0]\n",
        "                tgt_seq_length = tgt_input.shape[0]\n",
        "                src_mask = torch.zeros(src_seq_length, src_seq_length).to(device).type(torch.bool)\n",
        "                tgt_mask = model.generate_square_subsequent_mask(tgt_seq_length).to(device)\n",
        "                src_padding_mask = (src == PAD_IDX).transpose(0, 1).to(device)\n",
        "                tgt_padding_mask = (tgt_input == PAD_IDX).transpose(0, 1).to(device)\n",
        "                logits = model(src, tgt_input, src_mask, tgt_mask, src_padding_mask, tgt_padding_mask)\n",
        "                logits = logits.view(-1, logits.shape[-1])\n",
        "                tgt_output = tgt_output.reshape(-1)\n",
        "                loss = seq2seq_loss_sgd(logits, tgt_output)\n",
        "                total_val_loss += loss.item()\n",
        "\n",
        "\n",
        "        avg_val_loss = total_val_loss / len(val_dataloader)\n",
        "        validation_loss.append(avg_val_loss)\n",
        "        print(f'Epoch {epoch+1}, Training Loss: {avg_train_loss:.4f}, Validation Loss: {avg_val_loss:.4f}')\n",
        "    return training_loss, validation_loss,model\n",
        "training_loss_sgd, validation_loss_sgd,model_sgd = train_and_evaluate(model_sgd, train_dataloader, val_dataloader, test_dataloader, optimizer, vocab_en, vocab_fr, seq2seq_loss_sgd, epochs=10)"
      ],
      "metadata": {
        "colab": {
          "base_uri": "https://localhost:8080/"
        },
        "id": "K6JYjY0GTS3m",
        "outputId": "a886db17-31cc-4db0-ce18-19906d9a450b"
      },
      "execution_count": null,
      "outputs": [
        {
          "output_type": "stream",
          "name": "stderr",
          "text": [
            "/usr/local/lib/python3.10/dist-packages/torch/nn/functional.py:5109: UserWarning: Support for mismatched key_padding_mask and attn_mask is deprecated. Use same type for both instead.\n",
            "  warnings.warn(\n"
          ]
        },
        {
          "output_type": "stream",
          "name": "stdout",
          "text": [
            "Epoch 1, Training Loss: 9.9171, Validation Loss: 8.9891\n",
            "Epoch 2, Training Loss: 8.4948, Validation Loss: 8.0861\n",
            "Epoch 3, Training Loss: 7.9001, Validation Loss: 7.7241\n",
            "Epoch 4, Training Loss: 7.6258, Validation Loss: 7.5231\n",
            "Epoch 5, Training Loss: 7.4561, Validation Loss: 7.3773\n",
            "Epoch 6, Training Loss: 7.3198, Validation Loss: 7.2504\n",
            "Epoch 7, Training Loss: 7.2026, Validation Loss: 7.1432\n",
            "Epoch 8, Training Loss: 7.1036, Validation Loss: 7.0520\n",
            "Epoch 9, Training Loss: 7.0172, Validation Loss: 6.9682\n",
            "Epoch 10, Training Loss: 6.9344, Validation Loss: 6.8800\n"
          ]
        }
      ]
    },
    {
      "cell_type": "code",
      "source": [
        "import matplotlib.pyplot as plt\n",
        "epochs = range(1, len(training_loss_sgd) + 1)\n",
        "plt.plot(epochs, training_loss_sgd, 'r', label='Training Loss')\n",
        "plt.plot(epochs, validation_loss_sgd, 'b', label='Validation Loss')\n",
        "plt.title('Training and Validation Loss')\n",
        "plt.xlabel('Epochs')\n",
        "plt.ylabel('Loss')\n",
        "plt.legend()\n",
        "plt.show()"
      ],
      "metadata": {
        "colab": {
          "base_uri": "https://localhost:8080/",
          "height": 472
        },
        "id": "J5LUCah_T-74",
        "outputId": "f4d440de-439e-4913-b022-b4e6a1f4560d"
      },
      "execution_count": null,
      "outputs": [
        {
          "output_type": "display_data",
          "data": {
            "text/plain": [
              "<Figure size 640x480 with 1 Axes>"
            ],
            "image/png": "[encoded data removed]"
          },
          "metadata": {}
        }
      ]
    },
    {
      "cell_type": "code",
      "source": [
        "model_sgd_metrics = {'training_loss': training_loss_sgd, 'validation_loss': validation_loss_sgd}\n",
        "torch.save(model_sgd_metrics, '/content/drive/MyDrive/SGD/absolute_positional_encoding/crossentropyloss/model_sgd_metrics.pkl')"
      ],
      "metadata": {
        "id": "lg3C56I0UCzT"
      },
      "execution_count": null,
      "outputs": []
    },
    {
      "cell_type": "code",
      "source": [
        "torch.save(model_sgd, '/content/drive/MyDrive/SGD/absolute_positional_encoding/crossentropyloss/model_sgd.pt')\n",
        "torch.save(model_sgd.state_dict(), '/content/drive/MyDrive/SGD/absolute_positional_encoding/crossentropyloss/model_sgd_state.pkl')"
      ],
      "metadata": {
        "id": "zjQouGtMUONQ"
      },
      "execution_count": null,
      "outputs": []
    },
    {
      "cell_type": "markdown",
      "source": [
        "##With Label Smoothning"
      ],
      "metadata": {
        "id": "kEV1Zc5PXbMV"
      }
    },
    {
      "cell_type": "code",
      "source": [
        "import torch\n",
        "from torch import nn, Tensor\n",
        "import math\n",
        "\n",
        "class PositionalEncoding(nn.Module):\n",
        "    def __init__(self, emb_size: int, dropout: float, maxlen: int = 5000):\n",
        "        super(PositionalEncoding, self).__init__()\n",
        "        den = torch.exp(-torch.arange(0, emb_size, 2) * math.log(10000) / emb_size)\n",
        "        pos = torch.arange(0, maxlen).reshape(maxlen, 1)\n",
        "        pos_embedding = torch.zeros((maxlen, emb_size))\n",
        "        pos_embedding[:, 0::2] = torch.sin(pos * den)\n",
        "        pos_embedding[:, 1::2] = torch.cos(pos * den)\n",
        "        pos_embedding = pos_embedding.unsqueeze(-2)\n",
        "        self.dropout = nn.Dropout(dropout)\n",
        "        self.register_buffer('pos_embedding', pos_embedding)\n",
        "\n",
        "    def forward(self, token_embedding: Tensor):\n",
        "        return self.dropout(token_embedding + self.pos_embedding[:token_embedding.size(0), :])\n",
        "\n",
        "class TokenEmbedding(nn.Module):\n",
        "    def __init__(self, vocab_size: int, emb_size: int):\n",
        "        super(TokenEmbedding, self).__init__()\n",
        "        self.embedding = nn.Embedding(vocab_size, emb_size)\n",
        "        self.emb_size = emb_size\n",
        "\n",
        "    def forward(self, tokens: Tensor):\n",
        "        return self.embedding(tokens.long()) * math.sqrt(self.emb_size)\n",
        "\n",
        "class TransformerModel(nn.Module):\n",
        "    def __init__(self, num_tokens_en, num_tokens_fr, embed_size, nhead, dim_feedforward, max_seq_length):\n",
        "        super(TransformerModel, self).__init__()\n",
        "        self.embed_size = embed_size\n",
        "        self.src_tok_emb = TokenEmbedding(num_tokens_en, embed_size)\n",
        "        self.tgt_tok_emb = TokenEmbedding(num_tokens_fr, embed_size)\n",
        "        self.positional_encoding = PositionalEncoding(embed_size, dropout=0.1, maxlen=max_seq_length)\n",
        "\n",
        "        encoder_layer = nn.TransformerEncoderLayer(d_model=embed_size, nhead=nhead, dim_feedforward=dim_feedforward, dropout=0.1)\n",
        "        self.transformer_encoder = nn.TransformerEncoder(encoder_layer, num_layers=3)\n",
        "\n",
        "        decoder_layer = nn.TransformerDecoderLayer(d_model=embed_size, nhead=nhead, dim_feedforward=dim_feedforward, dropout=0.1)\n",
        "        self.transformer_decoder = nn.TransformerDecoder(decoder_layer, num_layers=3)\n",
        "        self.generator = nn.Linear(embed_size, num_tokens_fr)\n",
        "\n",
        "    def encode(self, src, src_mask):\n",
        "        src_emb = self.positional_encoding(self.src_tok_emb(src))\n",
        "        return self.transformer_encoder(src_emb, src_key_padding_mask=src_mask)\n",
        "\n",
        "    def decode(self, tgt, memory, tgt_mask, tgt_key_padding_mask):\n",
        "        tgt_emb = self.positional_encoding(self.tgt_tok_emb(tgt))\n",
        "        return self.transformer_decoder(tgt_emb, memory, tgt_mask, tgt_key_padding_mask=tgt_key_padding_mask)\n",
        "\n",
        "    def forward(self, src, tgt, src_mask=None, tgt_mask=None, src_padding_mask=None, tgt_padding_mask=None):\n",
        "        memory = self.encode(src, src_padding_mask)\n",
        "        output = self.decode(tgt, memory, tgt_mask, tgt_padding_mask)\n",
        "        return self.generator(output)\n",
        "\n",
        "    def generate_square_subsequent_mask(self, sz):\n",
        "        mask = torch.triu(torch.ones(sz, sz, device=device)).transpose(0, 1)\n",
        "        mask = mask.float().masked_fill(mask == 0, float('-inf')).masked_fill(mask == 1, float(0.0))\n",
        "        return mask\n",
        "model_sgd_ls = TransformerModel(len(vocab_en), len(vocab_fr), embed_size=64, nhead=8, dim_feedforward=1024, max_seq_length=512)"
      ],
      "metadata": {
        "id": "iFxAlGP6Xdaq"
      },
      "execution_count": null,
      "outputs": []
    },
    {
      "cell_type": "code",
      "source": [
        "optimizer = torch.optim.SGD(model_sgd_ls.parameters(), lr=0.001)\n",
        "# scheduler = torch.optim.lr_scheduler.StepLR(optimizer, step_size=1, gamma=0.95)\n",
        "seq2seq_loss_sgd_ls = nn.CrossEntropyLoss(ignore_index=PAD_IDX,label_smoothing=0.1)\n",
        "def init_weights(m):\n",
        "    if isinstance(m, nn.Linear):\n",
        "        nn.init.xavier_uniform_(m.weight)\n",
        "        if m.bias is not None:\n",
        "            nn.init.constant_(m.bias, 0)\n",
        "device = torch.device(\"cuda\" if torch.cuda.is_available() else \"cpu\")\n",
        "model_sgd_ls.to(device)\n",
        "def train_and_evaluate(model, train_dataloader, val_dataloader, test_dataloader, optimizer, loss_function, vocab_en, vocab_fr, epochs=10):\n",
        "    model.apply(init_weights)\n",
        "    training_loss = []\n",
        "    validation_loss = []\n",
        "    for epoch in range(epochs):\n",
        "        model.train()\n",
        "        total_train_loss = 0\n",
        "\n",
        "        for src, tgt in train_dataloader:\n",
        "            src, tgt = src.to(device), tgt.to(device)\n",
        "            src = src.T\n",
        "            tgt_inp = tgt.T\n",
        "            tgt_input = tgt_inp[:-1, :]\n",
        "            tgt_output = tgt_inp[1:, :]\n",
        "            src_seq_length = src.shape[0]\n",
        "            tgt_seq_length = tgt_input.shape[0]\n",
        "            src_mask = torch.zeros(src_seq_length, src_seq_length).to(device).type(torch.bool)\n",
        "            tgt_mask = model.generate_square_subsequent_mask(tgt_seq_length).to(device)\n",
        "\n",
        "            src_padding_mask = (src == PAD_IDX).transpose(0, 1).to(device)\n",
        "            tgt_padding_mask = (tgt_input == PAD_IDX).transpose(0, 1).to(device)\n",
        "\n",
        "            logits = model(src, tgt_input, src_mask, tgt_mask, src_padding_mask, tgt_padding_mask)\n",
        "            logits = logits.view(-1, logits.shape[-1])\n",
        "            tgt_output = tgt_output.reshape(-1)\n",
        "            loss = seq2seq_loss_sgd_ls(logits, tgt_output)\n",
        "            optimizer.zero_grad()\n",
        "            loss.backward()\n",
        "            torch.nn.utils.clip_grad_norm_(model.parameters(), max_norm=1.0)\n",
        "            optimizer.step()\n",
        "            total_train_loss += loss.item() if not torch.isnan(loss) else 0\n",
        "\n",
        "\n",
        "        avg_train_loss = total_train_loss / len(train_dataloader)\n",
        "        training_loss.append(avg_train_loss)\n",
        "        model.eval()\n",
        "        total_val_loss = 0\n",
        "\n",
        "        with torch.no_grad():\n",
        "            for src, tgt in val_dataloader:\n",
        "                src, tgt = src.to(device), tgt.to(device)\n",
        "                src = src.T\n",
        "                tgt_inp = tgt.T\n",
        "                tgt_input = tgt_inp[:-1, :]\n",
        "                tgt_output = tgt_inp[1:, :]\n",
        "                src_seq_length = src.shape[0]\n",
        "                tgt_seq_length = tgt_input.shape[0]\n",
        "                src_mask = torch.zeros(src_seq_length, src_seq_length).to(device).type(torch.bool)\n",
        "                tgt_mask = model.generate_square_subsequent_mask(tgt_seq_length).to(device)\n",
        "                src_padding_mask = (src == PAD_IDX).transpose(0, 1).to(device)\n",
        "                tgt_padding_mask = (tgt_input == PAD_IDX).transpose(0, 1).to(device)\n",
        "                logits = model(src, tgt_input, src_mask, tgt_mask, src_padding_mask, tgt_padding_mask)\n",
        "                logits = logits.view(-1, logits.shape[-1])\n",
        "                tgt_output = tgt_output.reshape(-1)\n",
        "                loss = seq2seq_loss_sgd_ls(logits, tgt_output)\n",
        "                total_val_loss += loss.item()\n",
        "\n",
        "\n",
        "        avg_val_loss = total_val_loss / len(val_dataloader)\n",
        "        validation_loss.append(avg_val_loss)\n",
        "        print(f'Epoch {epoch+1}, Training Loss: {avg_train_loss:.4f}, Validation Loss: {avg_val_loss:.4f}')\n",
        "    return training_loss, validation_loss,model\n",
        "training_loss_sgd_ls, validation_loss_sgd_ls,model_sgd_ls = train_and_evaluate(model_sgd_ls, train_dataloader, val_dataloader, test_dataloader, optimizer, vocab_en, vocab_fr, seq2seq_loss_sgd_ls, epochs=10)"
      ],
      "metadata": {
        "colab": {
          "base_uri": "https://localhost:8080/"
        },
        "id": "Y2xG9mhYXgCr",
        "outputId": "2bec4cb7-2693-413e-e982-739021d70b95"
      },
      "execution_count": null,
      "outputs": [
        {
          "output_type": "stream",
          "name": "stdout",
          "text": [
            "Epoch 1, Training Loss: 10.0608, Validation Loss: 9.2836\n",
            "Epoch 2, Training Loss: 8.8122, Validation Loss: 8.4269\n",
            "Epoch 3, Training Loss: 8.2468, Validation Loss: 8.0805\n",
            "Epoch 4, Training Loss: 7.9874, Validation Loss: 7.8939\n",
            "Epoch 5, Training Loss: 7.8325, Validation Loss: 7.7622\n",
            "Epoch 6, Training Loss: 7.7110, Validation Loss: 7.6511\n",
            "Epoch 7, Training Loss: 7.6107, Validation Loss: 7.5620\n",
            "Epoch 8, Training Loss: 7.5298, Validation Loss: 7.4892\n",
            "Epoch 9, Training Loss: 7.4624, Validation Loss: 7.4264\n",
            "Epoch 10, Training Loss: 7.4027, Validation Loss: 7.3675\n"
          ]
        }
      ]
    },
    {
      "cell_type": "code",
      "source": [
        "import matplotlib.pyplot as plt\n",
        "epochs = range(1, len(training_loss_sgd_ls) + 1)\n",
        "plt.plot(epochs, training_loss_sgd_ls, 'b', label='Training Loss')\n",
        "plt.plot(epochs, validation_loss_sgd_ls, 'r', label='Validation Loss')\n",
        "plt.title('Training and Validation Loss')\n",
        "plt.xlabel('Epochs')\n",
        "plt.ylabel('Loss')\n",
        "plt.legend()\n",
        "plt.show()"
      ],
      "metadata": {
        "colab": {
          "base_uri": "https://localhost:8080/",
          "height": 472
        },
        "id": "udegLca8ZrYJ",
        "outputId": "581dbc1b-4037-4d85-dd2c-b11b5ffed89f"
      },
      "execution_count": null,
      "outputs": [
        {
          "output_type": "display_data",
          "data": {
            "text/plain": [
              "<Figure size 640x480 with 1 Axes>"
            ],
            "image/png": "[encoded data removed]"
          },
          "metadata": {}
        }
      ]
    },
    {
      "cell_type": "code",
      "source": [
        "torch.save(model_sgd_ls.state_dict(), '/content/drive/MyDrive/SGD/absolute_positional_encoding/crossentropywithlabelsmoothning/model_sgd_ls_state.pkl')\n",
        "torch.save(model_sgd_ls, '/content/drive/MyDrive/SGD/absolute_positional_encoding/crossentropywithlabelsmoothning/model_sgd_ls.pt')"
      ],
      "metadata": {
        "id": "Ery-Al6CZux-"
      },
      "execution_count": null,
      "outputs": []
    },
    {
      "cell_type": "code",
      "source": [
        "model_sgd_ls_metrics = {'training_loss':training_loss_sgd_ls,'validation_loss':validation_loss_sgd_ls}\n",
        "torch.save(model_sgd_ls_metrics, '/content/drive/MyDrive/SGD/absolute_positional_encoding/crossentropywithlabelsmoothning/model_sgd_ls_metrics.pkl')"
      ],
      "metadata": {
        "id": "BzVXRafzaG5f"
      },
      "execution_count": null,
      "outputs": []
    },
    {
      "cell_type": "markdown",
      "source": [
        "##NLLLosss"
      ],
      "metadata": {
        "id": "Dn5z-1ToaRhg"
      }
    },
    {
      "cell_type": "code",
      "source": [
        "import torch\n",
        "from torch import nn, Tensor\n",
        "import math\n",
        "\n",
        "class PositionalEncoding(nn.Module):\n",
        "    def __init__(self, emb_size: int, dropout: float, maxlen: int = 5000):\n",
        "        super(PositionalEncoding, self).__init__()\n",
        "        den = torch.exp(-torch.arange(0, emb_size, 2) * math.log(10000) / emb_size)\n",
        "        pos = torch.arange(0, maxlen).reshape(maxlen, 1)\n",
        "        pos_embedding = torch.zeros((maxlen, emb_size))\n",
        "        pos_embedding[:, 0::2] = torch.sin(pos * den)\n",
        "        pos_embedding[:, 1::2] = torch.cos(pos * den)\n",
        "        pos_embedding = pos_embedding.unsqueeze(-2)\n",
        "        self.dropout = nn.Dropout(dropout)\n",
        "        self.register_buffer('pos_embedding', pos_embedding)\n",
        "\n",
        "    def forward(self, token_embedding: Tensor):\n",
        "        return self.dropout(token_embedding + self.pos_embedding[:token_embedding.size(0), :])\n",
        "\n",
        "class TokenEmbedding(nn.Module):\n",
        "    def __init__(self, vocab_size: int, emb_size: int):\n",
        "        super(TokenEmbedding, self).__init__()\n",
        "        self.embedding = nn.Embedding(vocab_size, emb_size)\n",
        "        self.emb_size = emb_size\n",
        "\n",
        "    def forward(self, tokens: Tensor):\n",
        "        return self.embedding(tokens.long()) * math.sqrt(self.emb_size)\n",
        "\n",
        "class TransformerModel(nn.Module):\n",
        "    def __init__(self, num_tokens_en, num_tokens_fr, embed_size, nhead, dim_feedforward, max_seq_length):\n",
        "        super(TransformerModel, self).__init__()\n",
        "        self.embed_size = embed_size\n",
        "        self.src_tok_emb = TokenEmbedding(num_tokens_en, embed_size)\n",
        "        self.tgt_tok_emb = TokenEmbedding(num_tokens_fr, embed_size)\n",
        "        self.positional_encoding = PositionalEncoding(embed_size, dropout=0.1, maxlen=max_seq_length)\n",
        "\n",
        "        encoder_layer = nn.TransformerEncoderLayer(d_model=embed_size, nhead=nhead, dim_feedforward=dim_feedforward, dropout=0.1)\n",
        "        self.transformer_encoder = nn.TransformerEncoder(encoder_layer, num_layers=3)\n",
        "\n",
        "        decoder_layer = nn.TransformerDecoderLayer(d_model=embed_size, nhead=nhead, dim_feedforward=dim_feedforward, dropout=0.1)\n",
        "        self.transformer_decoder = nn.TransformerDecoder(decoder_layer, num_layers=3)\n",
        "        self.generator = nn.Linear(embed_size, num_tokens_fr)\n",
        "\n",
        "    def encode(self, src, src_mask):\n",
        "        src_emb = self.positional_encoding(self.src_tok_emb(src))\n",
        "        return self.transformer_encoder(src_emb, src_key_padding_mask=src_mask)\n",
        "\n",
        "    def decode(self, tgt, memory, tgt_mask, tgt_key_padding_mask):\n",
        "        tgt_emb = self.positional_encoding(self.tgt_tok_emb(tgt))\n",
        "        return self.transformer_decoder(tgt_emb, memory, tgt_mask, tgt_key_padding_mask=tgt_key_padding_mask)\n",
        "\n",
        "    def forward(self, src, tgt, src_mask=None, tgt_mask=None, src_padding_mask=None, tgt_padding_mask=None):\n",
        "        memory = self.encode(src, src_padding_mask)\n",
        "        output = self.decode(tgt, memory, tgt_mask, tgt_padding_mask)\n",
        "        return self.generator(output)\n",
        "\n",
        "    def generate_square_subsequent_mask(self, sz):\n",
        "        mask = torch.triu(torch.ones(sz, sz, device=device)).transpose(0, 1)\n",
        "        mask = mask.float().masked_fill(mask == 0, float('-inf')).masked_fill(mask == 1, float(0.0))\n",
        "        return mask\n",
        "model_sgd_n = TransformerModel(len(vocab_en), len(vocab_fr), embed_size=64, nhead=8, dim_feedforward=1024, max_seq_length=512)"
      ],
      "metadata": {
        "id": "wyhjkOPQejVL",
        "colab": {
          "base_uri": "https://localhost:8080/"
        },
        "outputId": "fa0f6773-0ae0-46b0-a589-e4878d6f4f43"
      },
      "execution_count": 15,
      "outputs": [
        {
          "output_type": "stream",
          "name": "stderr",
          "text": [
            "/usr/local/lib/python3.10/dist-packages/torch/nn/modules/transformer.py:286: UserWarning: enable_nested_tensor is True, but self.use_nested_tensor is False because encoder_layer.self_attn.batch_first was not True(use batch_first for better inference performance)\n",
            "  warnings.warn(f\"enable_nested_tensor is True, but self.use_nested_tensor is False because {why_not_sparsity_fast_path}\")\n"
          ]
        }
      ]
    },
    {
      "cell_type": "code",
      "source": [
        "optimizer = torch.optim.SGD(model_sgd_n.parameters(), lr=0.001)\n",
        "# scheduler = torch.optim.lr_scheduler.StepLR(optimizer, step_size=1, gamma=0.95)\n",
        "seq2seq_loss_sgd_n = nn.NLLLoss(ignore_index=PAD_IDX)\n",
        "def init_weights(m):\n",
        "    if isinstance(m, nn.Linear):\n",
        "        nn.init.xavier_uniform_(m.weight)\n",
        "        if m.bias is not None:\n",
        "            nn.init.constant_(m.bias, 0)\n",
        "device = torch.device(\"cuda\" if torch.cuda.is_available() else \"cpu\")\n",
        "model_sgd_n.to(device)\n",
        "def train_and_evaluate(model, train_dataloader, val_dataloader, test_dataloader, optimizer, loss_function, vocab_en, vocab_fr, epochs=10):\n",
        "    model.apply(init_weights)\n",
        "    training_loss = []\n",
        "    validation_loss = []\n",
        "    for epoch in range(epochs):\n",
        "        model.train()\n",
        "        total_train_loss = 0\n",
        "\n",
        "        for src, tgt in train_dataloader:\n",
        "            src, tgt = src.to(device), tgt.to(device)\n",
        "            src = src.T\n",
        "            tgt_inp = tgt.T\n",
        "            tgt_input = tgt_inp[:-1, :]\n",
        "            tgt_output = tgt_inp[1:, :]\n",
        "            src_seq_length = src.shape[0]\n",
        "            tgt_seq_length = tgt_input.shape[0]\n",
        "            src_mask = torch.zeros(src_seq_length, src_seq_length).to(device).type(torch.bool)\n",
        "            tgt_mask = model.generate_square_subsequent_mask(tgt_seq_length).to(device)\n",
        "\n",
        "            src_padding_mask = (src == PAD_IDX).transpose(0, 1).to(device)\n",
        "            tgt_padding_mask = (tgt_input == PAD_IDX).transpose(0, 1).to(device)\n",
        "\n",
        "            logits = model(src, tgt_input, src_mask, tgt_mask, src_padding_mask, tgt_padding_mask)\n",
        "            logits = logits.view(-1, logits.shape[-1])\n",
        "            logits = torch.log_softmax(logits, dim=-1)\n",
        "            tgt_output = tgt_output.reshape(-1)\n",
        "            loss = seq2seq_loss_sgd_n(logits, tgt_output)\n",
        "            optimizer.zero_grad()\n",
        "            loss.backward()\n",
        "            torch.nn.utils.clip_grad_norm_(model.parameters(), max_norm=1.0)\n",
        "            optimizer.step()\n",
        "            total_train_loss += loss.item() if not torch.isnan(loss) else 0\n",
        "\n",
        "\n",
        "        avg_train_loss = total_train_loss / len(train_dataloader)\n",
        "        training_loss.append(avg_train_loss)\n",
        "        model.eval()\n",
        "        total_val_loss = 0\n",
        "\n",
        "        with torch.no_grad():\n",
        "            for src, tgt in val_dataloader:\n",
        "                src, tgt = src.to(device), tgt.to(device)\n",
        "                src = src.T\n",
        "                tgt_inp = tgt.T\n",
        "                tgt_input = tgt_inp[:-1, :]\n",
        "                tgt_output = tgt_inp[1:, :]\n",
        "                src_seq_length = src.shape[0]\n",
        "                tgt_seq_length = tgt_input.shape[0]\n",
        "                src_mask = torch.zeros(src_seq_length, src_seq_length).to(device).type(torch.bool)\n",
        "                tgt_mask = model.generate_square_subsequent_mask(tgt_seq_length).to(device)\n",
        "                src_padding_mask = (src == PAD_IDX).transpose(0, 1).to(device)\n",
        "                tgt_padding_mask = (tgt_input == PAD_IDX).transpose(0, 1).to(device)\n",
        "                logits = model(src, tgt_input, src_mask, tgt_mask, src_padding_mask, tgt_padding_mask)\n",
        "                logits = logits.view(-1, logits.shape[-1])\n",
        "                logits = torch.log_softmax(logits, dim=-1)\n",
        "                tgt_output = tgt_output.reshape(-1)\n",
        "                loss = seq2seq_loss_sgd_n(logits, tgt_output)\n",
        "                total_val_loss += loss.item()\n",
        "\n",
        "\n",
        "        avg_val_loss = total_val_loss / len(val_dataloader)\n",
        "        validation_loss.append(avg_val_loss)\n",
        "        print(f'Epoch {epoch+1}, Training Loss: {avg_train_loss:.4f}, Validation Loss: {avg_val_loss:.4f}')\n",
        "    return training_loss, validation_loss,model\n",
        "training_loss_sgd_n, validation_loss_sgd_n,model_sgd_n = train_and_evaluate(model_sgd_n, train_dataloader, val_dataloader, test_dataloader, optimizer, vocab_en, vocab_fr, seq2seq_loss_sgd_n, epochs=10)"
      ],
      "metadata": {
        "colab": {
          "base_uri": "https://localhost:8080/"
        },
        "id": "pxZP8AAteprU",
        "outputId": "6ab80360-38df-40e4-f538-9aedbb92f88e"
      },
      "execution_count": 16,
      "outputs": [
        {
          "output_type": "stream",
          "name": "stderr",
          "text": [
            "/usr/local/lib/python3.10/dist-packages/torch/nn/functional.py:5109: UserWarning: Support for mismatched key_padding_mask and attn_mask is deprecated. Use same type for both instead.\n",
            "  warnings.warn(\n"
          ]
        },
        {
          "output_type": "stream",
          "name": "stdout",
          "text": [
            "Epoch 1, Training Loss: 9.9108, Validation Loss: 9.0005\n",
            "Epoch 2, Training Loss: 8.5167, Validation Loss: 8.1189\n",
            "Epoch 3, Training Loss: 7.9378, Validation Loss: 7.7663\n",
            "Epoch 4, Training Loss: 7.6747, Validation Loss: 7.5762\n",
            "Epoch 5, Training Loss: 7.5200, Validation Loss: 7.4503\n",
            "Epoch 6, Training Loss: 7.4058, Validation Loss: 7.3459\n",
            "Epoch 7, Training Loss: 7.3067, Validation Loss: 7.2500\n",
            "Epoch 8, Training Loss: 7.2146, Validation Loss: 7.1560\n",
            "Epoch 9, Training Loss: 7.1198, Validation Loss: 7.0488\n",
            "Epoch 10, Training Loss: 7.0163, Validation Loss: 6.9451\n"
          ]
        }
      ]
    },
    {
      "cell_type": "code",
      "source": [
        "import matplotlib.pyplot as plt\n",
        "epochs = range(1, len(training_loss_sgd_n) + 1)\n",
        "plt.plot(epochs, training_loss_sgd_n, 'b', label='Training Loss')\n",
        "plt.plot(epochs, validation_loss_sgd_n, 'r', label='Validation Loss')\n",
        "plt.title('Training and Validation Loss')\n",
        "plt.xlabel('Epochs')\n",
        "plt.ylabel('Loss')\n",
        "plt.legend()\n",
        "plt.show()"
      ],
      "metadata": {
        "colab": {
          "base_uri": "https://localhost:8080/",
          "height": 472
        },
        "id": "WRVLCqMJffxG",
        "outputId": "92a2fda0-be5a-454d-8a89-4ab3a7547dc6"
      },
      "execution_count": 17,
      "outputs": [
        {
          "output_type": "display_data",
          "data": {
            "text/plain": [
              "<Figure size 640x480 with 1 Axes>"
            ],
            "image/png": "[encoded data removed]"
          },
          "metadata": {}
        }
      ]
    },
    {
      "cell_type": "code",
      "source": [
        "torch.save(model_sgd_n.state_dict(), '/content/drive/MyDrive/SGD/absolute_positional_encoding/sparsecategoricalcrossentropy/model_sgd_n_state.pkl')\n",
        "torch.save(model_sgd_n, '/content/drive/MyDrive/SGD/absolute_positional_encoding/sparsecategoricalcrossentropy/model_sgd_n.pt')"
      ],
      "metadata": {
        "id": "RrK_HoeYfmbc"
      },
      "execution_count": 18,
      "outputs": []
    },
    {
      "cell_type": "code",
      "source": [
        "model_sgd_n_metrics = {'training loss': training_loss_sgd_n, 'validation loss': validation_loss_sgd_n}\n",
        "torch.save(model_sgd_n_metrics, '/content/drive/MyDrive/SGD/absolute_positional_encoding/sparsecategoricalcrossentropy/model_sgd_n_metrics.pkl')"
      ],
      "metadata": {
        "id": "hJ5s8lOagLSP"
      },
      "execution_count": 19,
      "outputs": []
    }
  ]
}